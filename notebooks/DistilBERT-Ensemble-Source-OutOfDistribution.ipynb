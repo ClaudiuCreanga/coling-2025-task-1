{
 "cells": [
  {
   "cell_type": "code",
   "execution_count": null,
   "metadata": {},
   "outputs": [],
   "source": [
    "import sys\n",
    "import comet_ml\n",
    "import torch\n",
    "\n",
    "import numpy as np\n",
    "\n",
    "from sklearn.metrics import (\n",
    "    f1_score, confusion_matrix, classification_report,\n",
    "    balanced_accuracy_score, accuracy_score,\n",
    ")\n",
    "# from transformers.integrations import CometCallback\n",
    "\n",
    "sys.path.append('..')\n",
    "from lib.utils import set_seed, get_device\n",
    "from lib.utils.constants import RANDOM_SEED\n",
    "from lib.data.loading import pd_read_jsonl_file"
   ]
  },
  {
   "cell_type": "code",
   "execution_count": 2,
   "metadata": {},
   "outputs": [],
   "source": [
    "# import os\n",
    "# from dotenv import load_dotenv\n",
    "\n",
    "# load_dotenv()\n",
    "\n",
    "# comet_api_key = os.getenv(\"COMET_API_KEY\")\n",
    "# os.environ[\"CUDA_VISIBLE_DEVICES\"]=\"0,1\""
   ]
  },
  {
   "cell_type": "code",
   "execution_count": 12,
   "metadata": {},
   "outputs": [],
   "source": [
    "import torch\n",
    "\n",
    "torch.cuda.empty_cache()"
   ]
  },
  {
   "cell_type": "code",
   "execution_count": 3,
   "metadata": {},
   "outputs": [
    {
     "name": "stdout",
     "output_type": "stream",
     "text": [
      "Using device: cuda\n"
     ]
    }
   ],
   "source": [
    "set_seed(RANDOM_SEED)\n",
    "\n",
    "DEVICE = get_device()\n",
    "print(f'Using device: {DEVICE}')"
   ]
  },
  {
   "cell_type": "code",
   "execution_count": 4,
   "metadata": {},
   "outputs": [],
   "source": [
    "df_en_train = pd_read_jsonl_file('../data/en_train.jsonl')\n",
    "df_en_dev = pd_read_jsonl_file('../data/en_dev.jsonl')\n",
    "df_en_test = pd_read_jsonl_file('../data/en_devtest_text_id_only.jsonl')"
   ]
  },
  {
   "cell_type": "code",
   "execution_count": 5,
   "metadata": {},
   "outputs": [
    {
     "name": "stdout",
     "output_type": "stream",
     "text": [
      "<class 'pandas.core.frame.DataFrame'>\n",
      "RangeIndex: 610767 entries, 0 to 610766\n",
      "Data columns (total 7 columns):\n",
      " #   Column      Non-Null Count   Dtype \n",
      "---  ------      --------------   ----- \n",
      " 0   id          610767 non-null  object\n",
      " 1   source      610767 non-null  object\n",
      " 2   sub_source  610767 non-null  object\n",
      " 3   lang        610767 non-null  object\n",
      " 4   model       610767 non-null  object\n",
      " 5   label       610767 non-null  int64 \n",
      " 6   text        610767 non-null  object\n",
      "dtypes: int64(1), object(6)\n",
      "memory usage: 32.6+ MB\n"
     ]
    }
   ],
   "source": [
    "df_en_train.info()"
   ]
  },
  {
   "cell_type": "code",
   "execution_count": 6,
   "metadata": {},
   "outputs": [
    {
     "data": {
      "text/html": [
       "<div>\n",
       "<style scoped>\n",
       "    .dataframe tbody tr th:only-of-type {\n",
       "        vertical-align: middle;\n",
       "    }\n",
       "\n",
       "    .dataframe tbody tr th {\n",
       "        vertical-align: top;\n",
       "    }\n",
       "\n",
       "    .dataframe thead th {\n",
       "        text-align: right;\n",
       "    }\n",
       "</style>\n",
       "<table border=\"1\" class=\"dataframe\">\n",
       "  <thead>\n",
       "    <tr style=\"text-align: right;\">\n",
       "      <th></th>\n",
       "      <th>id</th>\n",
       "      <th>source</th>\n",
       "      <th>sub_source</th>\n",
       "      <th>lang</th>\n",
       "      <th>model</th>\n",
       "      <th>label</th>\n",
       "      <th>text</th>\n",
       "    </tr>\n",
       "  </thead>\n",
       "  <tbody>\n",
       "    <tr>\n",
       "      <th>0</th>\n",
       "      <td>f05034ca-d1da-445d-a6a2-5869ade0dfc3</td>\n",
       "      <td>m4gt</td>\n",
       "      <td>reddit</td>\n",
       "      <td>en</td>\n",
       "      <td>llama3-8b</td>\n",
       "      <td>1</td>\n",
       "      <td>Hitler's plans for the succession and power st...</td>\n",
       "    </tr>\n",
       "    <tr>\n",
       "      <th>1</th>\n",
       "      <td>e7d7fe23-3709-4e14-aa2d-d76821dcbdf6</td>\n",
       "      <td>mage</td>\n",
       "      <td>squad</td>\n",
       "      <td>en</td>\n",
       "      <td>human</td>\n",
       "      <td>0</td>\n",
       "      <td>The Bush administration then turned its attent...</td>\n",
       "    </tr>\n",
       "    <tr>\n",
       "      <th>2</th>\n",
       "      <td>1a68d42e-4202-4e36-bceb-02d693440a14</td>\n",
       "      <td>mage</td>\n",
       "      <td>yelp</td>\n",
       "      <td>en</td>\n",
       "      <td>human</td>\n",
       "      <td>0</td>\n",
       "      <td>Really really the best pedi ever! Pho was so a...</td>\n",
       "    </tr>\n",
       "    <tr>\n",
       "      <th>3</th>\n",
       "      <td>5de844ab-c197-4378-b144-c3a46e3f5b67</td>\n",
       "      <td>mage</td>\n",
       "      <td>xsum</td>\n",
       "      <td>en</td>\n",
       "      <td>human</td>\n",
       "      <td>0</td>\n",
       "      <td>The PS42m MV Loch Seaforth made its first pass...</td>\n",
       "    </tr>\n",
       "    <tr>\n",
       "      <th>4</th>\n",
       "      <td>cdf050ad-7d90-4235-b7c6-46ca6cfc4382</td>\n",
       "      <td>m4gt</td>\n",
       "      <td>wikipedia</td>\n",
       "      <td>en</td>\n",
       "      <td>human</td>\n",
       "      <td>0</td>\n",
       "      <td>Malta participated in the Eurovision Song Cont...</td>\n",
       "    </tr>\n",
       "  </tbody>\n",
       "</table>\n",
       "</div>"
      ],
      "text/plain": [
       "                                     id source sub_source lang      model  \\\n",
       "0  f05034ca-d1da-445d-a6a2-5869ade0dfc3   m4gt     reddit   en  llama3-8b   \n",
       "1  e7d7fe23-3709-4e14-aa2d-d76821dcbdf6   mage      squad   en      human   \n",
       "2  1a68d42e-4202-4e36-bceb-02d693440a14   mage       yelp   en      human   \n",
       "3  5de844ab-c197-4378-b144-c3a46e3f5b67   mage       xsum   en      human   \n",
       "4  cdf050ad-7d90-4235-b7c6-46ca6cfc4382   m4gt  wikipedia   en      human   \n",
       "\n",
       "   label                                               text  \n",
       "0      1  Hitler's plans for the succession and power st...  \n",
       "1      0  The Bush administration then turned its attent...  \n",
       "2      0  Really really the best pedi ever! Pho was so a...  \n",
       "3      0  The PS42m MV Loch Seaforth made its first pass...  \n",
       "4      0  Malta participated in the Eurovision Song Cont...  "
      ]
     },
     "execution_count": 6,
     "metadata": {},
     "output_type": "execute_result"
    }
   ],
   "source": [
    "df_en_train.head()"
   ]
  },
  {
   "cell_type": "code",
   "execution_count": 7,
   "metadata": {},
   "outputs": [],
   "source": [
    "MODEL_NAME = \"facebook/xlm-roberta-xl\""
   ]
  },
  {
   "cell_type": "code",
   "execution_count": 8,
   "metadata": {},
   "outputs": [],
   "source": [
    "from transformers import AutoTokenizer\n",
    "\n",
    "tokenizer = AutoTokenizer.from_pretrained(MODEL_NAME)"
   ]
  },
  {
   "cell_type": "code",
   "execution_count": 12,
   "metadata": {},
   "outputs": [],
   "source": [
    "# Count the number of tokens in each sentence\n",
    "df_en_train['num_tokens'] = df_en_train['text'].apply(lambda x: len(tokenizer(x)['input_ids']))\n",
    "df_en_dev['num_tokens'] = df_en_dev['text'].apply(lambda x: len(tokenizer(x)['input_ids']))\n",
    "df_en_test['num_tokens'] = df_en_test['text'].apply(lambda x: len(tokenizer(x)['input_ids']))"
   ]
  },
  {
   "cell_type": "code",
   "execution_count": 13,
   "metadata": {},
   "outputs": [
    {
     "data": {
      "text/plain": [
       "count    610767.000000\n",
       "mean        349.455526\n",
       "std         344.300951\n",
       "min           3.000000\n",
       "25%         125.000000\n",
       "50%         271.000000\n",
       "75%         455.000000\n",
       "max        6057.000000\n",
       "Name: num_tokens, dtype: float64"
      ]
     },
     "execution_count": 13,
     "metadata": {},
     "output_type": "execute_result"
    }
   ],
   "source": [
    "df_en_train['num_tokens'].describe()"
   ]
  },
  {
   "cell_type": "code",
   "execution_count": 32,
   "metadata": {},
   "outputs": [
    {
     "data": {
      "text/plain": [
       "count    261758.000000\n",
       "mean        349.854977\n",
       "std         344.408232\n",
       "min           3.000000\n",
       "25%         125.000000\n",
       "50%         271.000000\n",
       "75%         456.000000\n",
       "max        5826.000000\n",
       "Name: num_tokens, dtype: float64"
      ]
     },
     "execution_count": 32,
     "metadata": {},
     "output_type": "execute_result"
    }
   ],
   "source": [
    "df_en_dev['num_tokens'].describe()"
   ]
  },
  {
   "cell_type": "code",
   "execution_count": 33,
   "metadata": {},
   "outputs": [
    {
     "data": {
      "text/plain": [
       "count    32557.000000\n",
       "mean       489.014283\n",
       "std        400.193016\n",
       "min         10.000000\n",
       "25%        285.000000\n",
       "50%        383.000000\n",
       "75%        571.000000\n",
       "max      20010.000000\n",
       "Name: num_tokens, dtype: float64"
      ]
     },
     "execution_count": 33,
     "metadata": {},
     "output_type": "execute_result"
    }
   ],
   "source": [
    "df_en_test['num_tokens'].describe()"
   ]
  },
  {
   "cell_type": "code",
   "execution_count": 58,
   "metadata": {},
   "outputs": [
    {
     "data": {
      "image/png": "[encoded data removed]",
      "text/plain": [
       "<Figure size 2500x1000 with 6 Axes>"
      ]
     },
     "metadata": {},
     "output_type": "display_data"
    }
   ],
   "source": [
    "# Create a distribution plot over the number of tokens grouped by dataset and label\n",
    "import seaborn as sns\n",
    "import matplotlib.pyplot as plt\n",
    "\n",
    "sns.set(style=\"whitegrid\")\n",
    "\n",
    "fig, ax = plt.subplots(2, 3, figsize=(25, 10))\n",
    "\n",
    "sns.histplot(df_en_train, x='num_tokens', hue='label', kde=True, ax=ax[0][0])\n",
    "sns.histplot(df_en_dev, x='num_tokens', hue='label', kde=True, ax=ax[0][1])\n",
    "sns.histplot(df_en_test, x='num_tokens', kde=True, ax=ax[0][2])\n",
    "\n",
    "sns.histplot(df_en_train, x='num_tokens', hue='label', kde=True, ax=ax[1][0])\n",
    "sns.histplot(df_en_dev, x='num_tokens', hue='label', kde=True, ax=ax[1][1])\n",
    "sns.histplot(df_en_test, x='num_tokens', kde=True, ax=ax[1][2])\n",
    "\n",
    "ax[0][0].set_title('Train')\n",
    "ax[0][0].set_xlim(left=-50)\n",
    "ax[0][1].set_title('Dev')\n",
    "ax[0][1].set_xlim(left=-50)\n",
    "ax[0][2].set_title('Test')\n",
    "ax[0][2].set_xlim(left=-50)\n",
    "\n",
    "ax[1][0].set_title('Train')\n",
    "ax[1][0].set_xlim(left=-10, right=2500)\n",
    "ax[1][1].set_title('Dev')\n",
    "ax[1][1].set_xlim(left=-10, right=2500)\n",
    "ax[1][2].set_title('Test')\n",
    "ax[1][2].set_xlim(left=-10, right=2500)\n",
    "\n",
    "plt.show()"
   ]
  },
  {
   "cell_type": "markdown",
   "metadata": {},
   "source": [
    "# Load model"
   ]
  },
  {
   "cell_type": "code",
   "execution_count": 13,
   "metadata": {},
   "outputs": [],
   "source": [
    "MODEL_NAME = \"distilbert/distilbert-base-cased\""
   ]
  },
  {
   "cell_type": "code",
   "execution_count": 14,
   "metadata": {},
   "outputs": [
    {
     "name": "stderr",
     "output_type": "stream",
     "text": [
      "Some weights of the model checkpoint at distilbert/distilbert-base-cased were not used when initializing DistilBertForSequenceClassification: ['vocab_layer_norm.bias', 'vocab_transform.bias', 'vocab_projector.bias', 'vocab_layer_norm.weight', 'vocab_transform.weight']\n",
      "- This IS expected if you are initializing DistilBertForSequenceClassification from the checkpoint of a model trained on another task or with another architecture (e.g. initializing a BertForSequenceClassification model from a BertForPreTraining model).\n",
      "- This IS NOT expected if you are initializing DistilBertForSequenceClassification from the checkpoint of a model that you expect to be exactly identical (initializing a BertForSequenceClassification model from a BertForSequenceClassification model).\n",
      "Some weights of DistilBertForSequenceClassification were not initialized from the model checkpoint at distilbert/distilbert-base-cased and are newly initialized: ['pre_classifier.bias', 'classifier.weight', 'pre_classifier.weight', 'classifier.bias']\n",
      "You should probably TRAIN this model on a down-stream task to be able to use it for predictions and inference.\n"
     ]
    }
   ],
   "source": [
    "from transformers import AutoTokenizer, AutoModelForSequenceClassification\n",
    "\n",
    "tokenizer = AutoTokenizer.from_pretrained(MODEL_NAME)\n",
    "model = AutoModelForSequenceClassification.from_pretrained(MODEL_NAME, num_labels=2)"
   ]
  },
  {
   "cell_type": "code",
   "execution_count": 15,
   "metadata": {},
   "outputs": [
    {
     "data": {
      "text/plain": [
       "DistilBertForSequenceClassification(\n",
       "  (distilbert): DistilBertModel(\n",
       "    (embeddings): Embeddings(\n",
       "      (word_embeddings): Embedding(28996, 768, padding_idx=0)\n",
       "      (position_embeddings): Embedding(512, 768)\n",
       "      (LayerNorm): LayerNorm((768,), eps=1e-12, elementwise_affine=True)\n",
       "      (dropout): Dropout(p=0.1, inplace=False)\n",
       "    )\n",
       "    (transformer): Transformer(\n",
       "      (layer): ModuleList(\n",
       "        (0-5): 6 x TransformerBlock(\n",
       "          (attention): MultiHeadSelfAttention(\n",
       "            (dropout): Dropout(p=0.1, inplace=False)\n",
       "            (q_lin): Linear(in_features=768, out_features=768, bias=True)\n",
       "            (k_lin): Linear(in_features=768, out_features=768, bias=True)\n",
       "            (v_lin): Linear(in_features=768, out_features=768, bias=True)\n",
       "            (out_lin): Linear(in_features=768, out_features=768, bias=True)\n",
       "          )\n",
       "          (sa_layer_norm): LayerNorm((768,), eps=1e-12, elementwise_affine=True)\n",
       "          (ffn): FFN(\n",
       "            (dropout): Dropout(p=0.1, inplace=False)\n",
       "            (lin1): Linear(in_features=768, out_features=3072, bias=True)\n",
       "            (lin2): Linear(in_features=3072, out_features=768, bias=True)\n",
       "            (activation): GELUActivation()\n",
       "          )\n",
       "          (output_layer_norm): LayerNorm((768,), eps=1e-12, elementwise_affine=True)\n",
       "        )\n",
       "      )\n",
       "    )\n",
       "  )\n",
       "  (pre_classifier): Linear(in_features=768, out_features=768, bias=True)\n",
       "  (classifier): Linear(in_features=768, out_features=2, bias=True)\n",
       "  (dropout): Dropout(p=0.2, inplace=False)\n",
       ")"
      ]
     },
     "execution_count": 15,
     "metadata": {},
     "output_type": "execute_result"
    }
   ],
   "source": [
    "model"
   ]
  },
  {
   "cell_type": "code",
   "execution_count": 16,
   "metadata": {},
   "outputs": [],
   "source": [
    "for param in model.parameters():\n",
    "    param.requires_grad = False\n",
    "\n",
    "for param in model.distilbert.transformer.layer[-1].parameters():\n",
    "    param.requires_grad = True\n",
    "\n",
    "for param in model.classifier.parameters():\n",
    "    param.requires_grad = True"
   ]
  },
  {
   "cell_type": "code",
   "execution_count": 17,
   "metadata": {},
   "outputs": [
    {
     "name": "stdout",
     "output_type": "stream",
     "text": [
      "distilbert.transformer.layer.5.attention.q_lin.weight\n",
      "distilbert.transformer.layer.5.attention.q_lin.bias\n",
      "distilbert.transformer.layer.5.attention.k_lin.weight\n",
      "distilbert.transformer.layer.5.attention.k_lin.bias\n",
      "distilbert.transformer.layer.5.attention.v_lin.weight\n",
      "distilbert.transformer.layer.5.attention.v_lin.bias\n",
      "distilbert.transformer.layer.5.attention.out_lin.weight\n",
      "distilbert.transformer.layer.5.attention.out_lin.bias\n",
      "distilbert.transformer.layer.5.sa_layer_norm.weight\n",
      "distilbert.transformer.layer.5.sa_layer_norm.bias\n",
      "distilbert.transformer.layer.5.ffn.lin1.weight\n",
      "distilbert.transformer.layer.5.ffn.lin1.bias\n",
      "distilbert.transformer.layer.5.ffn.lin2.weight\n",
      "distilbert.transformer.layer.5.ffn.lin2.bias\n",
      "distilbert.transformer.layer.5.output_layer_norm.weight\n",
      "distilbert.transformer.layer.5.output_layer_norm.bias\n",
      "classifier.weight\n",
      "classifier.bias\n"
     ]
    }
   ],
   "source": [
    "for name, param in model.named_parameters():\n",
    "    if param.requires_grad:\n",
    "        print(name)"
   ]
  },
  {
   "cell_type": "code",
   "execution_count": 18,
   "metadata": {},
   "outputs": [
    {
     "name": "stdout",
     "output_type": "stream",
     "text": [
      "Trainable parameters: 7089410 (10.78%)\n"
     ]
    }
   ],
   "source": [
    "def get_num_parameters(model):\n",
    "    return sum(p.numel() for p in model.parameters() if p.requires_grad)\n",
    "\n",
    "\n",
    "trainable_params = get_num_parameters(model)\n",
    "print(f'Trainable parameters: {trainable_params} ({trainable_params / model.num_parameters():.2%})')"
   ]
  },
  {
   "cell_type": "markdown",
   "metadata": {
    "jp-MarkdownHeadingCollapsed": true
   },
   "source": [
    "# Measure performance before training/fine-tuning the model"
   ]
  },
  {
   "cell_type": "code",
   "execution_count": 11,
   "metadata": {},
   "outputs": [
    {
     "name": "stderr",
     "output_type": "stream",
     "text": [
      "100%|██████████| 8180/8180 [08:46<00:00, 15.53it/s]\n"
     ]
    },
    {
     "data": {
      "text/plain": [
       "{'f1': 0.38856221156147674,\n",
       " 'accuracy': 0.6211347886215512,\n",
       " 'balanced_accuracy': 0.498585638605751,\n",
       " 'confusion_matrix': array([[   575,  97753],\n",
       "        [  1418, 162012]]),\n",
       " 'classification_report': '              precision    recall  f1-score   support\\n\\n           0       0.29      0.01      0.01     98328\\n           1       0.62      0.99      0.77    163430\\n\\n    accuracy                           0.62    261758\\n   macro avg       0.46      0.50      0.39    261758\\nweighted avg       0.50      0.62      0.48    261758\\n'}"
      ]
     },
     "execution_count": 11,
     "metadata": {},
     "output_type": "execute_result"
    }
   ],
   "source": [
    "import torch\n",
    "\n",
    "from tqdm import tqdm\n",
    "\n",
    "\n",
    "def get_performance_metrics(y_true, y_pred):\n",
    "    f1 = f1_score(y_true, y_pred, average='macro')\n",
    "    acc = accuracy_score(y_true, y_pred)\n",
    "    bal_acc = balanced_accuracy_score(y_true, y_pred)\n",
    "    cm = confusion_matrix(y_true, y_pred)\n",
    "    cr = classification_report(y_true, y_pred)\n",
    "\n",
    "    return {\n",
    "        'f1': f1,\n",
    "        'accuracy': acc,\n",
    "        'balanced_accuracy': bal_acc,\n",
    "        'confusion_matrix': cm,\n",
    "        'classification_report': cr\n",
    "    }\n",
    "\n",
    "\n",
    "def measure_initial_performance(model, tokenizer, df_test, device, max_length=512, batch_size=32):\n",
    "    model.to(device)\n",
    "    model.eval()\n",
    "\n",
    "    test_samples = df_test.text.tolist()\n",
    "\n",
    "    outputs = []\n",
    "    for i in tqdm(range(0, len(test_samples), batch_size)):\n",
    "        batch = test_samples[i:i + batch_size]\n",
    "        inputs = tokenizer(\n",
    "            batch,\n",
    "            padding=True,\n",
    "            truncation=True,\n",
    "            max_length=max_length,\n",
    "            return_tensors='pt'\n",
    "        )\n",
    "        inputs = {k: v.to(device) for k, v in inputs.items()}\n",
    "\n",
    "        with torch.no_grad():\n",
    "            output = model(**inputs)\n",
    "            outputs.append(output.logits)\n",
    "\n",
    "    outputs = torch.cat(outputs, dim=0)\n",
    "    predictions = torch.argmax(outputs, dim=1).cpu().numpy()\n",
    "\n",
    "    performance = get_performance_metrics(df_test.label, predictions)\n",
    "    return performance\n",
    "\n",
    "\n",
    "initial_performance = measure_initial_performance(model, tokenizer, df_en_dev, DEVICE)\n",
    "initial_performance"
   ]
  },
  {
   "cell_type": "code",
   "execution_count": 11,
   "metadata": {},
   "outputs": [],
   "source": [
    "def test_samples(model, tokenizer, df, device, max_length=512):\n",
    "    model.to(device)\n",
    "    model.eval()\n",
    "\n",
    "    test_samples = df.text.tolist()[:5]\n",
    "    inputs = tokenizer(\n",
    "        test_samples,\n",
    "        padding=True,\n",
    "        truncation=True,\n",
    "        max_length=max_length,\n",
    "        return_tensors='pt'\n",
    "    )\n",
    "    inputs = {k: v.to(device) for k, v in inputs.items()}\n",
    "\n",
    "    with torch.no_grad():\n",
    "        outputs = model(**inputs).logits\n",
    "\n",
    "    # print(outputs.shape)\n",
    "    print(outputs)"
   ]
  },
  {
   "cell_type": "code",
   "execution_count": 12,
   "metadata": {},
   "outputs": [
    {
     "name": "stdout",
     "output_type": "stream",
     "text": [
      "tensor([[-0.0314,  0.0181],\n",
      "        [-0.0319,  0.0190],\n",
      "        [-0.0338,  0.0227],\n",
      "        [-0.0318,  0.0197],\n",
      "        [-0.0323,  0.0195]], device='cuda:0')\n"
     ]
    }
   ],
   "source": [
    "test_samples(model, tokenizer, df_en_train, DEVICE)"
   ]
  },
  {
   "cell_type": "markdown",
   "metadata": {},
   "source": [
    "# Fine-tune the model"
   ]
  },
  {
   "cell_type": "code",
   "execution_count": 19,
   "metadata": {},
   "outputs": [
    {
     "data": {
      "text/plain": [
       "tensor([0.6252, 0.3748])"
      ]
     },
     "execution_count": 19,
     "metadata": {},
     "output_type": "execute_result"
    }
   ],
   "source": [
    "class_weights = (\n",
    "    1 / df_en_train.label.value_counts(normalize=True).sort_index()\n",
    ").tolist()\n",
    "class_weights = torch.tensor(class_weights)\n",
    "class_weights = class_weights / class_weights.sum()\n",
    "\n",
    "class_weights"
   ]
  },
  {
   "cell_type": "code",
   "execution_count": 20,
   "metadata": {},
   "outputs": [],
   "source": [
    "from datasets import Dataset, DatasetDict\n",
    "\n",
    "ds_train = Dataset.from_pandas(df_en_train)\n",
    "ds_dev = Dataset.from_pandas(df_en_dev)\n",
    "ds_test = Dataset.from_pandas(df_en_test)"
   ]
  },
  {
   "cell_type": "code",
   "execution_count": 21,
   "metadata": {},
   "outputs": [
    {
     "data": {
      "text/plain": [
       "Dataset({\n",
       "    features: ['id', 'source', 'sub_source', 'lang', 'model', 'label', 'text'],\n",
       "    num_rows: 610767\n",
       "})"
      ]
     },
     "execution_count": 21,
     "metadata": {},
     "output_type": "execute_result"
    }
   ],
   "source": [
    "ds_train"
   ]
  },
  {
   "cell_type": "code",
   "execution_count": 22,
   "metadata": {},
   "outputs": [],
   "source": [
    "ds_train_shuffled = ds_train.shuffle(seed=RANDOM_SEED)"
   ]
  },
  {
   "cell_type": "code",
   "execution_count": 23,
   "metadata": {},
   "outputs": [],
   "source": [
    "dataset = DatasetDict({\n",
    "    'train': ds_train_shuffled,\n",
    "    'dev': ds_dev,\n",
    "    'test': ds_test\n",
    "})"
   ]
  },
  {
   "cell_type": "code",
   "execution_count": 24,
   "metadata": {},
   "outputs": [
    {
     "data": {
      "text/plain": [
       "DatasetDict({\n",
       "    train: Dataset({\n",
       "        features: ['id', 'source', 'sub_source', 'lang', 'model', 'label', 'text'],\n",
       "        num_rows: 610767\n",
       "    })\n",
       "    dev: Dataset({\n",
       "        features: ['id', 'source', 'sub_source', 'lang', 'model', 'label', 'text'],\n",
       "        num_rows: 261758\n",
       "    })\n",
       "    test: Dataset({\n",
       "        features: ['id', 'text'],\n",
       "        num_rows: 32557\n",
       "    })\n",
       "})"
      ]
     },
     "execution_count": 24,
     "metadata": {},
     "output_type": "execute_result"
    }
   ],
   "source": [
    "dataset"
   ]
  },
  {
   "cell_type": "code",
   "execution_count": 25,
   "metadata": {},
   "outputs": [
    {
     "data": {
      "application/vnd.jupyter.widget-view+json": {
       "model_id": "a802806545b44a57ac789c26e714b37b",
       "version_major": 2,
       "version_minor": 0
      },
      "text/plain": [
       "Map:   0%|          | 0/610767 [00:00<?, ? examples/s]"
      ]
     },
     "metadata": {},
     "output_type": "display_data"
    },
    {
     "data": {
      "application/vnd.jupyter.widget-view+json": {
       "model_id": "621760fb8e674aa492fcff14c43aa61d",
       "version_major": 2,
       "version_minor": 0
      },
      "text/plain": [
       "Map:   0%|          | 0/261758 [00:00<?, ? examples/s]"
      ]
     },
     "metadata": {},
     "output_type": "display_data"
    },
    {
     "data": {
      "application/vnd.jupyter.widget-view+json": {
       "model_id": "2a2971c635b4497d9372edf48b2a03c8",
       "version_major": 2,
       "version_minor": 0
      },
      "text/plain": [
       "Map:   0%|          | 0/32557 [00:00<?, ? examples/s]"
      ]
     },
     "metadata": {},
     "output_type": "display_data"
    }
   ],
   "source": [
    "MAX_LEN = 512\n",
    "# col_to_delete = ['source', 'sub_source', 'lang', 'model']\n",
    "\n",
    "\n",
    "def preprocess_dataset(ds):\n",
    "    return tokenizer(ds['text'], truncation=True, max_length=MAX_LEN)\n",
    "\n",
    "\n",
    "tokenized_datasets = dataset.map(preprocess_dataset, batched=True)\n",
    "tokenized_datasets.set_format(\"torch\")\n",
    "     "
   ]
  },
  {
   "cell_type": "code",
   "execution_count": 26,
   "metadata": {},
   "outputs": [
    {
     "data": {
      "text/plain": [
       "DatasetDict({\n",
       "    train: Dataset({\n",
       "        features: ['id', 'source', 'sub_source', 'lang', 'model', 'label', 'text', 'input_ids', 'attention_mask'],\n",
       "        num_rows: 610767\n",
       "    })\n",
       "    dev: Dataset({\n",
       "        features: ['id', 'source', 'sub_source', 'lang', 'model', 'label', 'text', 'input_ids', 'attention_mask'],\n",
       "        num_rows: 261758\n",
       "    })\n",
       "    test: Dataset({\n",
       "        features: ['id', 'text', 'input_ids', 'attention_mask'],\n",
       "        num_rows: 32557\n",
       "    })\n",
       "})"
      ]
     },
     "execution_count": 26,
     "metadata": {},
     "output_type": "execute_result"
    }
   ],
   "source": [
    "tokenized_datasets"
   ]
  },
  {
   "cell_type": "code",
   "execution_count": 27,
   "metadata": {},
   "outputs": [],
   "source": [
    "from transformers import DataCollatorWithPadding\n",
    "\n",
    "collate_fn = DataCollatorWithPadding(tokenizer=tokenizer)"
   ]
  },
  {
   "cell_type": "code",
   "execution_count": 28,
   "metadata": {},
   "outputs": [],
   "source": [
    "def compute_metrics(eval_pred):\n",
    "    predictions, labels = eval_pred\n",
    "    predictions = np.argmax(predictions, axis=1)\n",
    "\n",
    "    return {\n",
    "        'macro_f1': f1_score(predictions, labels, average='macro'),\n",
    "        'accuracy': accuracy_score(predictions,labels),\n",
    "        'balanced_accuracy': balanced_accuracy_score(predictions, labels),\n",
    "    }"
   ]
  },
  {
   "cell_type": "code",
   "execution_count": 29,
   "metadata": {},
   "outputs": [],
   "source": [
    "import torch\n",
    "import torch.nn.functional as F\n",
    "\n",
    "from transformers import Trainer\n",
    "\n",
    "\n",
    "class WeightedCrossEntropyTrainer(Trainer):\n",
    "    def __init__(self, *args, class_weights=None, **kwargs):\n",
    "        super().__init__(*args, **kwargs)\n",
    "        if class_weights is not None:\n",
    "            self.class_weights = torch.tensor(\n",
    "                class_weights, dtype=torch.float32\n",
    "        ).to(self.args.device)\n",
    "        else:\n",
    "            self.class_weights = None\n",
    "\n",
    "    def compute_loss(self, model, inputs, return_outputs=False):\n",
    "        # Extract labels and convert them to long type for cross_entropy\n",
    "        labels = inputs.pop(\"labels\").long()\n",
    "\n",
    "        # Forward pass\n",
    "        outputs = model(**inputs)\n",
    "\n",
    "        # Extract logits assuming they are directly outputted by the model\n",
    "        logits = outputs.get('logits')\n",
    "\n",
    "        # Compute custom loss with class weights for imbalanced data handling\n",
    "        if self.class_weights is not None:\n",
    "            loss = F.cross_entropy(logits, labels, weight=self.class_weights)\n",
    "        else:\n",
    "            loss = F.cross_entropy(logits, labels)\n",
    "\n",
    "        return (loss, outputs) if return_outputs else loss"
   ]
  },
  {
   "cell_type": "code",
   "execution_count": 22,
   "metadata": {},
   "outputs": [],
   "source": [
    "# from comet_ml import Experiment\n",
    "# from comet_ml.integration.pytorch import log_model\n",
    "\n",
    "# experiment = Experiment(\n",
    "#     api_key=comet_api_key,\n",
    "#     project_name=\"mgt-detection-coling-2025\",\n",
    "#     workspace=\"unibuc-phd\",\n",
    "# )"
   ]
  },
  {
   "cell_type": "code",
   "execution_count": 30,
   "metadata": {},
   "outputs": [],
   "source": [
    "params = {\n",
    "    \"learning_rate\": 2e-4,\n",
    "    \"num_train_epochs\": 2,\n",
    "    \"weight_decay\": 1e-2,\n",
    "    \"seed\": RANDOM_SEED,\n",
    "}\n",
    "\n",
    "# experiment.log_parameters(params)"
   ]
  },
  {
   "cell_type": "code",
   "execution_count": 31,
   "metadata": {},
   "outputs": [],
   "source": [
    "from transformers import TrainingArguments\n",
    "\n",
    "training_args = TrainingArguments(\n",
    "    output_dir='../results',\n",
    "    learning_rate=params[\"learning_rate\"],\n",
    "    per_device_train_batch_size=32,\n",
    "    per_device_eval_batch_size=16,\n",
    "    num_train_epochs=params[\"num_train_epochs\"],\n",
    "    weight_decay=params[\"weight_decay\"],\n",
    "    evaluation_strategy='epoch',\n",
    "    save_strategy='epoch',\n",
    "    load_best_model_at_end=True,\n",
    "    # report_to=\"comet_ml\",\n",
    "    seed=params[\"seed\"],\n",
    ")"
   ]
  },
  {
   "cell_type": "code",
   "execution_count": 32,
   "metadata": {},
   "outputs": [
    {
     "name": "stderr",
     "output_type": "stream",
     "text": [
      "/tmp/ipykernel_10714/3314886341.py:11: UserWarning: To copy construct from a tensor, it is recommended to use sourceTensor.clone().detach() or sourceTensor.clone().detach().requires_grad_(True), rather than torch.tensor(sourceTensor).\n",
      "  self.class_weights = torch.tensor(\n"
     ]
    }
   ],
   "source": [
    "trainer = WeightedCrossEntropyTrainer(\n",
    "    model=model,\n",
    "    args=training_args,\n",
    "    train_dataset=tokenized_datasets['train'],\n",
    "    eval_dataset=tokenized_datasets['dev'],\n",
    "    tokenizer=tokenizer,\n",
    "    data_collator=collate_fn,\n",
    "    compute_metrics=compute_metrics,\n",
    "    class_weights=class_weights,\n",
    "    # callbacks=[CometCallback()],\n",
    ")"
   ]
  },
  {
   "cell_type": "code",
   "execution_count": 33,
   "metadata": {},
   "outputs": [
    {
     "name": "stderr",
     "output_type": "stream",
     "text": [
      "/root/.conda/envs/pytorch/lib/python3.11/site-packages/transformers/optimization.py:391: FutureWarning: This implementation of AdamW is deprecated and will be removed in a future version. Use the PyTorch implementation torch.optim.AdamW instead, or set `no_deprecation_warning=True` to disable this warning\n",
      "  warnings.warn(\n",
      "You're using a DistilBertTokenizerFast tokenizer. Please note that with a fast tokenizer, using the `__call__` method is faster than using a method to encode the text followed by a call to the `pad` method to get a padded encoding.\n"
     ]
    },
    {
     "data": {
      "text/html": [
       "\n",
       "    <div>\n",
       "      \n",
       "      <progress value='38174' max='38174' style='width:300px; height:20px; vertical-align: middle;'></progress>\n",
       "      [38174/38174 1:22:25, Epoch 2/2]\n",
       "    </div>\n",
       "    <table border=\"1\" class=\"dataframe\">\n",
       "  <thead>\n",
       " <tr style=\"text-align: left;\">\n",
       "      <th>Epoch</th>\n",
       "      <th>Training Loss</th>\n",
       "      <th>Validation Loss</th>\n",
       "      <th>Macro F1</th>\n",
       "      <th>Accuracy</th>\n",
       "      <th>Balanced Accuracy</th>\n",
       "    </tr>\n",
       "  </thead>\n",
       "  <tbody>\n",
       "    <tr>\n",
       "      <td>1</td>\n",
       "      <td>0.152700</td>\n",
       "      <td>0.274004</td>\n",
       "      <td>0.909858</td>\n",
       "      <td>0.917825</td>\n",
       "      <td>0.925741</td>\n",
       "    </tr>\n",
       "    <tr>\n",
       "      <td>2</td>\n",
       "      <td>0.103700</td>\n",
       "      <td>0.208154</td>\n",
       "      <td>0.933510</td>\n",
       "      <td>0.938821</td>\n",
       "      <td>0.943946</td>\n",
       "    </tr>\n",
       "  </tbody>\n",
       "</table><p>"
      ],
      "text/plain": [
       "<IPython.core.display.HTML object>"
      ]
     },
     "metadata": {},
     "output_type": "display_data"
    }
   ],
   "source": [
    "train_result = trainer.train()"
   ]
  },
  {
   "cell_type": "code",
   "execution_count": 35,
   "metadata": {},
   "outputs": [
    {
     "name": "stdout",
     "output_type": "stream",
     "text": [
      "***** train metrics *****\n",
      "  epoch                    =         2.0\n",
      "  total_flos               = 150680484GF\n",
      "  train_loss               =      0.1619\n",
      "  train_runtime            =  1:22:25.98\n",
      "  train_samples            =      610767\n",
      "  train_samples_per_second =     246.975\n",
      "  train_steps_per_second   =       7.718\n"
     ]
    }
   ],
   "source": [
    "metrics = train_result.metrics\n",
    "max_train_samples = len(ds_train)\n",
    "metrics[\"train_samples\"] = min(max_train_samples, len(ds_train))\n",
    "trainer.log_metrics(\"train\", metrics)\n",
    "trainer.save_metrics(\"train\", metrics)\n",
    "trainer.save_state()"
   ]
  },
  {
   "cell_type": "code",
   "execution_count": 38,
   "metadata": {},
   "outputs": [],
   "source": [
    "trainer.save_model(\"saved_model\")"
   ]
  },
  {
   "cell_type": "code",
   "execution_count": 58,
   "metadata": {},
   "outputs": [
    {
     "data": {
      "text/plain": [
       "[tensor([  101,  1188,  1763,  2370,  1144,  1151,  5540,  9684,  2798, 10228,\n",
       "           119,  1422,  3547,  1575,  1117,  2261,  1177,   146,  1138,  1125,\n",
       "          1106,  1619,  1366,   119,  1599,  1117,  1610,  1400,  2423, 20580,\n",
       "          1105,  1470,  6312,  1107,  1103,  1331,  1195,  1686,  1107,  1110,\n",
       "         26641,   117,  1177,  1256,  1191,  1119,  1458,  1106,  1243,   170,\n",
       "          2261,  1119,  2010,   787,   189,  1129,  1682,  1106,  1243,  1213,\n",
       "           119,  1247,   787,   188,  1185,  1907,  1250,  1121,  1313,  5448,\n",
       "          1719,  1105,   146,  4031,  3828,   119,  1135,  4692,   170,  1974,\n",
       "          1106,  8239,  1103,  1610,   117,  1105,  1122,  1145,  4692,   170,\n",
       "          1974,  1106,  4417,   170,  1610,   119,  1370,  1103,  1763,  1160,\n",
       "          2277,  1195,  1138,  1151,  1177,  2795,  1105,  2869,  1195,  1577,\n",
       "           787,   189,  1256,  3940,   119,   146,  1921,  1400,  3004,  8128,\n",
       "          1105,  1195,  3004, 10020,  1105,  1400,  2094,   117,  1133,   146,\n",
       "           787,   182,  1171,  1106,  1961,  1141,  1104,  1515,  1185,  1948,\n",
       "          1286,  1166,   119,   146,   787,   182,  1774,  1106,  2025,  1111,\n",
       "          1103, 24955,  1942,   117,  1133,  1155,  1142,  6600,  1110, 12759,\n",
       "          1139,  2912,  1106,  2817,   119,   146,   787,   182,  4440,  1149,\n",
       "          1177,  6118,  1121,  1103,  6600,   119,   146,   787,  1396,  1125,\n",
       "          1139,  1669,  2967,  1551,  2693,  1217,  1113,  3485,  1654,  1272,\n",
       "          1104,  1103,  6600,   119,   146,  3055,  2434,  1139, 12574,  1105,\n",
       "          1208,  1122,   787,   188,  2423,   184,  1830, 21998,  5894,   117,\n",
       "           146,  1138,  1106,  4417,   170,  1207,  1141,  1105,   146,  5544,\n",
       "          1169,   787,   189,  8658,  1115,   119,   146,  1435,  1313,  1121,\n",
       "          1250,  1105,   146,  1821,  1177,  4871,  1133,   146,  1169,   787,\n",
       "           189,  2303,  6153,  1235,  9191,  1137,  1170,   117,  4040,  1169,\n",
       "           146,  2215,  6153,  1256,  1191,   146,  1321,  2946, 15683,   119,\n",
       "          1599,   146,  1138,  1106,  1243,  1146,  1120,   126,  2312,  1111,\n",
       "          1250,  1105,  9488,  1103,  5120,   119,   146,   787,   182,  1177,\n",
       "         11094,  1105, 11946,  1149,   119,   146,  1274,   787,   189,  1221,\n",
       "          1184,  1106,  1202,   119,   146,  1138,  1142,  4836,  2841,  1113,\n",
       "          1139,  2229,  1115,   146,  1169,   787,   189,  5854,  1228,   117,\n",
       "           146,  1198,  3683,   146,  1125,   170,  1550,  5860,  1137,  1380,\n",
       "          1106,  1198,  9474,  1155,  1139,  4736,  2645,   119,   146,  4819,\n",
       "          1217,  2869,  1176,  1142,   119,   102]),\n",
       " tensor([  101,  1192,  1221,  1293,  2121,  1380,  5115, 12163,  1190,  1122,\n",
       "          1541,  1110,   136,  1135,   112,   188,  1912,  1104,  1176,  1115,\n",
       "          1114,  2044,  7150,  1105,  1686,  7150,   119, 22449,   170,  1992,\n",
       "           184,  1233,   112,  3821,  1104,  5753,   119,  1337,   112,   188,\n",
       "          2044,  7150,   782,  1122,  1198,  7250,  1175,   119,  1986,  1341,\n",
       "          1164,  8184,  1146,  1240,  1376,  1711,  1137,  2104,   119,  1220,\n",
       "           112,  1231,  1686,  7150,  1272,  1152,  1169,  1815,  1213,   106,\n",
       "          2431,  1191,  1152, 18678,  1103,  1269,  1112,  1103,  3821,  1104,\n",
       "          5753,   117,  1152,  1547,  1631,  9310,   119,  1337,   112,   188,\n",
       "          1272,  1165,  1152,   192,  6512,  6415,  1105,  1815,   117,  1147,\n",
       "          2841, 23237,  1149,  1167,   119,  1135,   112,   188,  1176,  4004,\n",
       "           170,  1992,  2884,  1118,  3739,  6055,  1114,   170,  1910,   119,\n",
       "          1109,  2884,  1110,  1103,  1269,  2841,  1719,  1236,   117,  1133,\n",
       "          1122,  5115,  5477,  1114,  1494,  1272,  1103,  2841,  1110,  3416,\n",
       "           119,   102]),\n",
       " tensor([  101,  9954, 18778,  4571,  1105, 25128, 18547, 13117,  1104,  1286,\n",
       "          1120, 11077,   113, 10722,   114,  1105,  5250, 23984, 26600,  9485,\n",
       "           113, 27660, 27979,   114,  1110,  1696,  1111,  7300,  2635,  1104,\n",
       "          1317, 17688,  8131,   119,  7085, 19975, 20370, 14377,   113, 25827,\n",
       "          2240,   114,  3643,   186,  4746, 24936,  8670,  1104, 10722,  1105,\n",
       "         27660, 27979,  1194,  5173,  2734,   119,  1438,   117,  1175,  1110,\n",
       "           170,  2012,  1444,  1111,  1126,  3682,  3077,  6441,  1891,  3442,\n",
       "          1106,  1129,  3666,  1106, 17688, 25827,  2240,  1111, 25220,  3622,\n",
       "          1104, 10722,  1105, 27660, 27979,   119,  1130,  1142,  2025,   117,\n",
       "          1195,  4134,  1142,  8362, 11006,  7300,  1444,  1118, 12138,   170,\n",
       "          1207,  1996,  3776,   118,  1359,  6441,  1891,  5564,  1111,   186,\n",
       "         27280,  5783,  1104, 10722,  1105, 27660, 27979,  1114,  1344, 10893,\n",
       "          1105, 23442,  8096,   119,  3458,  3136,  1110,  1359,  1113,   170,\n",
       "          4321,   118,  2458, 14255,  6005, 18404,  1348, 18250,  2443,   113,\n",
       "         13597,   114,  1114,  1126, 25031, 11970,  5564,  1105,   170,  1207,\n",
       "          2445,  3053,  1115,  3643,  2698,  1105,  1167,  8026, 25628,  1104,\n",
       "          1103,  1171,  1643, 12736, 15446,  2116,  1359, 25161,   119,  1258,\n",
       "          2013,  1412,  2443,  1121, 14515,  1118,  1606,  1167,  1190,  2539,\n",
       "          2428, 22947, 25827,  2240,  4351,   113, 16346,  1116,   114,   117,\n",
       "          1195,  1138, 17428,  1412,  6441,  1891,  5564,  1106,  1103, 23676,\n",
       "          8101, 13041,  1381, 17688,  6441,  1891,  4506,  6757,  8519,   119,\n",
       "           154,  4746, 24936,  1105, 25220, 10540,  1116,   117,  3836,  1121,\n",
       "          1103,  6441,  1891,  4506,   117,  5057,  1115,  1103,  3000,  3442,\n",
       "          3890,  1103,  1352,   118,  1104,   118,  1103,   118,  1893, 15750,\n",
       "           113,  3078,   110,   114,   117,  2747,  1785,   113,  4850,   110,\n",
       "           114,   117, 13218,   113,  5706,   110,   114,   117,  1105,  8096,\n",
       "          3001,   113,  1275,  3071,  1107, 15175,  2591,   117,  1105,   128,\n",
       "           119,   126,  1904,  1107, 18701,   114,   119,   102])]"
      ]
     },
     "execution_count": 58,
     "metadata": {},
     "output_type": "execute_result"
    }
   ],
   "source": [
    "tokenized_datasets['test']['input_ids'][:3]"
   ]
  },
  {
   "cell_type": "code",
   "execution_count": 66,
   "metadata": {},
   "outputs": [
    {
     "data": {
      "text/plain": [
       "{'input_ids': tensor([[  101,  1188,  1763,  ...,  1142,   119,   102],\n",
       "        [  101,  1192,  1221,  ...,     0,     0,     0],\n",
       "        [  101,  9954, 18778,  ...,     0,     0,     0]]), 'attention_mask': tensor([[1, 1, 1,  ..., 1, 1, 1],\n",
       "        [1, 1, 1,  ..., 0, 0, 0],\n",
       "        [1, 1, 1,  ..., 0, 0, 0]])}"
      ]
     },
     "execution_count": 66,
     "metadata": {},
     "output_type": "execute_result"
    }
   ],
   "source": [
    "tokenizer(df_en_test[:3].text.tolist(), truncation=True, padding=True, max_length=512, return_tensors=\"pt\")"
   ]
  },
  {
   "cell_type": "code",
   "execution_count": 70,
   "metadata": {},
   "outputs": [],
   "source": [
    "import pandas as pd\n",
    "from tqdm import tqdm\n",
    "\n",
    "\n",
    "def make_predictions(model, tokenizer, df, device, file_path, max_len=MAX_LEN, batch_size=16):\n",
    "    model.eval()\n",
    "\n",
    "    all_ids = []\n",
    "    all_predictions = []\n",
    "    with torch.no_grad():\n",
    "        for i in tqdm(range(0, len(df), batch_size)):\n",
    "            ids = df[i:i + batch_size].id.tolist()\n",
    "            texts = df[i:i + batch_size].text.tolist()\n",
    "\n",
    "            inputs = tokenizer(texts, truncation=True, padding=True, max_length=max_len, return_tensors=\"pt\")\n",
    "            \n",
    "            input_ids = inputs['input_ids'].to(device)\n",
    "            attention_mask = inputs['attention_mask'].to(device)\n",
    "\n",
    "            outputs = model(input_ids, attention_mask).logits\n",
    "            preds = torch.argmax(outputs, dim=1).cpu().numpy()\n",
    "\n",
    "            all_ids.extend(ids)\n",
    "            all_predictions.extend(preds)\n",
    "\n",
    "    df_predictions = pd.DataFrame({\n",
    "        \"id\": all_ids,\n",
    "        \"label\": all_predictions,\n",
    "    })\n",
    "\n",
    "    df_predictions.to_json(\n",
    "        file_path,\n",
    "        orient=\"records\",\n",
    "        lines=True,\n",
    "    )\n",
    "\n",
    "    return df_predictions\n",
    "    "
   ]
  },
  {
   "cell_type": "code",
   "execution_count": 71,
   "metadata": {},
   "outputs": [
    {
     "name": "stderr",
     "output_type": "stream",
     "text": [
      "100%|██████████| 2035/2035 [01:46<00:00, 19.14it/s]\n"
     ]
    }
   ],
   "source": [
    "df_test_predictions = make_predictions(\n",
    "    trainer.model,\n",
    "    tokenizer,\n",
    "    df_en_test,\n",
    "    DEVICE,\n",
    "    \"./subtask_a.jsonl\",\n",
    ")"
   ]
  },
  {
   "cell_type": "code",
   "execution_count": 77,
   "metadata": {},
   "outputs": [
    {
     "data": {
      "text/plain": [
       "label\n",
       "1    0.625189\n",
       "0    0.374811\n",
       "Name: proportion, dtype: float64"
      ]
     },
     "execution_count": 77,
     "metadata": {},
     "output_type": "execute_result"
    }
   ],
   "source": [
    "df_en_train.label.value_counts(normalize=True)"
   ]
  },
  {
   "cell_type": "code",
   "execution_count": 79,
   "metadata": {},
   "outputs": [
    {
     "data": {
      "text/plain": [
       "label\n",
       "1    0.624355\n",
       "0    0.375645\n",
       "Name: proportion, dtype: float64"
      ]
     },
     "execution_count": 79,
     "metadata": {},
     "output_type": "execute_result"
    }
   ],
   "source": [
    "df_en_dev.label.value_counts(normalize=True)"
   ]
  },
  {
   "cell_type": "code",
   "execution_count": 76,
   "metadata": {},
   "outputs": [
    {
     "data": {
      "text/plain": [
       "label\n",
       "1    0.720859\n",
       "0    0.279141\n",
       "Name: proportion, dtype: float64"
      ]
     },
     "execution_count": 76,
     "metadata": {},
     "output_type": "execute_result"
    }
   ],
   "source": [
    "df_test_predictions.label.value_counts(normalize=True)"
   ]
  },
  {
   "cell_type": "code",
   "execution_count": 48,
   "metadata": {},
   "outputs": [],
   "source": [
    "# experiment.end()"
   ]
  }
 ],
 "metadata": {
  "kernelspec": {
   "display_name": "Python 3 (ipykernel)",
   "language": "python",
   "name": "python3"
  },
  "language_info": {
   "codemirror_mode": {
    "name": "ipython",
    "version": 3
   },
   "file_extension": ".py",
   "mimetype": "text/x-python",
   "name": "python",
   "nbconvert_exporter": "python",
   "pygments_lexer": "ipython3",
   "version": "3.11.5"
  },
  "widgets": {
   "application/vnd.jupyter.widget-state+json": {
    "state": {
     "03d52fb3c9e747eaa059930f4a44e3a4": {
      "model_module": "@jupyter-widgets/base",
      "model_module_version": "2.0.0",
      "model_name": "LayoutModel",
      "state": {}
     },
     "1043c76f709a49ea911780fec1341674": {
      "model_module": "@jupyter-widgets/controls",
      "model_module_version": "2.0.0",
      "model_name": "FloatProgressModel",
      "state": {
       "bar_style": "success",
       "layout": "IPY_MODEL_dc75d995a454475ab7d41b0d00e391b8",
       "max": 610767,
       "style": "IPY_MODEL_eda9c9590dd94c978bfc741ee472d908",
       "value": 610767
      }
     },
     "134ba9c6a90f418cb1ce8452909469ef": {
      "model_module": "@jupyter-widgets/controls",
      "model_module_version": "2.0.0",
      "model_name": "HTMLModel",
      "state": {
       "layout": "IPY_MODEL_1d2a4df75e9e469aa65dcb3c17252a91",
       "style": "IPY_MODEL_5d83a7c5df7f47f5acbb4147ddc4b28a",
       "value": " 32557/32557 [00:08&lt;00:00, 3898.24 examples/s]"
      }
     },
     "1d2a4df75e9e469aa65dcb3c17252a91": {
      "model_module": "@jupyter-widgets/base",
      "model_module_version": "2.0.0",
      "model_name": "LayoutModel",
      "state": {}
     },
     "1e0b477a03c9480b9a298d8d9a2c51b2": {
      "model_module": "@jupyter-widgets/base",
      "model_module_version": "2.0.0",
      "model_name": "LayoutModel",
      "state": {}
     },
     "2a2971c635b4497d9372edf48b2a03c8": {
      "model_module": "@jupyter-widgets/controls",
      "model_module_version": "2.0.0",
      "model_name": "HBoxModel",
      "state": {
       "children": [
        "IPY_MODEL_d8d9808e73934ca1bd6b5f986c86666c",
        "IPY_MODEL_569c7e284caf40258bb32b73a751a3bb",
        "IPY_MODEL_134ba9c6a90f418cb1ce8452909469ef"
       ],
       "layout": "IPY_MODEL_4decd8d1592a4190a78fbc7b1b54ebc6"
      }
     },
     "315ac2ec542e4c25b5a5984452a19fa0": {
      "model_module": "@jupyter-widgets/controls",
      "model_module_version": "2.0.0",
      "model_name": "HTMLStyleModel",
      "state": {
       "description_width": "",
       "font_size": null,
       "text_color": null
      }
     },
     "4db9a4336cef409aa456e5bcee337bbb": {
      "model_module": "@jupyter-widgets/controls",
      "model_module_version": "2.0.0",
      "model_name": "HTMLStyleModel",
      "state": {
       "description_width": "",
       "font_size": null,
       "text_color": null
      }
     },
     "4decd8d1592a4190a78fbc7b1b54ebc6": {
      "model_module": "@jupyter-widgets/base",
      "model_module_version": "2.0.0",
      "model_name": "LayoutModel",
      "state": {}
     },
     "569c7e284caf40258bb32b73a751a3bb": {
      "model_module": "@jupyter-widgets/controls",
      "model_module_version": "2.0.0",
      "model_name": "FloatProgressModel",
      "state": {
       "bar_style": "success",
       "layout": "IPY_MODEL_03d52fb3c9e747eaa059930f4a44e3a4",
       "max": 32557,
       "style": "IPY_MODEL_a34bfaf662c74aa196cde00505b7995b",
       "value": 32557
      }
     },
     "57e07d4c84944f098c4224c1d75cda48": {
      "model_module": "@jupyter-widgets/base",
      "model_module_version": "2.0.0",
      "model_name": "LayoutModel",
      "state": {}
     },
     "5d83a7c5df7f47f5acbb4147ddc4b28a": {
      "model_module": "@jupyter-widgets/controls",
      "model_module_version": "2.0.0",
      "model_name": "HTMLStyleModel",
      "state": {
       "description_width": "",
       "font_size": null,
       "text_color": null
      }
     },
     "621760fb8e674aa492fcff14c43aa61d": {
      "model_module": "@jupyter-widgets/controls",
      "model_module_version": "2.0.0",
      "model_name": "HBoxModel",
      "state": {
       "children": [
        "IPY_MODEL_90101aa7fcb14926a7fe553a30c25780",
        "IPY_MODEL_8fa1dda220704b8ca38bf9abe9683d85",
        "IPY_MODEL_96b7c685e65344d2832f07a3dae0a0a2"
       ],
       "layout": "IPY_MODEL_9b98364dedee4bb6afbc73db370e933a"
      }
     },
     "6256bf714c464d658e99469a4df13444": {
      "model_module": "@jupyter-widgets/controls",
      "model_module_version": "2.0.0",
      "model_name": "HTMLModel",
      "state": {
       "layout": "IPY_MODEL_fdfe076c55c7402db9eda8159e730653",
       "style": "IPY_MODEL_82201b1e5a014dfb8f2947cc4e8ca41d",
       "value": "Map: 100%"
      }
     },
     "6301005886e1477bb5db159c57669f8b": {
      "model_module": "@jupyter-widgets/controls",
      "model_module_version": "2.0.0",
      "model_name": "HTMLModel",
      "state": {
       "layout": "IPY_MODEL_8ec1a28649fe493ca98285d63a964b87",
       "style": "IPY_MODEL_642110d0071b4960b3b0871a13b9773f",
       "value": " 610767/610767 [02:32&lt;00:00, 4090.75 examples/s]"
      }
     },
     "642110d0071b4960b3b0871a13b9773f": {
      "model_module": "@jupyter-widgets/controls",
      "model_module_version": "2.0.0",
      "model_name": "HTMLStyleModel",
      "state": {
       "description_width": "",
       "font_size": null,
       "text_color": null
      }
     },
     "82201b1e5a014dfb8f2947cc4e8ca41d": {
      "model_module": "@jupyter-widgets/controls",
      "model_module_version": "2.0.0",
      "model_name": "HTMLStyleModel",
      "state": {
       "description_width": "",
       "font_size": null,
       "text_color": null
      }
     },
     "856795a3abcc434094f0359ea562bd22": {
      "model_module": "@jupyter-widgets/base",
      "model_module_version": "2.0.0",
      "model_name": "LayoutModel",
      "state": {}
     },
     "8ec1a28649fe493ca98285d63a964b87": {
      "model_module": "@jupyter-widgets/base",
      "model_module_version": "2.0.0",
      "model_name": "LayoutModel",
      "state": {}
     },
     "8fa1dda220704b8ca38bf9abe9683d85": {
      "model_module": "@jupyter-widgets/controls",
      "model_module_version": "2.0.0",
      "model_name": "FloatProgressModel",
      "state": {
       "bar_style": "success",
       "layout": "IPY_MODEL_e7585531f11a47aea5911de5e202871c",
       "max": 261758,
       "style": "IPY_MODEL_c483fc7ed08c44a0895757d59e6153c2",
       "value": 261758
      }
     },
     "90101aa7fcb14926a7fe553a30c25780": {
      "model_module": "@jupyter-widgets/controls",
      "model_module_version": "2.0.0",
      "model_name": "HTMLModel",
      "state": {
       "layout": "IPY_MODEL_1e0b477a03c9480b9a298d8d9a2c51b2",
       "style": "IPY_MODEL_c8d2ec9b9fc9495398e41f887164b7bd",
       "value": "Map: 100%"
      }
     },
     "96b7c685e65344d2832f07a3dae0a0a2": {
      "model_module": "@jupyter-widgets/controls",
      "model_module_version": "2.0.0",
      "model_name": "HTMLModel",
      "state": {
       "layout": "IPY_MODEL_57e07d4c84944f098c4224c1d75cda48",
       "style": "IPY_MODEL_315ac2ec542e4c25b5a5984452a19fa0",
       "value": " 261758/261758 [00:51&lt;00:00, 5347.13 examples/s]"
      }
     },
     "9b98364dedee4bb6afbc73db370e933a": {
      "model_module": "@jupyter-widgets/base",
      "model_module_version": "2.0.0",
      "model_name": "LayoutModel",
      "state": {}
     },
     "a34bfaf662c74aa196cde00505b7995b": {
      "model_module": "@jupyter-widgets/controls",
      "model_module_version": "2.0.0",
      "model_name": "ProgressStyleModel",
      "state": {
       "description_width": ""
      }
     },
     "a802806545b44a57ac789c26e714b37b": {
      "model_module": "@jupyter-widgets/controls",
      "model_module_version": "2.0.0",
      "model_name": "HBoxModel",
      "state": {
       "children": [
        "IPY_MODEL_6256bf714c464d658e99469a4df13444",
        "IPY_MODEL_1043c76f709a49ea911780fec1341674",
        "IPY_MODEL_6301005886e1477bb5db159c57669f8b"
       ],
       "layout": "IPY_MODEL_856795a3abcc434094f0359ea562bd22"
      }
     },
     "c3ac0daaa44146ee9e8256ab4810aac5": {
      "model_module": "@jupyter-widgets/base",
      "model_module_version": "2.0.0",
      "model_name": "LayoutModel",
      "state": {}
     },
     "c483fc7ed08c44a0895757d59e6153c2": {
      "model_module": "@jupyter-widgets/controls",
      "model_module_version": "2.0.0",
      "model_name": "ProgressStyleModel",
      "state": {
       "description_width": ""
      }
     },
     "c8d2ec9b9fc9495398e41f887164b7bd": {
      "model_module": "@jupyter-widgets/controls",
      "model_module_version": "2.0.0",
      "model_name": "HTMLStyleModel",
      "state": {
       "description_width": "",
       "font_size": null,
       "text_color": null
      }
     },
     "d8d9808e73934ca1bd6b5f986c86666c": {
      "model_module": "@jupyter-widgets/controls",
      "model_module_version": "2.0.0",
      "model_name": "HTMLModel",
      "state": {
       "layout": "IPY_MODEL_c3ac0daaa44146ee9e8256ab4810aac5",
       "style": "IPY_MODEL_4db9a4336cef409aa456e5bcee337bbb",
       "value": "Map: 100%"
      }
     },
     "dc75d995a454475ab7d41b0d00e391b8": {
      "model_module": "@jupyter-widgets/base",
      "model_module_version": "2.0.0",
      "model_name": "LayoutModel",
      "state": {}
     },
     "e7585531f11a47aea5911de5e202871c": {
      "model_module": "@jupyter-widgets/base",
      "model_module_version": "2.0.0",
      "model_name": "LayoutModel",
      "state": {}
     },
     "eda9c9590dd94c978bfc741ee472d908": {
      "model_module": "@jupyter-widgets/controls",
      "model_module_version": "2.0.0",
      "model_name": "ProgressStyleModel",
      "state": {
       "description_width": ""
      }
     },
     "fdfe076c55c7402db9eda8159e730653": {
      "model_module": "@jupyter-widgets/base",
      "model_module_version": "2.0.0",
      "model_name": "LayoutModel",
      "state": {}
     }
    },
    "version_major": 2,
    "version_minor": 0
   }
  }
 },
 "nbformat": 4,
 "nbformat_minor": 4
}
