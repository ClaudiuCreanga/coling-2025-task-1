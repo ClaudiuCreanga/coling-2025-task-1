{
 "cells": [
  {
   "cell_type": "code",
   "execution_count": 1,
   "metadata": {},
   "outputs": [],
   "source": [
    "import sys\n",
    "# import comet_ml\n",
    "import torch\n",
    "\n",
    "import numpy as np\n",
    "\n",
    "from sklearn.metrics import (\n",
    "    f1_score, confusion_matrix, classification_report,\n",
    "    balanced_accuracy_score, accuracy_score,\n",
    ")\n",
    "# from transformers.integrations import CometCallback\n",
    "\n",
    "sys.path.append('..')\n",
    "from lib.utils import set_seed, get_device\n",
    "from lib.utils.constants import RANDOM_SEED\n",
    "from lib.data.loading import pd_read_jsonl_file"
   ]
  },
  {
   "cell_type": "code",
   "execution_count": 2,
   "metadata": {},
   "outputs": [],
   "source": [
    "import os\n",
    "# from dotenv import load_dotenv\n",
    "\n",
    "# load_dotenv()\n",
    "\n",
    "# comet_api_key = os.getenv(\"COMET_API_KEY\")\n",
    "\n",
    "os.environ[\"CUDA_VISIBLE_DEVICES\"]=\"0,1\""
   ]
  },
  {
   "cell_type": "code",
   "execution_count": 2,
   "metadata": {},
   "outputs": [],
   "source": [
    "import torch\n",
    "\n",
    "torch.cuda.empty_cache()"
   ]
  },
  {
   "cell_type": "code",
   "execution_count": 3,
   "metadata": {},
   "outputs": [
    {
     "name": "stdout",
     "output_type": "stream",
     "text": [
      "Using device: cuda\n"
     ]
    }
   ],
   "source": [
    "set_seed(RANDOM_SEED)\n",
    "\n",
    "DEVICE = get_device()\n",
    "print(f'Using device: {DEVICE}')"
   ]
  },
  {
   "cell_type": "code",
   "execution_count": 4,
   "metadata": {},
   "outputs": [],
   "source": [
    "df_en_train = pd_read_jsonl_file('../data/en_train.jsonl')\n",
    "df_en_dev = pd_read_jsonl_file('../data/en_dev.jsonl')\n",
    "df_en_test = pd_read_jsonl_file('../data/en_devtest_text_id_only.jsonl')"
   ]
  },
  {
   "cell_type": "code",
   "execution_count": 5,
   "metadata": {},
   "outputs": [
    {
     "name": "stdout",
     "output_type": "stream",
     "text": [
      "<class 'pandas.core.frame.DataFrame'>\n",
      "RangeIndex: 610767 entries, 0 to 610766\n",
      "Data columns (total 7 columns):\n",
      " #   Column      Non-Null Count   Dtype \n",
      "---  ------      --------------   ----- \n",
      " 0   id          610767 non-null  object\n",
      " 1   source      610767 non-null  object\n",
      " 2   sub_source  610767 non-null  object\n",
      " 3   lang        610767 non-null  object\n",
      " 4   model       610767 non-null  object\n",
      " 5   label       610767 non-null  int64 \n",
      " 6   text        610767 non-null  object\n",
      "dtypes: int64(1), object(6)\n",
      "memory usage: 32.6+ MB\n"
     ]
    }
   ],
   "source": [
    "df_en_train.info()"
   ]
  },
  {
   "cell_type": "code",
   "execution_count": 6,
   "metadata": {},
   "outputs": [
    {
     "data": {
      "text/html": [
       "<div>\n",
       "<style scoped>\n",
       "    .dataframe tbody tr th:only-of-type {\n",
       "        vertical-align: middle;\n",
       "    }\n",
       "\n",
       "    .dataframe tbody tr th {\n",
       "        vertical-align: top;\n",
       "    }\n",
       "\n",
       "    .dataframe thead th {\n",
       "        text-align: right;\n",
       "    }\n",
       "</style>\n",
       "<table border=\"1\" class=\"dataframe\">\n",
       "  <thead>\n",
       "    <tr style=\"text-align: right;\">\n",
       "      <th></th>\n",
       "      <th>id</th>\n",
       "      <th>source</th>\n",
       "      <th>sub_source</th>\n",
       "      <th>lang</th>\n",
       "      <th>model</th>\n",
       "      <th>label</th>\n",
       "      <th>text</th>\n",
       "    </tr>\n",
       "  </thead>\n",
       "  <tbody>\n",
       "    <tr>\n",
       "      <th>0</th>\n",
       "      <td>f05034ca-d1da-445d-a6a2-5869ade0dfc3</td>\n",
       "      <td>m4gt</td>\n",
       "      <td>reddit</td>\n",
       "      <td>en</td>\n",
       "      <td>llama3-8b</td>\n",
       "      <td>1</td>\n",
       "      <td>Hitler's plans for the succession and power st...</td>\n",
       "    </tr>\n",
       "    <tr>\n",
       "      <th>1</th>\n",
       "      <td>e7d7fe23-3709-4e14-aa2d-d76821dcbdf6</td>\n",
       "      <td>mage</td>\n",
       "      <td>squad</td>\n",
       "      <td>en</td>\n",
       "      <td>human</td>\n",
       "      <td>0</td>\n",
       "      <td>The Bush administration then turned its attent...</td>\n",
       "    </tr>\n",
       "    <tr>\n",
       "      <th>2</th>\n",
       "      <td>1a68d42e-4202-4e36-bceb-02d693440a14</td>\n",
       "      <td>mage</td>\n",
       "      <td>yelp</td>\n",
       "      <td>en</td>\n",
       "      <td>human</td>\n",
       "      <td>0</td>\n",
       "      <td>Really really the best pedi ever! Pho was so a...</td>\n",
       "    </tr>\n",
       "    <tr>\n",
       "      <th>3</th>\n",
       "      <td>5de844ab-c197-4378-b144-c3a46e3f5b67</td>\n",
       "      <td>mage</td>\n",
       "      <td>xsum</td>\n",
       "      <td>en</td>\n",
       "      <td>human</td>\n",
       "      <td>0</td>\n",
       "      <td>The PS42m MV Loch Seaforth made its first pass...</td>\n",
       "    </tr>\n",
       "    <tr>\n",
       "      <th>4</th>\n",
       "      <td>cdf050ad-7d90-4235-b7c6-46ca6cfc4382</td>\n",
       "      <td>m4gt</td>\n",
       "      <td>wikipedia</td>\n",
       "      <td>en</td>\n",
       "      <td>human</td>\n",
       "      <td>0</td>\n",
       "      <td>Malta participated in the Eurovision Song Cont...</td>\n",
       "    </tr>\n",
       "  </tbody>\n",
       "</table>\n",
       "</div>"
      ],
      "text/plain": [
       "                                     id source sub_source lang      model  \\\n",
       "0  f05034ca-d1da-445d-a6a2-5869ade0dfc3   m4gt     reddit   en  llama3-8b   \n",
       "1  e7d7fe23-3709-4e14-aa2d-d76821dcbdf6   mage      squad   en      human   \n",
       "2  1a68d42e-4202-4e36-bceb-02d693440a14   mage       yelp   en      human   \n",
       "3  5de844ab-c197-4378-b144-c3a46e3f5b67   mage       xsum   en      human   \n",
       "4  cdf050ad-7d90-4235-b7c6-46ca6cfc4382   m4gt  wikipedia   en      human   \n",
       "\n",
       "   label                                               text  \n",
       "0      1  Hitler's plans for the succession and power st...  \n",
       "1      0  The Bush administration then turned its attent...  \n",
       "2      0  Really really the best pedi ever! Pho was so a...  \n",
       "3      0  The PS42m MV Loch Seaforth made its first pass...  \n",
       "4      0  Malta participated in the Eurovision Song Cont...  "
      ]
     },
     "execution_count": 6,
     "metadata": {},
     "output_type": "execute_result"
    }
   ],
   "source": [
    "df_en_train.head()"
   ]
  },
  {
   "cell_type": "markdown",
   "metadata": {},
   "source": [
    "# Load model"
   ]
  },
  {
   "cell_type": "code",
   "execution_count": 7,
   "metadata": {},
   "outputs": [],
   "source": [
    "MODEL_NAME = \"Qwen/Qwen2.5-0.5B-Instruct\""
   ]
  },
  {
   "cell_type": "code",
   "execution_count": 8,
   "metadata": {},
   "outputs": [
    {
     "data": {
      "application/vnd.jupyter.widget-view+json": {
       "model_id": "3f6c1d7b52ec486b811b789a2f67257a",
       "version_major": 2,
       "version_minor": 0
      },
      "text/plain": [
       "tokenizer_config.json:   0%|          | 0.00/7.30k [00:00<?, ?B/s]"
      ]
     },
     "metadata": {},
     "output_type": "display_data"
    },
    {
     "data": {
      "application/vnd.jupyter.widget-view+json": {
       "model_id": "19ceb9c369b242e08650f1f17906860c",
       "version_major": 2,
       "version_minor": 0
      },
      "text/plain": [
       "vocab.json:   0%|          | 0.00/2.78M [00:00<?, ?B/s]"
      ]
     },
     "metadata": {},
     "output_type": "display_data"
    },
    {
     "data": {
      "application/vnd.jupyter.widget-view+json": {
       "model_id": "51bc356bb57f41db983bc455c1022453",
       "version_major": 2,
       "version_minor": 0
      },
      "text/plain": [
       "merges.txt:   0%|          | 0.00/1.67M [00:00<?, ?B/s]"
      ]
     },
     "metadata": {},
     "output_type": "display_data"
    },
    {
     "data": {
      "application/vnd.jupyter.widget-view+json": {
       "model_id": "585c5a0ec56b4542a3c67730080dca06",
       "version_major": 2,
       "version_minor": 0
      },
      "text/plain": [
       "tokenizer.json:   0%|          | 0.00/7.03M [00:00<?, ?B/s]"
      ]
     },
     "metadata": {},
     "output_type": "display_data"
    },
    {
     "data": {
      "application/vnd.jupyter.widget-view+json": {
       "model_id": "861d17a6f540404ca78b3a32bec358dd",
       "version_major": 2,
       "version_minor": 0
      },
      "text/plain": [
       "config.json:   0%|          | 0.00/659 [00:00<?, ?B/s]"
      ]
     },
     "metadata": {},
     "output_type": "display_data"
    },
    {
     "data": {
      "application/vnd.jupyter.widget-view+json": {
       "model_id": "8862213aece1430c917487312f60357b",
       "version_major": 2,
       "version_minor": 0
      },
      "text/plain": [
       "model.safetensors:   0%|          | 0.00/988M [00:00<?, ?B/s]"
      ]
     },
     "metadata": {},
     "output_type": "display_data"
    },
    {
     "data": {
      "application/vnd.jupyter.widget-view+json": {
       "model_id": "cf57f127c8344a95b23ec7a8393d0112",
       "version_major": 2,
       "version_minor": 0
      },
      "text/plain": [
       "generation_config.json:   0%|          | 0.00/242 [00:00<?, ?B/s]"
      ]
     },
     "metadata": {},
     "output_type": "display_data"
    }
   ],
   "source": [
    "from transformers import AutoTokenizer, AutoModelForCausalLM\n",
    "\n",
    "tokenizer = AutoTokenizer.from_pretrained(MODEL_NAME)\n",
    "model = AutoModelForCausalLM.from_pretrained(\n",
    "    MODEL_NAME,\n",
    "    torch_dtype=\"auto\",\n",
    "    device_map=\"auto\",\n",
    ")"
   ]
  },
  {
   "cell_type": "code",
   "execution_count": 9,
   "metadata": {},
   "outputs": [
    {
     "data": {
      "text/plain": [
       "Qwen2ForCausalLM(\n",
       "  (model): Qwen2Model(\n",
       "    (embed_tokens): Embedding(151936, 896)\n",
       "    (layers): ModuleList(\n",
       "      (0-23): 24 x Qwen2DecoderLayer(\n",
       "        (self_attn): Qwen2SdpaAttention(\n",
       "          (q_proj): Linear(in_features=896, out_features=896, bias=True)\n",
       "          (k_proj): Linear(in_features=896, out_features=128, bias=True)\n",
       "          (v_proj): Linear(in_features=896, out_features=128, bias=True)\n",
       "          (o_proj): Linear(in_features=896, out_features=896, bias=False)\n",
       "          (rotary_emb): Qwen2RotaryEmbedding()\n",
       "        )\n",
       "        (mlp): Qwen2MLP(\n",
       "          (gate_proj): Linear(in_features=896, out_features=4864, bias=False)\n",
       "          (up_proj): Linear(in_features=896, out_features=4864, bias=False)\n",
       "          (down_proj): Linear(in_features=4864, out_features=896, bias=False)\n",
       "          (act_fn): SiLU()\n",
       "        )\n",
       "        (input_layernorm): Qwen2RMSNorm((896,), eps=1e-06)\n",
       "        (post_attention_layernorm): Qwen2RMSNorm((896,), eps=1e-06)\n",
       "      )\n",
       "    )\n",
       "    (norm): Qwen2RMSNorm((896,), eps=1e-06)\n",
       "  )\n",
       "  (lm_head): Linear(in_features=896, out_features=151936, bias=False)\n",
       ")"
      ]
     },
     "execution_count": 9,
     "metadata": {},
     "output_type": "execute_result"
    }
   ],
   "source": [
    "model"
   ]
  },
  {
   "cell_type": "code",
   "execution_count": 17,
   "metadata": {},
   "outputs": [],
   "source": [
    "human_train_sample_text = df_en_train[df_en_train[\"label\"] == 0][\"text\"].tolist()[0]\n",
    "human_train_sample_label = df_en_train[df_en_train[\"label\"] == 0][\"label\"].tolist()[0]"
   ]
  },
  {
   "cell_type": "code",
   "execution_count": 23,
   "metadata": {},
   "outputs": [],
   "source": [
    "from nltk import sent_tokenize\n",
    "\n",
    "human_train_sample_text_sentences = sent_tokenize(human_train_sample_text)"
   ]
  },
  {
   "cell_type": "code",
   "execution_count": 19,
   "metadata": {},
   "outputs": [
    {
     "data": {
      "text/plain": [
       "'The Bush administration then turned its attention to Iraq, and argued the need to remove Saddam Hussein from power in Iraq had become urgent. Among the stated reasons were that Saddam\\'s regime had tried to acquire nuclear material and had not properly accounted for biological and chemical material it was known to have previously possessed, and believed to still maintain. Both the possession of these weapons of mass destruction (WMD), and the failure to account for them, would violate the U.N. sanctions. The assertion about WMD was hotly advanced by the Bush administration from the beginning, but other major powers including China, France, Germany, and Russia remained unconvinced that Iraq was a threat and refused to allow passage of a UN Security Council resolution to authorize the use of force. Iraq permitted UN weapon inspectors in November 2002, who were continuing their work to assess the WMD claim when the Bush administration decided to proceed with war without UN authorization and told the inspectors to leave the country. The United States invaded Iraq on March 20, 2003, along with a \"coalition of the willing\" that consisted of additional troops from the United Kingdom, and to a lesser extent, from Australia and Poland. Within about three weeks, the invasion caused the collapse of both the Iraqi government and its armed forces, however, the U.S. and allied forces failed to find any weapon of mass destruction in Iraq. Traces of former materials and weapons labs were reported to have been located, but no \"smoking guns.\" Nevertheless, on May 1, George W. Bush landed on the aircraft carrier USS Abraham Lincoln, in a Lockheed S-3 Viking, where he gave a speech announcing the end of \"major combat operations\" in the Iraq War. Bush\\'s approval rating in May was at 66, according to a CNN-USA Today-Gallup poll. However, Bush\\'s high approval ratings did not last. First, while the war itself was popular in the U.S., the reconstruction and attempted \"democratization\" of Iraq lost some support as months passed and casualty figures increased, with no decrease in violence nor progress toward stability or reconstruction. Second, as investigators combed through the country, they failed to find the predicted WMD stockpiles, which led to debate over the rationale for the war.'"
      ]
     },
     "execution_count": 19,
     "metadata": {},
     "output_type": "execute_result"
    }
   ],
   "source": [
    "human_train_sample_text"
   ]
  },
  {
   "cell_type": "code",
   "execution_count": 25,
   "metadata": {},
   "outputs": [
    {
     "data": {
      "text/plain": [
       "['The Bush administration then turned its attention to Iraq, and argued the need to remove Saddam Hussein from power in Iraq had become urgent.',\n",
       " \"Among the stated reasons were that Saddam's regime had tried to acquire nuclear material and had not properly accounted for biological and chemical material it was known to have previously possessed, and believed to still maintain.\",\n",
       " 'Both the possession of these weapons of mass destruction (WMD), and the failure to account for them, would violate the U.N. sanctions.',\n",
       " 'The assertion about WMD was hotly advanced by the Bush administration from the beginning, but other major powers including China, France, Germany, and Russia remained unconvinced that Iraq was a threat and refused to allow passage of a UN Security Council resolution to authorize the use of force.',\n",
       " 'Iraq permitted UN weapon inspectors in November 2002, who were continuing their work to assess the WMD claim when the Bush administration decided to proceed with war without UN authorization and told the inspectors to leave the country.',\n",
       " 'The United States invaded Iraq on March 20, 2003, along with a \"coalition of the willing\" that consisted of additional troops from the United Kingdom, and to a lesser extent, from Australia and Poland.',\n",
       " 'Within about three weeks, the invasion caused the collapse of both the Iraqi government and its armed forces, however, the U.S. and allied forces failed to find any weapon of mass destruction in Iraq.',\n",
       " 'Traces of former materials and weapons labs were reported to have been located, but no \"smoking guns.\"',\n",
       " 'Nevertheless, on May 1, George W. Bush landed on the aircraft carrier USS Abraham Lincoln, in a Lockheed S-3 Viking, where he gave a speech announcing the end of \"major combat operations\" in the Iraq War.',\n",
       " \"Bush's approval rating in May was at 66, according to a CNN-USA Today-Gallup poll.\",\n",
       " \"However, Bush's high approval ratings did not last.\",\n",
       " 'First, while the war itself was popular in the U.S., the reconstruction and attempted \"democratization\" of Iraq lost some support as months passed and casualty figures increased, with no decrease in violence nor progress toward stability or reconstruction.',\n",
       " 'Second, as investigators combed through the country, they failed to find the predicted WMD stockpiles, which led to debate over the rationale for the war.']"
      ]
     },
     "execution_count": 25,
     "metadata": {},
     "output_type": "execute_result"
    }
   ],
   "source": [
    "human_train_sample_text_sentences"
   ]
  },
  {
   "cell_type": "code",
   "execution_count": 20,
   "metadata": {},
   "outputs": [
    {
     "data": {
      "text/plain": [
       "0"
      ]
     },
     "execution_count": 20,
     "metadata": {},
     "output_type": "execute_result"
    }
   ],
   "source": [
    "human_train_sample_label"
   ]
  },
  {
   "cell_type": "code",
   "execution_count": 18,
   "metadata": {},
   "outputs": [],
   "source": [
    "machine_train_sample_text = df_en_train[df_en_train[\"label\"] == 1][\"text\"].tolist()[0]\n",
    "machine_train_sample_label = df_en_train[df_en_train[\"label\"] == 1][\"label\"].tolist()[0]"
   ]
  },
  {
   "cell_type": "code",
   "execution_count": 24,
   "metadata": {},
   "outputs": [],
   "source": [
    "from nltk import sent_tokenize\n",
    "\n",
    "machine_train_sample_text_sentences = sent_tokenize(machine_train_sample_text)"
   ]
  },
  {
   "cell_type": "code",
   "execution_count": 30,
   "metadata": {},
   "outputs": [
    {
     "data": {
      "text/plain": [
       "[\"Hitler's plans for the succession and power structure after his death are shrouded in mystery, as he never explicitly wrote down his intentions.\",\n",
       " 'However, it is known that he designated several potential successors, including Heinrich Himmler, Hermann Göring, and Joseph Goebbels, each with their own strengths and weaknesses.',\n",
       " 'In the final days of his life, Hitler grew increasingly paranoid and isolated, leading to rumors of a civil war within the Nazi Party.',\n",
       " 'He became convinced that the Party was plotting against him, and his trusted advisors, including Goering and Himmler, were secretly vying for power.',\n",
       " \"To counter this perceived threat, Hitler reportedly planned to appoint a successor, most likely Himmler, in a 'Fuhrer-proof' mechanism.\",\n",
       " 'This would have granted Himmler absolute power over the Party and state, rendering the concept of democratic succession irrelevant.',\n",
       " 'Hitler also envisioned a hierarchical, hereditary power structure, with his loyal followers and their families holding key positions within the Party and government.',\n",
       " \"Moreover, Hitler's plans likely included implementing a system of informal networks and patronage, where senior officials would be incentivized to support his designated successor.\",\n",
       " 'This would have allowed him to exercise control from beyond the grave, ensuring that his vision for the thousand-year Reich remained intact.',\n",
       " \"In essence, Hitler aimed to create a personalized, authoritarian regime where power would remain concentrated in the hands of the 'Fuhrer's' progeny, thereby guaranteeing the continuation of his legacy.\"]"
      ]
     },
     "execution_count": 30,
     "metadata": {},
     "output_type": "execute_result"
    }
   ],
   "source": [
    "machine_train_sample_text_sentences"
   ]
  },
  {
   "cell_type": "code",
   "execution_count": 21,
   "metadata": {},
   "outputs": [
    {
     "data": {
      "text/plain": [
       "\"Hitler's plans for the succession and power structure after his death are shrouded in mystery, as he never explicitly wrote down his intentions. However, it is known that he designated several potential successors, including Heinrich Himmler, Hermann Göring, and Joseph Goebbels, each with their own strengths and weaknesses. \\n\\nIn the final days of his life, Hitler grew increasingly paranoid and isolated, leading to rumors of a civil war within the Nazi Party. He became convinced that the Party was plotting against him, and his trusted advisors, including Goering and Himmler, were secretly vying for power. \\n\\nTo counter this perceived threat, Hitler reportedly planned to appoint a successor, most likely Himmler, in a 'Fuhrer-proof' mechanism. This would have granted Himmler absolute power over the Party and state, rendering the concept of democratic succession irrelevant. Hitler also envisioned a hierarchical, hereditary power structure, with his loyal followers and their families holding key positions within the Party and government. \\n\\nMoreover, Hitler's plans likely included implementing a system of informal networks and patronage, where senior officials would be incentivized to support his designated successor. This would have allowed him to exercise control from beyond the grave, ensuring that his vision for the thousand-year Reich remained intact. In essence, Hitler aimed to create a personalized, authoritarian regime where power would remain concentrated in the hands of the 'Fuhrer's' progeny, thereby guaranteeing the continuation of his legacy.\""
      ]
     },
     "execution_count": 21,
     "metadata": {},
     "output_type": "execute_result"
    }
   ],
   "source": [
    "machine_train_sample_text"
   ]
  },
  {
   "cell_type": "code",
   "execution_count": 22,
   "metadata": {},
   "outputs": [
    {
     "data": {
      "text/plain": [
       "1"
      ]
     },
     "execution_count": 22,
     "metadata": {},
     "output_type": "execute_result"
    }
   ],
   "source": [
    "machine_train_sample_label"
   ]
  },
  {
   "cell_type": "code",
   "execution_count": 350,
   "metadata": {},
   "outputs": [],
   "source": [
    "def generate_text(model, tokenizer, context, generation_style=\"sentences\", no_of_generated_sentences=2):\n",
    "    model.eval()\n",
    "\n",
    "    messages = []\n",
    "\n",
    "    if generation_style == \"sentences\":\n",
    "        messages = [\n",
    "            {\n",
    "                \"role\": \"system\",\n",
    "                \"content\": f\"You are an assistant and help people continue their stories with the most relevant information in the most natural way possible. You will have to respond with EXACTLY {no_of_generated_sentences} sentences.\"\n",
    "            },\n",
    "            {\n",
    "                \"role\": \"user\",\n",
    "                \"content\": f\"Using only {no_of_generated_sentences} sentences continue this story in the most natural way possible: {context}\"\n",
    "            }\n",
    "        ]\n",
    "    elif generation_style == \"words\":\n",
    "        messages = [\n",
    "            {\n",
    "                \"role\": \"system\",\n",
    "                \"content\": f\"You are an assistant and help people finish their sentences with the most relevant information in the most natural way possible. You should only complete the given sentence.\"\n",
    "            },\n",
    "            {\n",
    "                \"role\": \"user\",\n",
    "                \"content\": f\"Finish this sentence in the most natural way possible: {context}\"\n",
    "            }\n",
    "        ]\n",
    "    else:\n",
    "        raise Exception(f\"No such generation_style = {generation_style}\")\n",
    "\n",
    "    text = tokenizer.apply_chat_template(\n",
    "        messages,\n",
    "        tokenize=False,\n",
    "        add_generation_prompt=True\n",
    "    )\n",
    "    model_inputs = tokenizer([text], return_tensors=\"pt\").to(model.device)\n",
    "\n",
    "    with torch.no_grad():\n",
    "        generated_ids = model.generate(\n",
    "            **model_inputs,\n",
    "            max_new_tokens=1024,\n",
    "        )\n",
    "\n",
    "    generated_ids = [\n",
    "        output_ids[len(input_ids):] for input_ids, output_ids in zip(model_inputs.input_ids, generated_ids)\n",
    "    ]\n",
    "    \n",
    "    response = tokenizer.batch_decode(generated_ids, skip_special_tokens=True)[0]\n",
    "    return response"
   ]
  },
  {
   "cell_type": "code",
   "execution_count": 66,
   "metadata": {},
   "outputs": [],
   "source": [
    "human_train_sample_text_generated = generate_text(\n",
    "    model,\n",
    "    tokenizer,\n",
    "    \" \".join(human_train_sample_text_sentences[:-2])\n",
    ")"
   ]
  },
  {
   "cell_type": "code",
   "execution_count": 67,
   "metadata": {},
   "outputs": [],
   "source": [
    "machine_train_sample_text_generated = generate_text(\n",
    "    model,\n",
    "    tokenizer,\n",
    "    \" \".join(machine_train_sample_text_sentences[:-2])\n",
    ")"
   ]
  },
  {
   "cell_type": "code",
   "execution_count": 58,
   "metadata": {},
   "outputs": [
    {
     "name": "stderr",
     "output_type": "stream",
     "text": [
      "/root/.conda/envs/pytorch/lib/python3.11/site-packages/huggingface_hub/utils/_deprecation.py:131: FutureWarning: 'cached_download' (from 'huggingface_hub.file_download') is deprecated and will be removed from version '0.26'. Use `hf_hub_download` instead.\n",
      "  warnings.warn(warning_message, FutureWarning)\n"
     ]
    },
    {
     "data": {
      "application/vnd.jupyter.widget-view+json": {
       "model_id": "5d2a55e5969a49959d4f64fd2bf2830b",
       "version_major": 2,
       "version_minor": 0
      },
      "text/plain": [
       ".gitattributes:   0%|          | 0.00/1.23k [00:00<?, ?B/s]"
      ]
     },
     "metadata": {},
     "output_type": "display_data"
    },
    {
     "data": {
      "application/vnd.jupyter.widget-view+json": {
       "model_id": "ae010e7c275f496b9d0608e542857cfa",
       "version_major": 2,
       "version_minor": 0
      },
      "text/plain": [
       "1_Pooling/config.json:   0%|          | 0.00/190 [00:00<?, ?B/s]"
      ]
     },
     "metadata": {},
     "output_type": "display_data"
    },
    {
     "data": {
      "application/vnd.jupyter.widget-view+json": {
       "model_id": "aca31a8349a34870a07528d56e18bdd2",
       "version_major": 2,
       "version_minor": 0
      },
      "text/plain": [
       "README.md:   0%|          | 0.00/10.7k [00:00<?, ?B/s]"
      ]
     },
     "metadata": {},
     "output_type": "display_data"
    },
    {
     "data": {
      "application/vnd.jupyter.widget-view+json": {
       "model_id": "59bd5eb4f67a40b1bd913b91378ccc50",
       "version_major": 2,
       "version_minor": 0
      },
      "text/plain": [
       "config.json:   0%|          | 0.00/612 [00:00<?, ?B/s]"
      ]
     },
     "metadata": {},
     "output_type": "display_data"
    },
    {
     "data": {
      "application/vnd.jupyter.widget-view+json": {
       "model_id": "b63f86ffb6d84136bd2b0ee7a9000116",
       "version_major": 2,
       "version_minor": 0
      },
      "text/plain": [
       "config_sentence_transformers.json:   0%|          | 0.00/116 [00:00<?, ?B/s]"
      ]
     },
     "metadata": {},
     "output_type": "display_data"
    },
    {
     "data": {
      "application/vnd.jupyter.widget-view+json": {
       "model_id": "1051880a895e44198ea4bd53d37b30c1",
       "version_major": 2,
       "version_minor": 0
      },
      "text/plain": [
       "data_config.json:   0%|          | 0.00/39.3k [00:00<?, ?B/s]"
      ]
     },
     "metadata": {},
     "output_type": "display_data"
    },
    {
     "data": {
      "application/vnd.jupyter.widget-view+json": {
       "model_id": "8f016c7e762c4264b43d12e300c6389f",
       "version_major": 2,
       "version_minor": 0
      },
      "text/plain": [
       "model.safetensors:   0%|          | 0.00/90.9M [00:00<?, ?B/s]"
      ]
     },
     "metadata": {},
     "output_type": "display_data"
    },
    {
     "data": {
      "application/vnd.jupyter.widget-view+json": {
       "model_id": "ce56fc90d0b845f49e7b65f725395c97",
       "version_major": 2,
       "version_minor": 0
      },
      "text/plain": [
       "model.onnx:   0%|          | 0.00/90.4M [00:00<?, ?B/s]"
      ]
     },
     "metadata": {},
     "output_type": "display_data"
    },
    {
     "data": {
      "application/vnd.jupyter.widget-view+json": {
       "model_id": "e34baf1db7624e639c3044ebc74f5d30",
       "version_major": 2,
       "version_minor": 0
      },
      "text/plain": [
       "pytorch_model.bin:   0%|          | 0.00/90.9M [00:00<?, ?B/s]"
      ]
     },
     "metadata": {},
     "output_type": "display_data"
    },
    {
     "data": {
      "application/vnd.jupyter.widget-view+json": {
       "model_id": "801a0c545dbf4326876451f720d5715a",
       "version_major": 2,
       "version_minor": 0
      },
      "text/plain": [
       "sentence_bert_config.json:   0%|          | 0.00/53.0 [00:00<?, ?B/s]"
      ]
     },
     "metadata": {},
     "output_type": "display_data"
    },
    {
     "data": {
      "application/vnd.jupyter.widget-view+json": {
       "model_id": "e54c835e35f54f15a365569403f486a7",
       "version_major": 2,
       "version_minor": 0
      },
      "text/plain": [
       "special_tokens_map.json:   0%|          | 0.00/112 [00:00<?, ?B/s]"
      ]
     },
     "metadata": {},
     "output_type": "display_data"
    },
    {
     "data": {
      "application/vnd.jupyter.widget-view+json": {
       "model_id": "1268ff6b5d804203b18cc70dd59910a3",
       "version_major": 2,
       "version_minor": 0
      },
      "text/plain": [
       "tokenizer.json:   0%|          | 0.00/466k [00:00<?, ?B/s]"
      ]
     },
     "metadata": {},
     "output_type": "display_data"
    },
    {
     "data": {
      "application/vnd.jupyter.widget-view+json": {
       "model_id": "6c759eeccdbd4a35912d63d1f1ca14db",
       "version_major": 2,
       "version_minor": 0
      },
      "text/plain": [
       "tokenizer_config.json:   0%|          | 0.00/350 [00:00<?, ?B/s]"
      ]
     },
     "metadata": {},
     "output_type": "display_data"
    },
    {
     "data": {
      "application/vnd.jupyter.widget-view+json": {
       "model_id": "b03e3155fdf84373bd909fd083f66a85",
       "version_major": 2,
       "version_minor": 0
      },
      "text/plain": [
       "train_script.py:   0%|          | 0.00/13.2k [00:00<?, ?B/s]"
      ]
     },
     "metadata": {},
     "output_type": "display_data"
    },
    {
     "data": {
      "application/vnd.jupyter.widget-view+json": {
       "model_id": "377c3b0fdf3a4c49b500dd46eb19e861",
       "version_major": 2,
       "version_minor": 0
      },
      "text/plain": [
       "vocab.txt:   0%|          | 0.00/232k [00:00<?, ?B/s]"
      ]
     },
     "metadata": {},
     "output_type": "display_data"
    },
    {
     "data": {
      "application/vnd.jupyter.widget-view+json": {
       "model_id": "a5ae7ef869e54009ab330cc14a4a5b95",
       "version_major": 2,
       "version_minor": 0
      },
      "text/plain": [
       "modules.json:   0%|          | 0.00/349 [00:00<?, ?B/s]"
      ]
     },
     "metadata": {},
     "output_type": "display_data"
    },
    {
     "name": "stderr",
     "output_type": "stream",
     "text": [
      "/root/.conda/envs/pytorch/lib/python3.11/site-packages/transformers/tokenization_utils_base.py:1601: FutureWarning: `clean_up_tokenization_spaces` was not set. It will be set to `True` by default. This behavior will be depracted in transformers v4.45, and will be then set to `False` by default. For more details check this issue: https://github.com/huggingface/transformers/issues/31884\n",
      "  warnings.warn(\n"
     ]
    }
   ],
   "source": [
    "from sentence_transformers import SentenceTransformer\n",
    "\n",
    "st_model = SentenceTransformer(\"all-MiniLM-L6-v2\")"
   ]
  },
  {
   "cell_type": "code",
   "execution_count": 110,
   "metadata": {},
   "outputs": [],
   "source": [
    "from sentence_transformers import util\n",
    "\n",
    "def compute_similarity_score(st_model, original, generated):\n",
    "    original_embedding = st_model.encode(original)\n",
    "    generated_embeddings = st_model.encode(generated)\n",
    "    \n",
    "    # similarity = st_model.similarity(original_embedding, generated_embeddings)\n",
    "    similarity = util.pytorch_cos_sim(original_embedding, generated_embeddings).detach().numpy()[0][0]\n",
    "    return similarity"
   ]
  },
  {
   "cell_type": "code",
   "execution_count": 95,
   "metadata": {},
   "outputs": [
    {
     "data": {
      "text/plain": [
       "0.3775603"
      ]
     },
     "execution_count": 95,
     "metadata": {},
     "output_type": "execute_result"
    }
   ],
   "source": [
    "compute_similarity_score(st_model, \" \".join(human_train_sample_text_sentences[-2:]), human_train_sample_text_generated)"
   ]
  },
  {
   "cell_type": "code",
   "execution_count": 96,
   "metadata": {},
   "outputs": [
    {
     "data": {
      "text/plain": [
       "0.5917352"
      ]
     },
     "execution_count": 96,
     "metadata": {},
     "output_type": "execute_result"
    }
   ],
   "source": [
    "compute_similarity_score(st_model, \" \".join(machine_train_sample_text_sentences[-2:]), machine_train_sample_text_generated)"
   ]
  },
  {
   "cell_type": "code",
   "execution_count": 306,
   "metadata": {},
   "outputs": [],
   "source": [
    "from nltk import word_tokenize, sent_tokenize\n",
    "\n",
    "\n",
    "def generate_and_compute_similarity(model, tokenizer, st_model, text, no_of_sentences=2):\n",
    "    sentences = sent_tokenize(text)\n",
    "\n",
    "    n = len(sentences)\n",
    "\n",
    "    original_text = \"\"\n",
    "    generated_text = \"\"\n",
    "    \n",
    "    if n == 1:\n",
    "        words = word_tokenize(sentences[0])\n",
    "\n",
    "        # words_split = 2 * (len(words) // 3)\n",
    "        words_split = len(words) // 2\n",
    "\n",
    "        original_text = \" \".join(words[words_split:])\n",
    "\n",
    "        context = \" \".join(words[:words_split])\n",
    "\n",
    "        generated_text = generate_text(\n",
    "            model,\n",
    "            tokenizer,\n",
    "            context,\n",
    "            generation_style=\"words\",\n",
    "        )\n",
    "\n",
    "        # original_text = sentences[0]\n",
    "        # generated_text = f\"{context} {generated_text}\"\n",
    "    elif n == 2:\n",
    "        original_text = sentences[1]\n",
    "\n",
    "        context = sentences[0]\n",
    "\n",
    "        generated_text = generate_text(\n",
    "            model,\n",
    "            tokenizer,\n",
    "            context,\n",
    "            generation_style=\"sentences\",\n",
    "            no_of_generated_sentences=1,\n",
    "        )\n",
    "    else:\n",
    "        no_of_starting_sentences = 2\n",
    "        generated_sentences = sentences[:no_of_starting_sentences]\n",
    "    \n",
    "        no_of_generated_sentences = min(no_of_sentences, n - no_of_starting_sentences)\n",
    "        for idx in range(no_of_starting_sentences, n, no_of_generated_sentences):\n",
    "            context = \" \".join(generated_sentences[:idx])\n",
    "    \n",
    "            generated = generate_text(\n",
    "                model,\n",
    "                tokenizer,\n",
    "                context,\n",
    "                generation_style=\"sentences\",\n",
    "                no_of_generated_sentences=no_of_generated_sentences,\n",
    "            )\n",
    "    \n",
    "            generated_sentences.append(generated)\n",
    "    \n",
    "        original_text = \" \".join(sentences[no_of_starting_sentences:])\n",
    "        generated_text = \" \".join(generated_sentences[no_of_starting_sentences:])\n",
    "\n",
    "    # print(f\"original_text: {original_text}\")\n",
    "    # print(f\"generated_text: {generated_text}\")\n",
    "\n",
    "    similarity_score = compute_similarity_score(\n",
    "        st_model,\n",
    "        original_text,\n",
    "        generated_text,\n",
    "    )\n",
    "\n",
    "    return similarity_score"
   ]
  },
  {
   "cell_type": "code",
   "execution_count": 248,
   "metadata": {},
   "outputs": [
    {
     "name": "stdout",
     "output_type": "stream",
     "text": [
      "original_text: the side , away from your body , then bring it back in and repeat on the other side for the desired amount of reps .\n",
      "generated_text: Keep your core engaged, ensuring a strong foundation for the next movement.\n"
     ]
    },
    {
     "data": {
      "text/plain": [
       "0.33342558"
      ]
     },
     "execution_count": 248,
     "metadata": {},
     "output_type": "execute_result"
    }
   ],
   "source": [
    "generate_and_compute_similarity(\n",
    "    model,\n",
    "    tokenizer,\n",
    "    st_model,\n",
    "    df_en_train_small.text.tolist()[0],\n",
    ")"
   ]
  },
  {
   "cell_type": "code",
   "execution_count": 243,
   "metadata": {},
   "outputs": [
    {
     "data": {
      "text/plain": [
       "1"
      ]
     },
     "execution_count": 243,
     "metadata": {},
     "output_type": "execute_result"
    }
   ],
   "source": [
    "df_en_train_small.label.tolist()[0]"
   ]
  },
  {
   "cell_type": "code",
   "execution_count": 132,
   "metadata": {},
   "outputs": [
    {
     "name": "stdout",
     "output_type": "stream",
     "text": [
      "<class 'pandas.core.frame.DataFrame'>\n",
      "RangeIndex: 32557 entries, 0 to 32556\n",
      "Data columns (total 2 columns):\n",
      " #   Column  Non-Null Count  Dtype \n",
      "---  ------  --------------  ----- \n",
      " 0   id      32557 non-null  object\n",
      " 1   text    32557 non-null  object\n",
      "dtypes: object(2)\n",
      "memory usage: 508.8+ KB\n"
     ]
    }
   ],
   "source": [
    "df_en_test.info()"
   ]
  },
  {
   "cell_type": "code",
   "execution_count": 325,
   "metadata": {},
   "outputs": [],
   "source": [
    "df_en_train_small = df_en_train.sample(100, random_state=RANDOM_SEED, ignore_index=True)"
   ]
  },
  {
   "cell_type": "code",
   "execution_count": 326,
   "metadata": {},
   "outputs": [
    {
     "data": {
      "text/html": [
       "<div>\n",
       "<style scoped>\n",
       "    .dataframe tbody tr th:only-of-type {\n",
       "        vertical-align: middle;\n",
       "    }\n",
       "\n",
       "    .dataframe tbody tr th {\n",
       "        vertical-align: top;\n",
       "    }\n",
       "\n",
       "    .dataframe thead th {\n",
       "        text-align: right;\n",
       "    }\n",
       "</style>\n",
       "<table border=\"1\" class=\"dataframe\">\n",
       "  <thead>\n",
       "    <tr style=\"text-align: right;\">\n",
       "      <th></th>\n",
       "      <th>id</th>\n",
       "      <th>source</th>\n",
       "      <th>sub_source</th>\n",
       "      <th>lang</th>\n",
       "      <th>model</th>\n",
       "      <th>label</th>\n",
       "      <th>text</th>\n",
       "    </tr>\n",
       "  </thead>\n",
       "  <tbody>\n",
       "    <tr>\n",
       "      <th>0</th>\n",
       "      <td>71fee829-7871-4d08-9ca4-cb745808559e</td>\n",
       "      <td>mage</td>\n",
       "      <td>hswag</td>\n",
       "      <td>en</td>\n",
       "      <td>gpt-3.5-turbo</td>\n",
       "      <td>1</td>\n",
       "      <td>[Additional step] Slowly lift one foot off the...</td>\n",
       "    </tr>\n",
       "    <tr>\n",
       "      <th>1</th>\n",
       "      <td>10ac6396-e03a-4a7e-a53c-a83df2b66f5f</td>\n",
       "      <td>m4gt</td>\n",
       "      <td>wikihow</td>\n",
       "      <td>en</td>\n",
       "      <td>davinci</td>\n",
       "      <td>1</td>\n",
       "      <td>Traveling without overpacking can seem like an...</td>\n",
       "    </tr>\n",
       "    <tr>\n",
       "      <th>2</th>\n",
       "      <td>d3562b41-f80c-4036-ba45-c887574a8b68</td>\n",
       "      <td>m4gt</td>\n",
       "      <td>reddit</td>\n",
       "      <td>en</td>\n",
       "      <td>cohere</td>\n",
       "      <td>1</td>\n",
       "      <td>The abolishment of the Caliphate was a major e...</td>\n",
       "    </tr>\n",
       "    <tr>\n",
       "      <th>3</th>\n",
       "      <td>98f6758e-41ce-4248-bb17-2b3f147c96d3</td>\n",
       "      <td>mage</td>\n",
       "      <td>squad</td>\n",
       "      <td>en</td>\n",
       "      <td>human</td>\n",
       "      <td>0</td>\n",
       "      <td>Beer ranges from less than 3 alcohol by volume...</td>\n",
       "    </tr>\n",
       "    <tr>\n",
       "      <th>4</th>\n",
       "      <td>b6d1c774-5bf9-43a1-9271-81983ead5894</td>\n",
       "      <td>m4gt</td>\n",
       "      <td>wikipedia</td>\n",
       "      <td>en</td>\n",
       "      <td>bloomz</td>\n",
       "      <td>1</td>\n",
       "      <td>Institute of Eastern Europe (IEE) is the large...</td>\n",
       "    </tr>\n",
       "  </tbody>\n",
       "</table>\n",
       "</div>"
      ],
      "text/plain": [
       "                                     id source sub_source lang          model  \\\n",
       "0  71fee829-7871-4d08-9ca4-cb745808559e   mage      hswag   en  gpt-3.5-turbo   \n",
       "1  10ac6396-e03a-4a7e-a53c-a83df2b66f5f   m4gt    wikihow   en        davinci   \n",
       "2  d3562b41-f80c-4036-ba45-c887574a8b68   m4gt     reddit   en         cohere   \n",
       "3  98f6758e-41ce-4248-bb17-2b3f147c96d3   mage      squad   en          human   \n",
       "4  b6d1c774-5bf9-43a1-9271-81983ead5894   m4gt  wikipedia   en         bloomz   \n",
       "\n",
       "   label                                               text  \n",
       "0      1  [Additional step] Slowly lift one foot off the...  \n",
       "1      1  Traveling without overpacking can seem like an...  \n",
       "2      1  The abolishment of the Caliphate was a major e...  \n",
       "3      0  Beer ranges from less than 3 alcohol by volume...  \n",
       "4      1  Institute of Eastern Europe (IEE) is the large...  "
      ]
     },
     "execution_count": 326,
     "metadata": {},
     "output_type": "execute_result"
    }
   ],
   "source": [
    "df_en_train_small.head()"
   ]
  },
  {
   "cell_type": "code",
   "execution_count": 327,
   "metadata": {},
   "outputs": [
    {
     "data": {
      "text/plain": [
       "label\n",
       "1    62\n",
       "0    38\n",
       "Name: count, dtype: int64"
      ]
     },
     "execution_count": 327,
     "metadata": {},
     "output_type": "execute_result"
    }
   ],
   "source": [
    "df_en_train_small.label.value_counts()"
   ]
  },
  {
   "cell_type": "code",
   "execution_count": 328,
   "metadata": {},
   "outputs": [
    {
     "name": "stderr",
     "output_type": "stream",
     "text": [
      "100%|██████████| 100/100 [10:47<00:00,  6.48s/it]\n"
     ]
    }
   ],
   "source": [
    "from tqdm import tqdm\n",
    "\n",
    "tqdm.pandas()\n",
    "\n",
    "# Use the model to generate last 4 sentences and compute similarity score\n",
    "df_en_train_small['similarity_score'] = df_en_train_small['text'].progress_apply(\n",
    "    lambda text: generate_and_compute_similarity(model, tokenizer, st_model, text, no_of_sentences=2)\n",
    ")"
   ]
  },
  {
   "cell_type": "code",
   "execution_count": 329,
   "metadata": {},
   "outputs": [],
   "source": [
    "df_en_train_small[\"no_of_sentences\"] = df_en_train_small[\"text\"].map(lambda text: len(sent_tokenize(text)))"
   ]
  },
  {
   "cell_type": "code",
   "execution_count": 335,
   "metadata": {},
   "outputs": [],
   "source": [
    "df_en_train_small[\"label_based_on_similarity\"] = df_en_train_small[\"similarity_score\"].map(lambda score: 1 if score > 0.7 else 0)"
   ]
  },
  {
   "cell_type": "code",
   "execution_count": 331,
   "metadata": {},
   "outputs": [
    {
     "data": {
      "text/html": [
       "<div>\n",
       "<style scoped>\n",
       "    .dataframe tbody tr th:only-of-type {\n",
       "        vertical-align: middle;\n",
       "    }\n",
       "\n",
       "    .dataframe tbody tr th {\n",
       "        vertical-align: top;\n",
       "    }\n",
       "\n",
       "    .dataframe thead th {\n",
       "        text-align: right;\n",
       "    }\n",
       "</style>\n",
       "<table border=\"1\" class=\"dataframe\">\n",
       "  <thead>\n",
       "    <tr style=\"text-align: right;\">\n",
       "      <th></th>\n",
       "      <th>id</th>\n",
       "      <th>source</th>\n",
       "      <th>sub_source</th>\n",
       "      <th>lang</th>\n",
       "      <th>model</th>\n",
       "      <th>label</th>\n",
       "      <th>text</th>\n",
       "      <th>similarity_score</th>\n",
       "      <th>no_of_sentences</th>\n",
       "      <th>label_based_on_similarity</th>\n",
       "    </tr>\n",
       "  </thead>\n",
       "  <tbody>\n",
       "    <tr>\n",
       "      <th>0</th>\n",
       "      <td>71fee829-7871-4d08-9ca4-cb745808559e</td>\n",
       "      <td>mage</td>\n",
       "      <td>hswag</td>\n",
       "      <td>en</td>\n",
       "      <td>gpt-3.5-turbo</td>\n",
       "      <td>1</td>\n",
       "      <td>[Additional step] Slowly lift one foot off the...</td>\n",
       "      <td>0.509873</td>\n",
       "      <td>1</td>\n",
       "      <td>1</td>\n",
       "    </tr>\n",
       "    <tr>\n",
       "      <th>1</th>\n",
       "      <td>10ac6396-e03a-4a7e-a53c-a83df2b66f5f</td>\n",
       "      <td>m4gt</td>\n",
       "      <td>wikihow</td>\n",
       "      <td>en</td>\n",
       "      <td>davinci</td>\n",
       "      <td>1</td>\n",
       "      <td>Traveling without overpacking can seem like an...</td>\n",
       "      <td>0.657476</td>\n",
       "      <td>23</td>\n",
       "      <td>1</td>\n",
       "    </tr>\n",
       "    <tr>\n",
       "      <th>2</th>\n",
       "      <td>d3562b41-f80c-4036-ba45-c887574a8b68</td>\n",
       "      <td>m4gt</td>\n",
       "      <td>reddit</td>\n",
       "      <td>en</td>\n",
       "      <td>cohere</td>\n",
       "      <td>1</td>\n",
       "      <td>The abolishment of the Caliphate was a major e...</td>\n",
       "      <td>0.837168</td>\n",
       "      <td>15</td>\n",
       "      <td>1</td>\n",
       "    </tr>\n",
       "    <tr>\n",
       "      <th>3</th>\n",
       "      <td>98f6758e-41ce-4248-bb17-2b3f147c96d3</td>\n",
       "      <td>mage</td>\n",
       "      <td>squad</td>\n",
       "      <td>en</td>\n",
       "      <td>human</td>\n",
       "      <td>0</td>\n",
       "      <td>Beer ranges from less than 3 alcohol by volume...</td>\n",
       "      <td>0.469563</td>\n",
       "      <td>5</td>\n",
       "      <td>0</td>\n",
       "    </tr>\n",
       "    <tr>\n",
       "      <th>4</th>\n",
       "      <td>b6d1c774-5bf9-43a1-9271-81983ead5894</td>\n",
       "      <td>m4gt</td>\n",
       "      <td>wikipedia</td>\n",
       "      <td>en</td>\n",
       "      <td>bloomz</td>\n",
       "      <td>1</td>\n",
       "      <td>Institute of Eastern Europe (IEE) is the large...</td>\n",
       "      <td>0.168207</td>\n",
       "      <td>2</td>\n",
       "      <td>0</td>\n",
       "    </tr>\n",
       "    <tr>\n",
       "      <th>...</th>\n",
       "      <td>...</td>\n",
       "      <td>...</td>\n",
       "      <td>...</td>\n",
       "      <td>...</td>\n",
       "      <td>...</td>\n",
       "      <td>...</td>\n",
       "      <td>...</td>\n",
       "      <td>...</td>\n",
       "      <td>...</td>\n",
       "      <td>...</td>\n",
       "    </tr>\n",
       "    <tr>\n",
       "      <th>95</th>\n",
       "      <td>ad05076b-eef9-4f9a-881f-9c4fe985dd30</td>\n",
       "      <td>m4gt</td>\n",
       "      <td>reddit</td>\n",
       "      <td>en</td>\n",
       "      <td>human</td>\n",
       "      <td>0</td>\n",
       "      <td>Kind of general understanding is that if you w...</td>\n",
       "      <td>0.630675</td>\n",
       "      <td>12</td>\n",
       "      <td>1</td>\n",
       "    </tr>\n",
       "    <tr>\n",
       "      <th>96</th>\n",
       "      <td>84ce48d0-f693-47a2-b479-cd7e51e15150</td>\n",
       "      <td>m4gt</td>\n",
       "      <td>reddit</td>\n",
       "      <td>en</td>\n",
       "      <td>human</td>\n",
       "      <td>0</td>\n",
       "      <td>Iranian Politics are a bit complicated and con...</td>\n",
       "      <td>0.681570</td>\n",
       "      <td>19</td>\n",
       "      <td>1</td>\n",
       "    </tr>\n",
       "    <tr>\n",
       "      <th>97</th>\n",
       "      <td>c84db1fd-8acc-4ccc-8132-314a71213ba2</td>\n",
       "      <td>mage</td>\n",
       "      <td>cmv</td>\n",
       "      <td>en</td>\n",
       "      <td>flan_t5_small</td>\n",
       "      <td>1</td>\n",
       "      <td>Final Edit: Thank you to everyone who contribu...</td>\n",
       "      <td>0.089615</td>\n",
       "      <td>4</td>\n",
       "      <td>0</td>\n",
       "    </tr>\n",
       "    <tr>\n",
       "      <th>98</th>\n",
       "      <td>d1462304-e595-41e6-82fe-94d60d5e485d</td>\n",
       "      <td>m4gt</td>\n",
       "      <td>wikipedia</td>\n",
       "      <td>en</td>\n",
       "      <td>gemma-7b-it</td>\n",
       "      <td>1</td>\n",
       "      <td>## 1896 Boston Beaneaters Season\\n\\nThe 1896 B...</td>\n",
       "      <td>0.726952</td>\n",
       "      <td>19</td>\n",
       "      <td>1</td>\n",
       "    </tr>\n",
       "    <tr>\n",
       "      <th>99</th>\n",
       "      <td>16a8d86b-6d06-4ea2-a1c3-ebac94bc260c</td>\n",
       "      <td>mage</td>\n",
       "      <td>yelp</td>\n",
       "      <td>en</td>\n",
       "      <td>human</td>\n",
       "      <td>0</td>\n",
       "      <td>This is a follow up to my previous review of t...</td>\n",
       "      <td>0.499837</td>\n",
       "      <td>7</td>\n",
       "      <td>0</td>\n",
       "    </tr>\n",
       "  </tbody>\n",
       "</table>\n",
       "<p>100 rows × 10 columns</p>\n",
       "</div>"
      ],
      "text/plain": [
       "                                      id source sub_source lang  \\\n",
       "0   71fee829-7871-4d08-9ca4-cb745808559e   mage      hswag   en   \n",
       "1   10ac6396-e03a-4a7e-a53c-a83df2b66f5f   m4gt    wikihow   en   \n",
       "2   d3562b41-f80c-4036-ba45-c887574a8b68   m4gt     reddit   en   \n",
       "3   98f6758e-41ce-4248-bb17-2b3f147c96d3   mage      squad   en   \n",
       "4   b6d1c774-5bf9-43a1-9271-81983ead5894   m4gt  wikipedia   en   \n",
       "..                                   ...    ...        ...  ...   \n",
       "95  ad05076b-eef9-4f9a-881f-9c4fe985dd30   m4gt     reddit   en   \n",
       "96  84ce48d0-f693-47a2-b479-cd7e51e15150   m4gt     reddit   en   \n",
       "97  c84db1fd-8acc-4ccc-8132-314a71213ba2   mage        cmv   en   \n",
       "98  d1462304-e595-41e6-82fe-94d60d5e485d   m4gt  wikipedia   en   \n",
       "99  16a8d86b-6d06-4ea2-a1c3-ebac94bc260c   mage       yelp   en   \n",
       "\n",
       "            model  label                                               text  \\\n",
       "0   gpt-3.5-turbo      1  [Additional step] Slowly lift one foot off the...   \n",
       "1         davinci      1  Traveling without overpacking can seem like an...   \n",
       "2          cohere      1  The abolishment of the Caliphate was a major e...   \n",
       "3           human      0  Beer ranges from less than 3 alcohol by volume...   \n",
       "4          bloomz      1  Institute of Eastern Europe (IEE) is the large...   \n",
       "..            ...    ...                                                ...   \n",
       "95          human      0  Kind of general understanding is that if you w...   \n",
       "96          human      0  Iranian Politics are a bit complicated and con...   \n",
       "97  flan_t5_small      1  Final Edit: Thank you to everyone who contribu...   \n",
       "98    gemma-7b-it      1  ## 1896 Boston Beaneaters Season\\n\\nThe 1896 B...   \n",
       "99          human      0  This is a follow up to my previous review of t...   \n",
       "\n",
       "    similarity_score  no_of_sentences  label_based_on_similarity  \n",
       "0           0.509873                1                          1  \n",
       "1           0.657476               23                          1  \n",
       "2           0.837168               15                          1  \n",
       "3           0.469563                5                          0  \n",
       "4           0.168207                2                          0  \n",
       "..               ...              ...                        ...  \n",
       "95          0.630675               12                          1  \n",
       "96          0.681570               19                          1  \n",
       "97          0.089615                4                          0  \n",
       "98          0.726952               19                          1  \n",
       "99          0.499837                7                          0  \n",
       "\n",
       "[100 rows x 10 columns]"
      ]
     },
     "execution_count": 331,
     "metadata": {},
     "output_type": "execute_result"
    }
   ],
   "source": [
    "df_en_train_small"
   ]
  },
  {
   "cell_type": "code",
   "execution_count": 336,
   "metadata": {},
   "outputs": [
    {
     "name": "stdout",
     "output_type": "stream",
     "text": [
      "F1: 0.5422642660970399\n",
      "Accuracy: 0.55\n",
      "Balanced accuracy: 0.6466666666666666\n"
     ]
    }
   ],
   "source": [
    "# predictions = df_en_train_small[df_en_train_small[\"no_of_sentences\"] == 1][\"label_based_on_similarity\"].tolist()\n",
    "# labels = df_en_train_small[df_en_train_small[\"no_of_sentences\"] == 1][\"label\"].tolist()\n",
    "\n",
    "# predictions = df_en_train_small[df_en_train_small[\"no_of_sentences\"] > 1][\"label_based_on_similarity\"].tolist()\n",
    "# labels = df_en_train_small[df_en_train_small[\"no_of_sentences\"] > 1][\"label\"].tolist()\n",
    "\n",
    "predictions = df_en_train_small[\"label_based_on_similarity\"].tolist()\n",
    "labels = df_en_train_small[\"label\"].tolist()\n",
    "\n",
    "macro_f1 = f1_score(predictions, labels, average='macro')\n",
    "accuracy = accuracy_score(predictions,labels)\n",
    "balanced_accuracy = balanced_accuracy_score(predictions, labels)\n",
    "\n",
    "print(f\"F1: {macro_f1}\")\n",
    "print(f\"Accuracy: {accuracy}\")\n",
    "print(f\"Balanced accuracy: {balanced_accuracy}\")"
   ]
  },
  {
   "cell_type": "code",
   "execution_count": 337,
   "metadata": {},
   "outputs": [
    {
     "name": "stderr",
     "output_type": "stream",
     "text": [
      "/root/.conda/envs/pytorch/lib/python3.11/site-packages/seaborn/_oldcore.py:1119: FutureWarning: use_inf_as_na option is deprecated and will be removed in a future version. Convert inf values to NaN before operating instead.\n",
      "  with pd.option_context('mode.use_inf_as_na', True):\n",
      "/root/.conda/envs/pytorch/lib/python3.11/site-packages/seaborn/_oldcore.py:1119: FutureWarning: use_inf_as_na option is deprecated and will be removed in a future version. Convert inf values to NaN before operating instead.\n",
      "  with pd.option_context('mode.use_inf_as_na', True):\n",
      "/root/.conda/envs/pytorch/lib/python3.11/site-packages/seaborn/_oldcore.py:1119: FutureWarning: use_inf_as_na option is deprecated and will be removed in a future version. Convert inf values to NaN before operating instead.\n",
      "  with pd.option_context('mode.use_inf_as_na', True):\n"
     ]
    },
    {
     "data": {
      "image/png": "[encoded data removed]",
      "text/plain": [
       "<Figure size 2500x2000 with 3 Axes>"
      ]
     },
     "metadata": {},
     "output_type": "display_data"
    }
   ],
   "source": [
    "# Create a distribution plot over the number of tokens grouped by dataset and label\n",
    "import seaborn as sns\n",
    "import matplotlib.pyplot as plt\n",
    "\n",
    "sns.set(style=\"whitegrid\")\n",
    "\n",
    "fig, ax = plt.subplots(3, 1, figsize=(25, 20))\n",
    "# plt.figure(figsize=(25, 10))\n",
    "\n",
    "sns.histplot(df_en_train_small[df_en_train_small[\"no_of_sentences\"] == 1], x='similarity_score', hue='label', kde=True, ax=ax[0])\n",
    "sns.histplot(df_en_train_small[df_en_train_small[\"no_of_sentences\"] > 1], x='similarity_score', hue='label', kde=True, ax=ax[1])\n",
    "sns.histplot(df_en_train_small, x='similarity_score', hue='label', kde=True, ax=ax[2])\n",
    "\n",
    "# sns.histplot(df_en_dev, x='num_tokens', hue='label', kde=True, ax=ax[0][1])\n",
    "# sns.histplot(df_en_test, x='num_tokens', kde=True, ax=ax[0][2])\n",
    "\n",
    "# sns.histplot(df_en_train, x='num_tokens', hue='label', kde=True, ax=ax[1][0])\n",
    "# sns.histplot(df_en_dev, x='num_tokens', hue='label', kde=True, ax=ax[1][1])\n",
    "# sns.histplot(df_en_test, x='num_tokens', kde=True, ax=ax[1][2])\n",
    "\n",
    "ax[0].set_title(\"Similarity score - sample with 1 sentence\")\n",
    "ax[1].set_title(\"Similarity score - sample with > 1 sentence\")\n",
    "ax[2].set_title(\"Similarity score - all samples\")\n",
    "\n",
    "# ax[0][0].set_title('Train')\n",
    "# ax[0][0].set_xlim(left=-50)\n",
    "# ax[0][1].set_title('Dev')\n",
    "# ax[0][1].set_xlim(left=-50)\n",
    "# ax[0][2].set_title('Test')\n",
    "# ax[0][2].set_xlim(left=-50)\n",
    "\n",
    "# ax[1][0].set_title('Train')\n",
    "# ax[1][0].set_xlim(left=-10, right=2500)\n",
    "# ax[1][1].set_title('Dev')\n",
    "# ax[1][1].set_xlim(left=-10, right=2500)\n",
    "# ax[1][2].set_title('Test')\n",
    "# ax[1][2].set_xlim(left=-10, right=2500)\n",
    "\n",
    "plt.show()"
   ]
  },
  {
   "cell_type": "markdown",
   "metadata": {},
   "source": [
    "# Use cosine similarity between each generated token embedding and original token embeddings"
   ]
  },
  {
   "cell_type": "code",
   "execution_count": 459,
   "metadata": {},
   "outputs": [],
   "source": [
    "import torch.nn.functional as F\n",
    "from nltk import word_tokenize, sent_tokenize\n",
    "\n",
    "\n",
    "def cosine_similarity(a, b):\n",
    "    return F.cosine_similarity(a.unsqueeze(0), b.unsqueeze(0), dim=-1).item()\n",
    "\n",
    "\n",
    "def compute_average_token_similarities(original_token_embeddings, generated_token_embeddings):\n",
    "    similarities = []\n",
    "    for i in range(min(len(generated_token_embeddings), len(original_token_embeddings))):\n",
    "        sim = cosine_similarity(generated_token_embeddings[i], original_token_embeddings[i])\n",
    "        similarities.append(sim)\n",
    "    \n",
    "    # Print similarity scores for each token pair\n",
    "    # print(\"Similarity per token:\", similarities)\n",
    "    \n",
    "    # Optionally, you can average the similarity to get a single score\n",
    "    average_similarity = sum(similarities) / len(similarities)\n",
    "    # print(\"Average similarity:\", average_similarity)\n",
    "\n",
    "    return average_similarity\n",
    "\n",
    "\n",
    "def generate_token_embeddings(model, tokenizer, context, original_text, generation_style=\"sentences\", no_of_generated_sentences=2):\n",
    "    model.eval()\n",
    "\n",
    "    messages = []\n",
    "\n",
    "    if generation_style == \"sentences\":\n",
    "        messages = [\n",
    "            {\n",
    "                \"role\": \"system\",\n",
    "                \"content\": f\"You are an assistant and help people continue their stories with the most relevant information in the most natural way possible. You will have to respond with EXACTLY {no_of_generated_sentences} sentences.\"\n",
    "            },\n",
    "            {\n",
    "                \"role\": \"user\",\n",
    "                \"content\": f\"Using only {no_of_generated_sentences} sentences continue this story in the most natural way possible: {context}\"\n",
    "            }\n",
    "        ]\n",
    "    elif generation_style == \"words\":\n",
    "        messages = [\n",
    "            {\n",
    "                \"role\": \"system\",\n",
    "                \"content\": f\"You are an assistant and help people finish their sentences with the most relevant information in the most natural way possible. You should only complete the given sentence.\"\n",
    "            },\n",
    "            {\n",
    "                \"role\": \"user\",\n",
    "                \"content\": f\"Finish this sentence in the most natural way possible: {context}\"\n",
    "            }\n",
    "        ]\n",
    "    else:\n",
    "        raise Exception(f\"No such generation_style = {generation_style}\")\n",
    "\n",
    "    text = tokenizer.apply_chat_template(\n",
    "        messages,\n",
    "        tokenize=False,\n",
    "        add_generation_prompt=True\n",
    "    )\n",
    "    model_inputs = tokenizer([text], return_tensors=\"pt\").to(model.device)\n",
    "\n",
    "    with torch.no_grad():\n",
    "        generated_outputs = model.generate(\n",
    "            **model_inputs,\n",
    "            max_new_tokens=1024,\n",
    "        )\n",
    "\n",
    "    generated_ids = [\n",
    "        output_ids[len(input_ids):] for input_ids, output_ids in zip(model_inputs.input_ids, generated_outputs)\n",
    "    ]\n",
    "    generated_text = tokenizer.batch_decode(generated_ids, skip_special_tokens=True)[0]\n",
    "\n",
    "    # print(f\"Generated text: {generated_text}\")\n",
    "\n",
    "    inputs = tokenizer([original_text], return_tensors=\"pt\").to(model.device)\n",
    "\n",
    "    with torch.no_grad():\n",
    "        # Get the hidden states for the input context\n",
    "        original_outputs = model(**inputs, output_hidden_states=True)\n",
    "        original_embeddings = original_outputs.hidden_states[-1]  # Take last hidden state\n",
    "    \n",
    "        # Get the hidden states for the entire sequence (input + generated)\n",
    "        generated_outputs = model(generated_outputs, output_hidden_states=True)\n",
    "        generated_embeddings = generated_outputs.hidden_states[-1]  # Take last hidden state\n",
    "    \n",
    "    generated_token_embeddings = generated_embeddings[0, len(inputs.input_ids[0]):, :]\n",
    "    original_token_embeddings = original_embeddings[0, :, :]\n",
    "    \n",
    "    return original_token_embeddings, generated_token_embeddings\n",
    "\n",
    "\n",
    "def generate_and_compute_token_embedding_similarity(model, tokenizer, text, no_of_sentences=2):\n",
    "    sentences = sent_tokenize(text)\n",
    "\n",
    "    n = len(sentences)\n",
    "\n",
    "    similarity_score = None\n",
    "    \n",
    "    if n == 1:\n",
    "        words = word_tokenize(sentences[0])\n",
    "\n",
    "        # words_split = 2 * (len(words) // 3)\n",
    "        words_split = len(words) // 2\n",
    "\n",
    "        original_text = \" \".join(words[words_split:])\n",
    "\n",
    "        context = \" \".join(words[:words_split])\n",
    "\n",
    "        original_token_embeddings, generated_token_embeddings = generate_token_embeddings(\n",
    "            model,\n",
    "            tokenizer,\n",
    "            context,\n",
    "            original_text,\n",
    "            generation_style=\"words\",\n",
    "        )\n",
    "\n",
    "        similarity_score = compute_average_token_similarities(\n",
    "            original_token_embeddings,\n",
    "            generated_token_embeddings,\n",
    "        )\n",
    "    elif n == 2:\n",
    "        original_text = sentences[1]\n",
    "\n",
    "        context = sentences[0]\n",
    "\n",
    "        original_token_embeddings, generated_token_embeddings = generate_token_embeddings(\n",
    "            model,\n",
    "            tokenizer,\n",
    "            context,\n",
    "            original_text,\n",
    "            generation_style=\"sentences\",\n",
    "            no_of_generated_sentences=1,\n",
    "        )\n",
    "\n",
    "        similarity_score = compute_average_token_similarities(\n",
    "            original_token_embeddings,\n",
    "            generated_token_embeddings,\n",
    "        )\n",
    "    else:\n",
    "        half = n // 2\n",
    "\n",
    "        original_text = \" \".join(sentences[half:])\n",
    "        context = \" \".join(sentences[:half])\n",
    "\n",
    "        original_token_embeddings, generated_token_embeddings = generate_token_embeddings(\n",
    "            model,\n",
    "            tokenizer,\n",
    "            context,\n",
    "            original_text,\n",
    "            generation_style=\"sentences\",\n",
    "            no_of_generated_sentences=max(8, half),\n",
    "        )\n",
    "\n",
    "        similarity_score = compute_average_token_similarities(\n",
    "            original_token_embeddings,\n",
    "            generated_token_embeddings,\n",
    "        )\n",
    "    \n",
    "        # no_of_starting_sentences = 2\n",
    "        # # generated_sentences = sentences[:no_of_starting_sentences]\n",
    "\n",
    "        # total_similarity_score = 0.0\n",
    "        # counter = 0\n",
    "    \n",
    "        # no_of_generated_sentences = min(no_of_sentences, n - no_of_starting_sentences)\n",
    "        # for idx in range(no_of_starting_sentences, n, no_of_generated_sentences):\n",
    "        #     original_text = \" \".join(sentences[idx:idx + no_of_generated_sentences])\n",
    "\n",
    "        #     # context = \" \".join(generated_sentences[:idx])\n",
    "        #     context = \" \".join(sentences[:idx])\n",
    "    \n",
    "        #     ote, gte = generate_token_embeddings(\n",
    "        #         model,\n",
    "        #         tokenizer,\n",
    "        #         context,\n",
    "        #         original_text,\n",
    "        #         generation_style=\"sentences\",\n",
    "        #         no_of_generated_sentences=no_of_generated_sentences,\n",
    "        #     )\n",
    "\n",
    "        #     total_similarity_score += compute_average_token_similarities(\n",
    "        #         ote,\n",
    "        #         gte,\n",
    "        #     )\n",
    "        #     counter += no_of_generated_sentences\n",
    "\n",
    "        # similarity_score = total_similarity_score / counter\n",
    "\n",
    "    return similarity_score"
   ]
  },
  {
   "cell_type": "code",
   "execution_count": 375,
   "metadata": {},
   "outputs": [
    {
     "name": "stdout",
     "output_type": "stream",
     "text": [
      "Generated text: The Bush administration's decision to invade Iraq stemmed from concerns about Saddam Hussein's alleged possession of weapons of mass destruction, which the administration deemed a grave threat to international peace and security.\n",
      "torch.Size([80, 896])\n",
      "torch.Size([408, 896])\n"
     ]
    }
   ],
   "source": [
    "ote, gte = generate_token_embeddings(\n",
    "    model,\n",
    "    tokenizer,\n",
    "    \" \".join(human_train_sample_text_sentences[:-2]),\n",
    "    human_train_sample_text_sentences[-2:]\n",
    ")\n",
    "\n",
    "print(ote.shape)\n",
    "print(gte.shape)"
   ]
  },
  {
   "cell_type": "code",
   "execution_count": 460,
   "metadata": {},
   "outputs": [],
   "source": [
    "df_en_train_small = df_en_train.sample(100, random_state=RANDOM_SEED, ignore_index=True)"
   ]
  },
  {
   "cell_type": "code",
   "execution_count": 461,
   "metadata": {},
   "outputs": [
    {
     "name": "stderr",
     "output_type": "stream",
     "text": [
      "100%|██████████| 100/100 [04:26<00:00,  2.66s/it]\n"
     ]
    }
   ],
   "source": [
    "from tqdm import tqdm\n",
    "\n",
    "tqdm.pandas()\n",
    "\n",
    "df_en_train_small['similarity_score'] = df_en_train_small['text'].progress_apply(\n",
    "    lambda text: generate_and_compute_token_embedding_similarity(\n",
    "        model,\n",
    "        tokenizer,\n",
    "        text,\n",
    "        no_of_sentences=1,\n",
    "    )\n",
    ")"
   ]
  },
  {
   "cell_type": "code",
   "execution_count": 462,
   "metadata": {},
   "outputs": [],
   "source": [
    "df_en_train_small[\"no_of_sentences\"] = df_en_train_small[\"text\"].map(lambda text: len(sent_tokenize(text)))"
   ]
  },
  {
   "cell_type": "code",
   "execution_count": 463,
   "metadata": {},
   "outputs": [
    {
     "data": {
      "text/html": [
       "<div>\n",
       "<style scoped>\n",
       "    .dataframe tbody tr th:only-of-type {\n",
       "        vertical-align: middle;\n",
       "    }\n",
       "\n",
       "    .dataframe tbody tr th {\n",
       "        vertical-align: top;\n",
       "    }\n",
       "\n",
       "    .dataframe thead th {\n",
       "        text-align: right;\n",
       "    }\n",
       "</style>\n",
       "<table border=\"1\" class=\"dataframe\">\n",
       "  <thead>\n",
       "    <tr style=\"text-align: right;\">\n",
       "      <th></th>\n",
       "      <th>id</th>\n",
       "      <th>source</th>\n",
       "      <th>sub_source</th>\n",
       "      <th>lang</th>\n",
       "      <th>model</th>\n",
       "      <th>label</th>\n",
       "      <th>text</th>\n",
       "      <th>similarity_score</th>\n",
       "      <th>no_of_sentences</th>\n",
       "    </tr>\n",
       "  </thead>\n",
       "  <tbody>\n",
       "    <tr>\n",
       "      <th>0</th>\n",
       "      <td>71fee829-7871-4d08-9ca4-cb745808559e</td>\n",
       "      <td>mage</td>\n",
       "      <td>hswag</td>\n",
       "      <td>en</td>\n",
       "      <td>gpt-3.5-turbo</td>\n",
       "      <td>1</td>\n",
       "      <td>[Additional step] Slowly lift one foot off the...</td>\n",
       "      <td>0.369920</td>\n",
       "      <td>1</td>\n",
       "    </tr>\n",
       "    <tr>\n",
       "      <th>1</th>\n",
       "      <td>10ac6396-e03a-4a7e-a53c-a83df2b66f5f</td>\n",
       "      <td>m4gt</td>\n",
       "      <td>wikihow</td>\n",
       "      <td>en</td>\n",
       "      <td>davinci</td>\n",
       "      <td>1</td>\n",
       "      <td>Traveling without overpacking can seem like an...</td>\n",
       "      <td>0.547125</td>\n",
       "      <td>23</td>\n",
       "    </tr>\n",
       "    <tr>\n",
       "      <th>2</th>\n",
       "      <td>d3562b41-f80c-4036-ba45-c887574a8b68</td>\n",
       "      <td>m4gt</td>\n",
       "      <td>reddit</td>\n",
       "      <td>en</td>\n",
       "      <td>cohere</td>\n",
       "      <td>1</td>\n",
       "      <td>The abolishment of the Caliphate was a major e...</td>\n",
       "      <td>0.417041</td>\n",
       "      <td>15</td>\n",
       "    </tr>\n",
       "    <tr>\n",
       "      <th>3</th>\n",
       "      <td>98f6758e-41ce-4248-bb17-2b3f147c96d3</td>\n",
       "      <td>mage</td>\n",
       "      <td>squad</td>\n",
       "      <td>en</td>\n",
       "      <td>human</td>\n",
       "      <td>0</td>\n",
       "      <td>Beer ranges from less than 3 alcohol by volume...</td>\n",
       "      <td>0.507195</td>\n",
       "      <td>5</td>\n",
       "    </tr>\n",
       "    <tr>\n",
       "      <th>4</th>\n",
       "      <td>b6d1c774-5bf9-43a1-9271-81983ead5894</td>\n",
       "      <td>m4gt</td>\n",
       "      <td>wikipedia</td>\n",
       "      <td>en</td>\n",
       "      <td>bloomz</td>\n",
       "      <td>1</td>\n",
       "      <td>Institute of Eastern Europe (IEE) is the large...</td>\n",
       "      <td>0.434649</td>\n",
       "      <td>2</td>\n",
       "    </tr>\n",
       "    <tr>\n",
       "      <th>...</th>\n",
       "      <td>...</td>\n",
       "      <td>...</td>\n",
       "      <td>...</td>\n",
       "      <td>...</td>\n",
       "      <td>...</td>\n",
       "      <td>...</td>\n",
       "      <td>...</td>\n",
       "      <td>...</td>\n",
       "      <td>...</td>\n",
       "    </tr>\n",
       "    <tr>\n",
       "      <th>95</th>\n",
       "      <td>ad05076b-eef9-4f9a-881f-9c4fe985dd30</td>\n",
       "      <td>m4gt</td>\n",
       "      <td>reddit</td>\n",
       "      <td>en</td>\n",
       "      <td>human</td>\n",
       "      <td>0</td>\n",
       "      <td>Kind of general understanding is that if you w...</td>\n",
       "      <td>0.570415</td>\n",
       "      <td>12</td>\n",
       "    </tr>\n",
       "    <tr>\n",
       "      <th>96</th>\n",
       "      <td>84ce48d0-f693-47a2-b479-cd7e51e15150</td>\n",
       "      <td>m4gt</td>\n",
       "      <td>reddit</td>\n",
       "      <td>en</td>\n",
       "      <td>human</td>\n",
       "      <td>0</td>\n",
       "      <td>Iranian Politics are a bit complicated and con...</td>\n",
       "      <td>0.498692</td>\n",
       "      <td>19</td>\n",
       "    </tr>\n",
       "    <tr>\n",
       "      <th>97</th>\n",
       "      <td>c84db1fd-8acc-4ccc-8132-314a71213ba2</td>\n",
       "      <td>mage</td>\n",
       "      <td>cmv</td>\n",
       "      <td>en</td>\n",
       "      <td>flan_t5_small</td>\n",
       "      <td>1</td>\n",
       "      <td>Final Edit: Thank you to everyone who contribu...</td>\n",
       "      <td>0.214928</td>\n",
       "      <td>4</td>\n",
       "    </tr>\n",
       "    <tr>\n",
       "      <th>98</th>\n",
       "      <td>d1462304-e595-41e6-82fe-94d60d5e485d</td>\n",
       "      <td>m4gt</td>\n",
       "      <td>wikipedia</td>\n",
       "      <td>en</td>\n",
       "      <td>gemma-7b-it</td>\n",
       "      <td>1</td>\n",
       "      <td>## 1896 Boston Beaneaters Season\\n\\nThe 1896 B...</td>\n",
       "      <td>0.381427</td>\n",
       "      <td>19</td>\n",
       "    </tr>\n",
       "    <tr>\n",
       "      <th>99</th>\n",
       "      <td>16a8d86b-6d06-4ea2-a1c3-ebac94bc260c</td>\n",
       "      <td>mage</td>\n",
       "      <td>yelp</td>\n",
       "      <td>en</td>\n",
       "      <td>human</td>\n",
       "      <td>0</td>\n",
       "      <td>This is a follow up to my previous review of t...</td>\n",
       "      <td>0.562281</td>\n",
       "      <td>7</td>\n",
       "    </tr>\n",
       "  </tbody>\n",
       "</table>\n",
       "<p>100 rows × 9 columns</p>\n",
       "</div>"
      ],
      "text/plain": [
       "                                      id source sub_source lang  \\\n",
       "0   71fee829-7871-4d08-9ca4-cb745808559e   mage      hswag   en   \n",
       "1   10ac6396-e03a-4a7e-a53c-a83df2b66f5f   m4gt    wikihow   en   \n",
       "2   d3562b41-f80c-4036-ba45-c887574a8b68   m4gt     reddit   en   \n",
       "3   98f6758e-41ce-4248-bb17-2b3f147c96d3   mage      squad   en   \n",
       "4   b6d1c774-5bf9-43a1-9271-81983ead5894   m4gt  wikipedia   en   \n",
       "..                                   ...    ...        ...  ...   \n",
       "95  ad05076b-eef9-4f9a-881f-9c4fe985dd30   m4gt     reddit   en   \n",
       "96  84ce48d0-f693-47a2-b479-cd7e51e15150   m4gt     reddit   en   \n",
       "97  c84db1fd-8acc-4ccc-8132-314a71213ba2   mage        cmv   en   \n",
       "98  d1462304-e595-41e6-82fe-94d60d5e485d   m4gt  wikipedia   en   \n",
       "99  16a8d86b-6d06-4ea2-a1c3-ebac94bc260c   mage       yelp   en   \n",
       "\n",
       "            model  label                                               text  \\\n",
       "0   gpt-3.5-turbo      1  [Additional step] Slowly lift one foot off the...   \n",
       "1         davinci      1  Traveling without overpacking can seem like an...   \n",
       "2          cohere      1  The abolishment of the Caliphate was a major e...   \n",
       "3           human      0  Beer ranges from less than 3 alcohol by volume...   \n",
       "4          bloomz      1  Institute of Eastern Europe (IEE) is the large...   \n",
       "..            ...    ...                                                ...   \n",
       "95          human      0  Kind of general understanding is that if you w...   \n",
       "96          human      0  Iranian Politics are a bit complicated and con...   \n",
       "97  flan_t5_small      1  Final Edit: Thank you to everyone who contribu...   \n",
       "98    gemma-7b-it      1  ## 1896 Boston Beaneaters Season\\n\\nThe 1896 B...   \n",
       "99          human      0  This is a follow up to my previous review of t...   \n",
       "\n",
       "    similarity_score  no_of_sentences  \n",
       "0           0.369920                1  \n",
       "1           0.547125               23  \n",
       "2           0.417041               15  \n",
       "3           0.507195                5  \n",
       "4           0.434649                2  \n",
       "..               ...              ...  \n",
       "95          0.570415               12  \n",
       "96          0.498692               19  \n",
       "97          0.214928                4  \n",
       "98          0.381427               19  \n",
       "99          0.562281                7  \n",
       "\n",
       "[100 rows x 9 columns]"
      ]
     },
     "execution_count": 463,
     "metadata": {},
     "output_type": "execute_result"
    }
   ],
   "source": [
    "df_en_train_small"
   ]
  },
  {
   "cell_type": "code",
   "execution_count": 464,
   "metadata": {},
   "outputs": [],
   "source": [
    "df_en_train_small[\"label_based_on_similarity\"] = df_en_train_small[\"similarity_score\"].map(lambda score: 1 if score >0.4 else 0)"
   ]
  },
  {
   "cell_type": "code",
   "execution_count": 465,
   "metadata": {},
   "outputs": [
    {
     "data": {
      "text/html": [
       "<div>\n",
       "<style scoped>\n",
       "    .dataframe tbody tr th:only-of-type {\n",
       "        vertical-align: middle;\n",
       "    }\n",
       "\n",
       "    .dataframe tbody tr th {\n",
       "        vertical-align: top;\n",
       "    }\n",
       "\n",
       "    .dataframe thead th {\n",
       "        text-align: right;\n",
       "    }\n",
       "</style>\n",
       "<table border=\"1\" class=\"dataframe\">\n",
       "  <thead>\n",
       "    <tr style=\"text-align: right;\">\n",
       "      <th></th>\n",
       "      <th>id</th>\n",
       "      <th>source</th>\n",
       "      <th>sub_source</th>\n",
       "      <th>lang</th>\n",
       "      <th>model</th>\n",
       "      <th>label</th>\n",
       "      <th>text</th>\n",
       "      <th>similarity_score</th>\n",
       "      <th>no_of_sentences</th>\n",
       "      <th>label_based_on_similarity</th>\n",
       "    </tr>\n",
       "  </thead>\n",
       "  <tbody>\n",
       "    <tr>\n",
       "      <th>0</th>\n",
       "      <td>71fee829-7871-4d08-9ca4-cb745808559e</td>\n",
       "      <td>mage</td>\n",
       "      <td>hswag</td>\n",
       "      <td>en</td>\n",
       "      <td>gpt-3.5-turbo</td>\n",
       "      <td>1</td>\n",
       "      <td>[Additional step] Slowly lift one foot off the...</td>\n",
       "      <td>0.369920</td>\n",
       "      <td>1</td>\n",
       "      <td>0</td>\n",
       "    </tr>\n",
       "    <tr>\n",
       "      <th>1</th>\n",
       "      <td>10ac6396-e03a-4a7e-a53c-a83df2b66f5f</td>\n",
       "      <td>m4gt</td>\n",
       "      <td>wikihow</td>\n",
       "      <td>en</td>\n",
       "      <td>davinci</td>\n",
       "      <td>1</td>\n",
       "      <td>Traveling without overpacking can seem like an...</td>\n",
       "      <td>0.547125</td>\n",
       "      <td>23</td>\n",
       "      <td>1</td>\n",
       "    </tr>\n",
       "    <tr>\n",
       "      <th>2</th>\n",
       "      <td>d3562b41-f80c-4036-ba45-c887574a8b68</td>\n",
       "      <td>m4gt</td>\n",
       "      <td>reddit</td>\n",
       "      <td>en</td>\n",
       "      <td>cohere</td>\n",
       "      <td>1</td>\n",
       "      <td>The abolishment of the Caliphate was a major e...</td>\n",
       "      <td>0.417041</td>\n",
       "      <td>15</td>\n",
       "      <td>1</td>\n",
       "    </tr>\n",
       "    <tr>\n",
       "      <th>3</th>\n",
       "      <td>98f6758e-41ce-4248-bb17-2b3f147c96d3</td>\n",
       "      <td>mage</td>\n",
       "      <td>squad</td>\n",
       "      <td>en</td>\n",
       "      <td>human</td>\n",
       "      <td>0</td>\n",
       "      <td>Beer ranges from less than 3 alcohol by volume...</td>\n",
       "      <td>0.507195</td>\n",
       "      <td>5</td>\n",
       "      <td>1</td>\n",
       "    </tr>\n",
       "    <tr>\n",
       "      <th>4</th>\n",
       "      <td>b6d1c774-5bf9-43a1-9271-81983ead5894</td>\n",
       "      <td>m4gt</td>\n",
       "      <td>wikipedia</td>\n",
       "      <td>en</td>\n",
       "      <td>bloomz</td>\n",
       "      <td>1</td>\n",
       "      <td>Institute of Eastern Europe (IEE) is the large...</td>\n",
       "      <td>0.434649</td>\n",
       "      <td>2</td>\n",
       "      <td>1</td>\n",
       "    </tr>\n",
       "    <tr>\n",
       "      <th>...</th>\n",
       "      <td>...</td>\n",
       "      <td>...</td>\n",
       "      <td>...</td>\n",
       "      <td>...</td>\n",
       "      <td>...</td>\n",
       "      <td>...</td>\n",
       "      <td>...</td>\n",
       "      <td>...</td>\n",
       "      <td>...</td>\n",
       "      <td>...</td>\n",
       "    </tr>\n",
       "    <tr>\n",
       "      <th>95</th>\n",
       "      <td>ad05076b-eef9-4f9a-881f-9c4fe985dd30</td>\n",
       "      <td>m4gt</td>\n",
       "      <td>reddit</td>\n",
       "      <td>en</td>\n",
       "      <td>human</td>\n",
       "      <td>0</td>\n",
       "      <td>Kind of general understanding is that if you w...</td>\n",
       "      <td>0.570415</td>\n",
       "      <td>12</td>\n",
       "      <td>1</td>\n",
       "    </tr>\n",
       "    <tr>\n",
       "      <th>96</th>\n",
       "      <td>84ce48d0-f693-47a2-b479-cd7e51e15150</td>\n",
       "      <td>m4gt</td>\n",
       "      <td>reddit</td>\n",
       "      <td>en</td>\n",
       "      <td>human</td>\n",
       "      <td>0</td>\n",
       "      <td>Iranian Politics are a bit complicated and con...</td>\n",
       "      <td>0.498692</td>\n",
       "      <td>19</td>\n",
       "      <td>1</td>\n",
       "    </tr>\n",
       "    <tr>\n",
       "      <th>97</th>\n",
       "      <td>c84db1fd-8acc-4ccc-8132-314a71213ba2</td>\n",
       "      <td>mage</td>\n",
       "      <td>cmv</td>\n",
       "      <td>en</td>\n",
       "      <td>flan_t5_small</td>\n",
       "      <td>1</td>\n",
       "      <td>Final Edit: Thank you to everyone who contribu...</td>\n",
       "      <td>0.214928</td>\n",
       "      <td>4</td>\n",
       "      <td>0</td>\n",
       "    </tr>\n",
       "    <tr>\n",
       "      <th>98</th>\n",
       "      <td>d1462304-e595-41e6-82fe-94d60d5e485d</td>\n",
       "      <td>m4gt</td>\n",
       "      <td>wikipedia</td>\n",
       "      <td>en</td>\n",
       "      <td>gemma-7b-it</td>\n",
       "      <td>1</td>\n",
       "      <td>## 1896 Boston Beaneaters Season\\n\\nThe 1896 B...</td>\n",
       "      <td>0.381427</td>\n",
       "      <td>19</td>\n",
       "      <td>0</td>\n",
       "    </tr>\n",
       "    <tr>\n",
       "      <th>99</th>\n",
       "      <td>16a8d86b-6d06-4ea2-a1c3-ebac94bc260c</td>\n",
       "      <td>mage</td>\n",
       "      <td>yelp</td>\n",
       "      <td>en</td>\n",
       "      <td>human</td>\n",
       "      <td>0</td>\n",
       "      <td>This is a follow up to my previous review of t...</td>\n",
       "      <td>0.562281</td>\n",
       "      <td>7</td>\n",
       "      <td>1</td>\n",
       "    </tr>\n",
       "  </tbody>\n",
       "</table>\n",
       "<p>100 rows × 10 columns</p>\n",
       "</div>"
      ],
      "text/plain": [
       "                                      id source sub_source lang  \\\n",
       "0   71fee829-7871-4d08-9ca4-cb745808559e   mage      hswag   en   \n",
       "1   10ac6396-e03a-4a7e-a53c-a83df2b66f5f   m4gt    wikihow   en   \n",
       "2   d3562b41-f80c-4036-ba45-c887574a8b68   m4gt     reddit   en   \n",
       "3   98f6758e-41ce-4248-bb17-2b3f147c96d3   mage      squad   en   \n",
       "4   b6d1c774-5bf9-43a1-9271-81983ead5894   m4gt  wikipedia   en   \n",
       "..                                   ...    ...        ...  ...   \n",
       "95  ad05076b-eef9-4f9a-881f-9c4fe985dd30   m4gt     reddit   en   \n",
       "96  84ce48d0-f693-47a2-b479-cd7e51e15150   m4gt     reddit   en   \n",
       "97  c84db1fd-8acc-4ccc-8132-314a71213ba2   mage        cmv   en   \n",
       "98  d1462304-e595-41e6-82fe-94d60d5e485d   m4gt  wikipedia   en   \n",
       "99  16a8d86b-6d06-4ea2-a1c3-ebac94bc260c   mage       yelp   en   \n",
       "\n",
       "            model  label                                               text  \\\n",
       "0   gpt-3.5-turbo      1  [Additional step] Slowly lift one foot off the...   \n",
       "1         davinci      1  Traveling without overpacking can seem like an...   \n",
       "2          cohere      1  The abolishment of the Caliphate was a major e...   \n",
       "3           human      0  Beer ranges from less than 3 alcohol by volume...   \n",
       "4          bloomz      1  Institute of Eastern Europe (IEE) is the large...   \n",
       "..            ...    ...                                                ...   \n",
       "95          human      0  Kind of general understanding is that if you w...   \n",
       "96          human      0  Iranian Politics are a bit complicated and con...   \n",
       "97  flan_t5_small      1  Final Edit: Thank you to everyone who contribu...   \n",
       "98    gemma-7b-it      1  ## 1896 Boston Beaneaters Season\\n\\nThe 1896 B...   \n",
       "99          human      0  This is a follow up to my previous review of t...   \n",
       "\n",
       "    similarity_score  no_of_sentences  label_based_on_similarity  \n",
       "0           0.369920                1                          0  \n",
       "1           0.547125               23                          1  \n",
       "2           0.417041               15                          1  \n",
       "3           0.507195                5                          1  \n",
       "4           0.434649                2                          1  \n",
       "..               ...              ...                        ...  \n",
       "95          0.570415               12                          1  \n",
       "96          0.498692               19                          1  \n",
       "97          0.214928                4                          0  \n",
       "98          0.381427               19                          0  \n",
       "99          0.562281                7                          1  \n",
       "\n",
       "[100 rows x 10 columns]"
      ]
     },
     "execution_count": 465,
     "metadata": {},
     "output_type": "execute_result"
    }
   ],
   "source": [
    "df_en_train_small"
   ]
  },
  {
   "cell_type": "code",
   "execution_count": 466,
   "metadata": {},
   "outputs": [
    {
     "name": "stdout",
     "output_type": "stream",
     "text": [
      "F1: 0.43502824858757067\n",
      "Accuracy: 0.53\n",
      "Balanced accuracy: 0.44032549728752257\n"
     ]
    }
   ],
   "source": [
    "# predictions = df_en_train_small[df_en_train_small[\"no_of_sentences\"] == 1][\"label_based_on_similarity\"].tolist()\n",
    "# labels = df_en_train_small[df_en_train_small[\"no_of_sentences\"] == 1][\"label\"].tolist()\n",
    "\n",
    "# predictions = df_en_train_small[df_en_train_small[\"no_of_sentences\"] > 1][\"label_based_on_similarity\"].tolist()\n",
    "# labels = df_en_train_small[df_en_train_small[\"no_of_sentences\"] > 1][\"label\"].tolist()\n",
    "\n",
    "predictions = df_en_train_small[\"label_based_on_similarity\"].tolist()\n",
    "labels = df_en_train_small[\"label\"].tolist()\n",
    "\n",
    "macro_f1 = f1_score(predictions, labels, average='macro')\n",
    "accuracy = accuracy_score(predictions,labels)\n",
    "balanced_accuracy = balanced_accuracy_score(predictions, labels)\n",
    "\n",
    "print(f\"F1: {macro_f1}\")\n",
    "print(f\"Accuracy: {accuracy}\")\n",
    "print(f\"Balanced accuracy: {balanced_accuracy}\")"
   ]
  },
  {
   "cell_type": "code",
   "execution_count": 467,
   "metadata": {},
   "outputs": [
    {
     "name": "stderr",
     "output_type": "stream",
     "text": [
      "/root/.conda/envs/pytorch/lib/python3.11/site-packages/seaborn/_oldcore.py:1119: FutureWarning: use_inf_as_na option is deprecated and will be removed in a future version. Convert inf values to NaN before operating instead.\n",
      "  with pd.option_context('mode.use_inf_as_na', True):\n",
      "/root/.conda/envs/pytorch/lib/python3.11/site-packages/seaborn/_oldcore.py:1119: FutureWarning: use_inf_as_na option is deprecated and will be removed in a future version. Convert inf values to NaN before operating instead.\n",
      "  with pd.option_context('mode.use_inf_as_na', True):\n",
      "/root/.conda/envs/pytorch/lib/python3.11/site-packages/seaborn/_oldcore.py:1119: FutureWarning: use_inf_as_na option is deprecated and will be removed in a future version. Convert inf values to NaN before operating instead.\n",
      "  with pd.option_context('mode.use_inf_as_na', True):\n",
      "/root/.conda/envs/pytorch/lib/python3.11/site-packages/seaborn/_oldcore.py:1119: FutureWarning: use_inf_as_na option is deprecated and will be removed in a future version. Convert inf values to NaN before operating instead.\n",
      "  with pd.option_context('mode.use_inf_as_na', True):\n"
     ]
    },
    {
     "data": {
      "image/png": "[encoded data removed]",
      "text/plain": [
       "<Figure size 2500x2000 with 4 Axes>"
      ]
     },
     "metadata": {},
     "output_type": "display_data"
    }
   ],
   "source": [
    "# Create a distribution plot over the number of tokens grouped by dataset and label\n",
    "import seaborn as sns\n",
    "import matplotlib.pyplot as plt\n",
    "\n",
    "sns.set(style=\"whitegrid\")\n",
    "\n",
    "fig, ax = plt.subplots(4, 1, figsize=(25, 20))\n",
    "# plt.figure(figsize=(25, 10))\n",
    "\n",
    "sns.histplot(df_en_train_small[df_en_train_small[\"no_of_sentences\"] == 1], x='similarity_score', hue='label', kde=True, ax=ax[0])\n",
    "sns.histplot(df_en_train_small[df_en_train_small[\"no_of_sentences\"] == 2], x='similarity_score', hue='label', kde=True, ax=ax[1])\n",
    "sns.histplot(df_en_train_small[df_en_train_small[\"no_of_sentences\"] > 2], x='similarity_score', hue='label', kde=True, ax=ax[2])\n",
    "sns.histplot(df_en_train_small, x='similarity_score', hue='label', kde=True, ax=ax[3])\n",
    "\n",
    "ax[0].set_title(\"Similarity score - sample with 1 sentence\")\n",
    "ax[1].set_title(\"Similarity score - sample with 2 sentences\")\n",
    "ax[2].set_title(\"Similarity score - sample with > 2 sentences\")\n",
    "ax[3].set_title(\"Similarity score - all samples\")\n",
    "\n",
    "plt.show()"
   ]
  },
  {
   "cell_type": "markdown",
   "metadata": {},
   "source": [
    "# Measure performance before training/fine-tuning the model"
   ]
  },
  {
   "cell_type": "code",
   "execution_count": null,
   "metadata": {},
   "outputs": [],
   "source": [
    "import torch\n",
    "\n",
    "from tqdm import tqdm\n",
    "\n",
    "\n",
    "def get_performance_metrics(y_true, y_pred):\n",
    "    f1 = f1_score(y_true, y_pred, average='macro')\n",
    "    acc = accuracy_score(y_true, y_pred)\n",
    "    bal_acc = balanced_accuracy_score(y_true, y_pred)\n",
    "    cm = confusion_matrix(y_true, y_pred)\n",
    "    cr = classification_report(y_true, y_pred)\n",
    "\n",
    "    return {\n",
    "        'f1': f1,\n",
    "        'accuracy': acc,\n",
    "        'balanced_accuracy': bal_acc,\n",
    "        'confusion_matrix': cm,\n",
    "        'classification_report': cr\n",
    "    }\n",
    "\n",
    "\n",
    "def measure_initial_performance(model, tokenizer, df_test, device, max_length=512, batch_size=64):\n",
    "    model.to(device)\n",
    "    model.eval()\n",
    "\n",
    "    test_samples = df_test.text.tolist()\n",
    "\n",
    "    outputs = []\n",
    "    for i in tqdm(range(0, len(test_samples), batch_size)):\n",
    "        batch = test_samples[i:i + batch_size]\n",
    "        inputs = tokenizer(\n",
    "            batch,\n",
    "            padding=True,\n",
    "            truncation=True,\n",
    "            max_length=max_length,\n",
    "            return_tensors='pt'\n",
    "        )\n",
    "        inputs = {k: v.to(device) for k, v in inputs.items()}\n",
    "\n",
    "        with torch.no_grad():\n",
    "            output = model(**inputs)\n",
    "            outputs.append(output.logits)\n",
    "\n",
    "    outputs = torch.cat(outputs, dim=0)\n",
    "    predictions = torch.argmax(outputs, dim=1).cpu().numpy()\n",
    "\n",
    "    performance = get_performance_metrics(df_test.label, predictions)\n",
    "    return performance\n",
    "\n",
    "\n",
    "initial_performance = measure_initial_performance(model, tokenizer, df_en_dev, DEVICE)\n",
    "initial_performance"
   ]
  },
  {
   "cell_type": "code",
   "execution_count": 11,
   "metadata": {},
   "outputs": [],
   "source": [
    "def test_samples(model, tokenizer, df, device, max_length=512):\n",
    "    model.to(device)\n",
    "    model.eval()\n",
    "\n",
    "    test_samples = df.text.tolist()[:5]\n",
    "    inputs = tokenizer(\n",
    "        test_samples,\n",
    "        padding=True,\n",
    "        truncation=True,\n",
    "        max_length=max_length,\n",
    "        return_tensors='pt'\n",
    "    )\n",
    "    inputs = {k: v.to(device) for k, v in inputs.items()}\n",
    "\n",
    "    with torch.no_grad():\n",
    "        outputs = model(**inputs).logits\n",
    "\n",
    "    # print(outputs.shape)\n",
    "    print(outputs)"
   ]
  },
  {
   "cell_type": "code",
   "execution_count": 12,
   "metadata": {},
   "outputs": [
    {
     "name": "stdout",
     "output_type": "stream",
     "text": [
      "tensor([[-0.0314,  0.0181],\n",
      "        [-0.0319,  0.0190],\n",
      "        [-0.0338,  0.0227],\n",
      "        [-0.0318,  0.0197],\n",
      "        [-0.0323,  0.0195]], device='cuda:0')\n"
     ]
    }
   ],
   "source": [
    "test_samples(model, tokenizer, df_en_train, DEVICE)"
   ]
  },
  {
   "cell_type": "markdown",
   "metadata": {},
   "source": [
    "# Fine-tune the model"
   ]
  },
  {
   "cell_type": "code",
   "execution_count": 16,
   "metadata": {},
   "outputs": [
    {
     "data": {
      "text/plain": [
       "tensor([0.6252, 0.3748])"
      ]
     },
     "execution_count": 16,
     "metadata": {},
     "output_type": "execute_result"
    }
   ],
   "source": [
    "class_weights = (\n",
    "    1 / df_en_train.label.value_counts(normalize=True).sort_index()\n",
    ").tolist()\n",
    "class_weights = torch.tensor(class_weights)\n",
    "class_weights = class_weights / class_weights.sum()\n",
    "\n",
    "class_weights"
   ]
  },
  {
   "cell_type": "code",
   "execution_count": 17,
   "metadata": {},
   "outputs": [
    {
     "name": "stderr",
     "output_type": "stream",
     "text": [
      "/root/.conda/envs/pytorch/lib/python3.11/site-packages/pyarrow/pandas_compat.py:373: FutureWarning: is_sparse is deprecated and will be removed in a future version. Check `isinstance(dtype, pd.SparseDtype)` instead.\n",
      "  if _pandas_api.is_sparse(col):\n"
     ]
    }
   ],
   "source": [
    "from datasets import Dataset, DatasetDict\n",
    "\n",
    "ds_train = Dataset.from_pandas(df_en_train)\n",
    "ds_dev = Dataset.from_pandas(df_en_dev)\n",
    "ds_test = Dataset.from_pandas(df_en_test)"
   ]
  },
  {
   "cell_type": "code",
   "execution_count": 18,
   "metadata": {},
   "outputs": [
    {
     "data": {
      "text/plain": [
       "Dataset({\n",
       "    features: ['id', 'source', 'sub_source', 'lang', 'model', 'label', 'text'],\n",
       "    num_rows: 610767\n",
       "})"
      ]
     },
     "execution_count": 18,
     "metadata": {},
     "output_type": "execute_result"
    }
   ],
   "source": [
    "ds_train"
   ]
  },
  {
   "cell_type": "code",
   "execution_count": 19,
   "metadata": {},
   "outputs": [],
   "source": [
    "ds_train_shuffled = ds_train.shuffle(seed=RANDOM_SEED)"
   ]
  },
  {
   "cell_type": "code",
   "execution_count": 20,
   "metadata": {},
   "outputs": [],
   "source": [
    "dataset = DatasetDict({\n",
    "    'train': ds_train_shuffled,\n",
    "    'dev': ds_dev,\n",
    "    'test': ds_test\n",
    "})"
   ]
  },
  {
   "cell_type": "code",
   "execution_count": 21,
   "metadata": {},
   "outputs": [
    {
     "data": {
      "text/plain": [
       "DatasetDict({\n",
       "    train: Dataset({\n",
       "        features: ['id', 'source', 'sub_source', 'lang', 'model', 'label', 'text'],\n",
       "        num_rows: 610767\n",
       "    })\n",
       "    dev: Dataset({\n",
       "        features: ['id', 'source', 'sub_source', 'lang', 'model', 'label', 'text'],\n",
       "        num_rows: 261758\n",
       "    })\n",
       "    test: Dataset({\n",
       "        features: ['id', 'text'],\n",
       "        num_rows: 32557\n",
       "    })\n",
       "})"
      ]
     },
     "execution_count": 21,
     "metadata": {},
     "output_type": "execute_result"
    }
   ],
   "source": [
    "dataset"
   ]
  },
  {
   "cell_type": "code",
   "execution_count": 22,
   "metadata": {},
   "outputs": [
    {
     "data": {
      "application/vnd.jupyter.widget-view+json": {
       "model_id": "f91ed0e1f5a14f38b88dbb5c2b1ae326",
       "version_major": 2,
       "version_minor": 0
      },
      "text/plain": [
       "Map:   0%|          | 0/610767 [00:00<?, ? examples/s]"
      ]
     },
     "metadata": {},
     "output_type": "display_data"
    },
    {
     "data": {
      "application/vnd.jupyter.widget-view+json": {
       "model_id": "c1193dcd49a6477ab23d82fdecfb769c",
       "version_major": 2,
       "version_minor": 0
      },
      "text/plain": [
       "Map:   0%|          | 0/261758 [00:00<?, ? examples/s]"
      ]
     },
     "metadata": {},
     "output_type": "display_data"
    },
    {
     "data": {
      "application/vnd.jupyter.widget-view+json": {
       "model_id": "d85421137a1444c6ac7099bd324d7c0b",
       "version_major": 2,
       "version_minor": 0
      },
      "text/plain": [
       "Map:   0%|          | 0/32557 [00:00<?, ? examples/s]"
      ]
     },
     "metadata": {},
     "output_type": "display_data"
    }
   ],
   "source": [
    "MAX_LEN = 2048\n",
    "# col_to_delete = ['source', 'sub_source', 'lang', 'model']\n",
    "\n",
    "\n",
    "def preprocess_dataset(ds):\n",
    "    return tokenizer(ds['text'], truncation=True, max_length=MAX_LEN)\n",
    "\n",
    "\n",
    "tokenized_datasets = dataset.map(preprocess_dataset, batched=True)\n",
    "tokenized_datasets.set_format(\"torch\")\n",
    "     "
   ]
  },
  {
   "cell_type": "code",
   "execution_count": 23,
   "metadata": {},
   "outputs": [
    {
     "data": {
      "text/plain": [
       "DatasetDict({\n",
       "    train: Dataset({\n",
       "        features: ['id', 'source', 'sub_source', 'lang', 'model', 'label', 'text', 'input_ids', 'attention_mask'],\n",
       "        num_rows: 610767\n",
       "    })\n",
       "    dev: Dataset({\n",
       "        features: ['id', 'source', 'sub_source', 'lang', 'model', 'label', 'text', 'input_ids', 'attention_mask'],\n",
       "        num_rows: 261758\n",
       "    })\n",
       "    test: Dataset({\n",
       "        features: ['id', 'text', 'input_ids', 'attention_mask'],\n",
       "        num_rows: 32557\n",
       "    })\n",
       "})"
      ]
     },
     "execution_count": 23,
     "metadata": {},
     "output_type": "execute_result"
    }
   ],
   "source": [
    "tokenized_datasets"
   ]
  },
  {
   "cell_type": "code",
   "execution_count": 24,
   "metadata": {},
   "outputs": [],
   "source": [
    "from transformers import DataCollatorWithPadding\n",
    "\n",
    "collate_fn = DataCollatorWithPadding(tokenizer=tokenizer)"
   ]
  },
  {
   "cell_type": "code",
   "execution_count": 25,
   "metadata": {},
   "outputs": [],
   "source": [
    "def compute_metrics(eval_pred):\n",
    "    predictions, labels = eval_pred\n",
    "    predictions = np.argmax(predictions, axis=1)\n",
    "\n",
    "    return {\n",
    "        'macro_f1': f1_score(predictions, labels, average='macro'),\n",
    "        'accuracy': accuracy_score(predictions,labels),\n",
    "        'balanced_accuracy': balanced_accuracy_score(predictions, labels),\n",
    "    }"
   ]
  },
  {
   "cell_type": "code",
   "execution_count": 26,
   "metadata": {},
   "outputs": [],
   "source": [
    "import torch\n",
    "import torch.nn.functional as F\n",
    "\n",
    "from transformers import Trainer\n",
    "\n",
    "\n",
    "class WeightedCrossEntropyTrainer(Trainer):\n",
    "    def __init__(self, *args, class_weights=None, **kwargs):\n",
    "        super().__init__(*args, **kwargs)\n",
    "        if class_weights is not None:\n",
    "            self.class_weights = torch.tensor(\n",
    "                class_weights, dtype=torch.float32\n",
    "        ).to(self.args.device)\n",
    "        else:\n",
    "            self.class_weights = None\n",
    "\n",
    "    def compute_loss(self, model, inputs, return_outputs=False):\n",
    "        # Extract labels and convert them to long type for cross_entropy\n",
    "        labels = inputs.pop(\"labels\").long()\n",
    "\n",
    "        # Forward pass\n",
    "        outputs = model(**inputs)\n",
    "\n",
    "        # Extract logits assuming they are directly outputted by the model\n",
    "        logits = outputs.get('logits')\n",
    "\n",
    "        # Compute custom loss with class weights for imbalanced data handling\n",
    "        if self.class_weights is not None:\n",
    "            loss = F.cross_entropy(logits, labels, weight=self.class_weights)\n",
    "        else:\n",
    "            loss = F.cross_entropy(logits, labels)\n",
    "\n",
    "        return (loss, outputs) if return_outputs else loss"
   ]
  },
  {
   "cell_type": "code",
   "execution_count": 31,
   "metadata": {},
   "outputs": [],
   "source": [
    "# from comet_ml import Experiment\n",
    "# from comet_ml.integration.pytorch import log_model\n",
    "\n",
    "# experiment = Experiment(\n",
    "#     api_key=comet_api_key,\n",
    "#     project_name=\"mgt-detection-coling-2025\",\n",
    "#     workspace=\"unibuc-phd\",\n",
    "# )"
   ]
  },
  {
   "cell_type": "code",
   "execution_count": 30,
   "metadata": {},
   "outputs": [],
   "source": [
    "params = {\n",
    "    \"learning_rate\": 2e-4,\n",
    "    \"num_train_epochs\": 2,\n",
    "    \"weight_decay\": 1e-2,\n",
    "    \"batch_size\": 32,\n",
    "    \"seed\": RANDOM_SEED,\n",
    "}\n",
    "\n",
    "# experiment.log_parameters(params)"
   ]
  },
  {
   "cell_type": "code",
   "execution_count": 31,
   "metadata": {},
   "outputs": [
    {
     "name": "stderr",
     "output_type": "stream",
     "text": [
      "comet_ml version 3.39.0 is installed, but version 3.43.2 or higher is required. Please update comet_ml to the latest version to enable Comet logging with pip install 'comet-ml>=3.43.2'.\n"
     ]
    }
   ],
   "source": [
    "from transformers import TrainingArguments\n",
    "\n",
    "training_args = TrainingArguments(\n",
    "    output_dir=f'../results/subtask_a/{MODEL_NAME}/002',\n",
    "    learning_rate=params[\"learning_rate\"],\n",
    "    per_device_train_batch_size=params[\"batch_size\"],\n",
    "    per_device_eval_batch_size=params[\"batch_size\"],\n",
    "    num_train_epochs=params[\"num_train_epochs\"],\n",
    "    weight_decay=params[\"weight_decay\"],\n",
    "    eval_strategy='epoch',\n",
    "    save_strategy='epoch',\n",
    "    load_best_model_at_end=True,\n",
    "    # report_to=\"comet_ml\",\n",
    "    seed=params[\"seed\"],\n",
    ")"
   ]
  },
  {
   "cell_type": "code",
   "execution_count": 32,
   "metadata": {},
   "outputs": [
    {
     "name": "stderr",
     "output_type": "stream",
     "text": [
      "/tmp/ipykernel_142982/3314886341.py:11: UserWarning: To copy construct from a tensor, it is recommended to use sourceTensor.clone().detach() or sourceTensor.clone().detach().requires_grad_(True), rather than torch.tensor(sourceTensor).\n",
      "  self.class_weights = torch.tensor(\n"
     ]
    }
   ],
   "source": [
    "trainer = WeightedCrossEntropyTrainer(\n",
    "    model=model,\n",
    "    args=training_args,\n",
    "    train_dataset=tokenized_datasets['train'],\n",
    "    eval_dataset=tokenized_datasets['dev'],\n",
    "    tokenizer=tokenizer,\n",
    "    data_collator=collate_fn,\n",
    "    compute_metrics=compute_metrics,\n",
    "    class_weights=class_weights,\n",
    "    # callbacks=[CometCallback()],\n",
    ")"
   ]
  },
  {
   "cell_type": "code",
   "execution_count": 33,
   "metadata": {},
   "outputs": [
    {
     "name": "stdout",
     "output_type": "stream",
     "text": [
      "[2024-10-06 22:41:26,211] [INFO] [real_accelerator.py:161:get_accelerator] Setting ds_accelerator to cuda (auto detect)\n"
     ]
    },
    {
     "name": "stderr",
     "output_type": "stream",
     "text": [
      "\u001b[34m\u001b[1mwandb\u001b[0m: \u001b[33mWARNING\u001b[0m The `run_name` is currently set to the same value as `TrainingArguments.output_dir`. If this was not intended, please specify a different run name by setting the `TrainingArguments.run_name` parameter.\n",
      "Failed to detect the name of this notebook, you can set it manually with the WANDB_NOTEBOOK_NAME environment variable to enable code saving.\n",
      "\u001b[34m\u001b[1mwandb\u001b[0m: Currently logged in as: \u001b[33mteodormarchitan\u001b[0m (\u001b[33munibuc-nlp\u001b[0m). Use \u001b[1m`wandb login --relogin`\u001b[0m to force relogin\n"
     ]
    },
    {
     "data": {
      "text/html": [
       "wandb version 0.18.3 is available!  To upgrade, please run:\n",
       " $ pip install wandb --upgrade"
      ],
      "text/plain": [
       "<IPython.core.display.HTML object>"
      ]
     },
     "metadata": {},
     "output_type": "display_data"
    },
    {
     "data": {
      "text/html": [
       "Tracking run with wandb version 0.17.0"
      ],
      "text/plain": [
       "<IPython.core.display.HTML object>"
      ]
     },
     "metadata": {},
     "output_type": "display_data"
    },
    {
     "data": {
      "text/html": [
       "Run data is saved locally in <code>/root/repos/COLING-2025/coling-2025-task-1/notebooks/wandb/run-20241006_224127-kmcm9cx6</code>"
      ],
      "text/plain": [
       "<IPython.core.display.HTML object>"
      ]
     },
     "metadata": {},
     "output_type": "display_data"
    },
    {
     "data": {
      "text/html": [
       "Syncing run <strong><a href='https://wandb.ai/unibuc-nlp/huggingface/runs/kmcm9cx6' target=\"_blank\">../results/subtask_a/Qwen/Qwen2.5-0.5B/002</a></strong> to <a href='https://wandb.ai/unibuc-nlp/huggingface' target=\"_blank\">Weights & Biases</a> (<a href='https://wandb.me/run' target=\"_blank\">docs</a>)<br/>"
      ],
      "text/plain": [
       "<IPython.core.display.HTML object>"
      ]
     },
     "metadata": {},
     "output_type": "display_data"
    },
    {
     "data": {
      "text/html": [
       " View project at <a href='https://wandb.ai/unibuc-nlp/huggingface' target=\"_blank\">https://wandb.ai/unibuc-nlp/huggingface</a>"
      ],
      "text/plain": [
       "<IPython.core.display.HTML object>"
      ]
     },
     "metadata": {},
     "output_type": "display_data"
    },
    {
     "data": {
      "text/html": [
       " View run at <a href='https://wandb.ai/unibuc-nlp/huggingface/runs/kmcm9cx6' target=\"_blank\">https://wandb.ai/unibuc-nlp/huggingface/runs/kmcm9cx6</a>"
      ],
      "text/plain": [
       "<IPython.core.display.HTML object>"
      ]
     },
     "metadata": {},
     "output_type": "display_data"
    },
    {
     "data": {
      "text/html": [
       "\n",
       "    <div>\n",
       "      \n",
       "      <progress value='19088' max='19088' style='width:300px; height:20px; vertical-align: middle;'></progress>\n",
       "      [19088/19088 16:18:59, Epoch 2/2]\n",
       "    </div>\n",
       "    <table border=\"1\" class=\"dataframe\">\n",
       "  <thead>\n",
       " <tr style=\"text-align: left;\">\n",
       "      <th>Epoch</th>\n",
       "      <th>Training Loss</th>\n",
       "      <th>Validation Loss</th>\n",
       "      <th>Macro F1</th>\n",
       "      <th>Accuracy</th>\n",
       "      <th>Balanced Accuracy</th>\n",
       "    </tr>\n",
       "  </thead>\n",
       "  <tbody>\n",
       "    <tr>\n",
       "      <td>1</td>\n",
       "      <td>0.107300</td>\n",
       "      <td>0.098656</td>\n",
       "      <td>0.957111</td>\n",
       "      <td>0.959470</td>\n",
       "      <td>0.954120</td>\n",
       "    </tr>\n",
       "    <tr>\n",
       "      <td>2</td>\n",
       "      <td>0.062900</td>\n",
       "      <td>0.082588</td>\n",
       "      <td>0.967969</td>\n",
       "      <td>0.969858</td>\n",
       "      <td>0.966588</td>\n",
       "    </tr>\n",
       "  </tbody>\n",
       "</table><p>"
      ],
      "text/plain": [
       "<IPython.core.display.HTML object>"
      ]
     },
     "metadata": {},
     "output_type": "display_data"
    },
    {
     "name": "stderr",
     "output_type": "stream",
     "text": [
      "We detected that you are passing `past_key_values` as a tuple and this is deprecated and will be removed in v4.43. Please use an appropriate `Cache` class (https://huggingface.co/docs/transformers/v4.41.3/en/internal/generation_utils#transformers.Cache)\n",
      "We detected that you are passing `past_key_values` as a tuple and this is deprecated and will be removed in v4.43. Please use an appropriate `Cache` class (https://huggingface.co/docs/transformers/v4.41.3/en/internal/generation_utils#transformers.Cache)\n"
     ]
    }
   ],
   "source": [
    "train_result = trainer.train()"
   ]
  },
  {
   "cell_type": "code",
   "execution_count": 34,
   "metadata": {},
   "outputs": [
    {
     "name": "stdout",
     "output_type": "stream",
     "text": [
      "***** train metrics *****\n",
      "  epoch                    =          2.0\n",
      "  total_flos               = 3770552995GF\n",
      "  train_loss               =       0.1097\n",
      "  train_runtime            =  16:19:10.79\n",
      "  train_samples            =       610767\n",
      "  train_samples_per_second =       20.792\n",
      "  train_steps_per_second   =        0.325\n"
     ]
    }
   ],
   "source": [
    "metrics = train_result.metrics\n",
    "max_train_samples = len(ds_train)\n",
    "metrics[\"train_samples\"] = min(max_train_samples, len(ds_train))\n",
    "trainer.log_metrics(\"train\", metrics)\n",
    "trainer.save_metrics(\"train\", metrics)\n",
    "trainer.save_state()"
   ]
  },
  {
   "cell_type": "code",
   "execution_count": 35,
   "metadata": {},
   "outputs": [],
   "source": [
    "trainer.save_model(f\"../results/subtask_a/{MODEL_NAME}/002/fine-tuned-model\")"
   ]
  },
  {
   "cell_type": "code",
   "execution_count": 36,
   "metadata": {},
   "outputs": [],
   "source": [
    "import pandas as pd\n",
    "from tqdm import tqdm\n",
    "\n",
    "\n",
    "def make_predictions(model, tokenizer, df, device, file_path, max_len=MAX_LEN, batch_size=32):\n",
    "    model.eval()\n",
    "\n",
    "    all_ids = []\n",
    "    all_predictions = []\n",
    "    with torch.no_grad():\n",
    "        for i in tqdm(range(0, len(df), batch_size)):\n",
    "            ids = df[i:i + batch_size].id.tolist()\n",
    "            texts = df[i:i + batch_size].text.tolist()\n",
    "\n",
    "            inputs = tokenizer(texts, truncation=True, padding=True, max_length=max_len, return_tensors=\"pt\")\n",
    "            \n",
    "            input_ids = inputs['input_ids'].to(device)\n",
    "            attention_mask = inputs['attention_mask'].to(device)\n",
    "\n",
    "            outputs = model(input_ids, attention_mask).logits\n",
    "            preds = torch.argmax(outputs, dim=1).cpu().numpy()\n",
    "\n",
    "            all_ids.extend(ids)\n",
    "            all_predictions.extend(preds)\n",
    "\n",
    "    df_predictions = pd.DataFrame({\n",
    "        \"id\": all_ids,\n",
    "        \"label\": all_predictions,\n",
    "    })\n",
    "\n",
    "    df_predictions.to_json(\n",
    "        file_path,\n",
    "        orient=\"records\",\n",
    "        lines=True,\n",
    "    )\n",
    "\n",
    "    return df_predictions\n",
    "    "
   ]
  },
  {
   "cell_type": "code",
   "execution_count": 37,
   "metadata": {},
   "outputs": [
    {
     "name": "stderr",
     "output_type": "stream",
     "text": [
      "100%|██████████| 1018/1018 [24:16<00:00,  1.43s/it]\n"
     ]
    }
   ],
   "source": [
    "df_test_predictions = make_predictions(\n",
    "    trainer.model,\n",
    "    tokenizer,\n",
    "    df_en_test,\n",
    "    DEVICE,\n",
    "    f\"../results/subtask_a/{MODEL_NAME}/002/subtask_a.jsonl\",\n",
    ")"
   ]
  },
  {
   "cell_type": "code",
   "execution_count": 38,
   "metadata": {},
   "outputs": [
    {
     "data": {
      "text/plain": [
       "label\n",
       "1    0.625189\n",
       "0    0.374811\n",
       "Name: proportion, dtype: float64"
      ]
     },
     "execution_count": 38,
     "metadata": {},
     "output_type": "execute_result"
    }
   ],
   "source": [
    "df_en_train.label.value_counts(normalize=True)"
   ]
  },
  {
   "cell_type": "code",
   "execution_count": 39,
   "metadata": {},
   "outputs": [
    {
     "data": {
      "text/plain": [
       "label\n",
       "1    0.636453\n",
       "0    0.363547\n",
       "Name: proportion, dtype: float64"
      ]
     },
     "execution_count": 39,
     "metadata": {},
     "output_type": "execute_result"
    }
   ],
   "source": [
    "df_test_predictions.label.value_counts(normalize=True)"
   ]
  },
  {
   "cell_type": "code",
   "execution_count": 40,
   "metadata": {},
   "outputs": [],
   "source": [
    "import json\n",
    "\n",
    "with open(f\"../results/subtask_a/{MODEL_NAME}/002/config.json\", \"w\") as f:\n",
    "    json.dump(params, f)"
   ]
  },
  {
   "cell_type": "code",
   "execution_count": 38,
   "metadata": {},
   "outputs": [],
   "source": [
    "# experiment.end()"
   ]
  }
 ],
 "metadata": {
  "kernelspec": {
   "display_name": "Python 3 (ipykernel)",
   "language": "python",
   "name": "python3"
  },
  "language_info": {
   "codemirror_mode": {
    "name": "ipython",
    "version": 3
   },
   "file_extension": ".py",
   "mimetype": "text/x-python",
   "name": "python",
   "nbconvert_exporter": "python",
   "pygments_lexer": "ipython3",
   "version": "3.11.5"
  },
  "widgets": {
   "application/vnd.jupyter.widget-state+json": {
    "state": {
     "00c0b726101445f8a34d1d78df343449": {
      "model_module": "@jupyter-widgets/controls",
      "model_module_version": "2.0.0",
      "model_name": "FloatProgressModel",
      "state": {
       "bar_style": "success",
       "layout": "IPY_MODEL_2a36af6737ed4576addf78d771d70e79",
       "max": 231536,
       "style": "IPY_MODEL_0dddc893263047e6945507fd34fd8338",
       "value": 231536
      }
     },
     "016af7ab182147fa978690a0ea575995": {
      "model_module": "@jupyter-widgets/controls",
      "model_module_version": "2.0.0",
      "model_name": "HTMLStyleModel",
      "state": {
       "description_width": "",
       "font_size": null,
       "text_color": null
      }
     },
     "01ca3c47da5d45718d82b8f7cf8f208e": {
      "model_module": "@jupyter-widgets/controls",
      "model_module_version": "2.0.0",
      "model_name": "ProgressStyleModel",
      "state": {
       "description_width": ""
      }
     },
     "02235d6e14284759a29f11028bc49fc5": {
      "model_module": "@jupyter-widgets/base",
      "model_module_version": "2.0.0",
      "model_name": "LayoutModel",
      "state": {}
     },
     "024be64ba4b54209b8a37e0b1c7bcbb4": {
      "model_module": "@jupyter-widgets/controls",
      "model_module_version": "2.0.0",
      "model_name": "HTMLModel",
      "state": {
       "layout": "IPY_MODEL_6d0646dd6f7a49719da42d24d0d05ce1",
       "style": "IPY_MODEL_6a19c983e46b4945aa9c495b66299815",
       "value": " 112/112 [00:00&lt;00:00, 4.29kB/s]"
      }
     },
     "06c60290001f4dd5ac5ea41c317b0841": {
      "model_module": "@jupyter-widgets/controls",
      "model_module_version": "2.0.0",
      "model_name": "HTMLStyleModel",
      "state": {
       "description_width": "",
       "font_size": null,
       "text_color": null
      }
     },
     "06ca0c4f9b8e4e51b8782ad99f9ce966": {
      "model_module": "@jupyter-widgets/base",
      "model_module_version": "2.0.0",
      "model_name": "LayoutModel",
      "state": {}
     },
     "071d334c0124494b981c14dff5487c97": {
      "model_module": "@jupyter-widgets/base",
      "model_module_version": "2.0.0",
      "model_name": "LayoutModel",
      "state": {}
     },
     "07cd27cbf10045c3a71723f000e2c17a": {
      "model_module": "@jupyter-widgets/base",
      "model_module_version": "2.0.0",
      "model_name": "LayoutModel",
      "state": {}
     },
     "083d485e389e40b69e7005b540a6800e": {
      "model_module": "@jupyter-widgets/controls",
      "model_module_version": "2.0.0",
      "model_name": "HTMLStyleModel",
      "state": {
       "description_width": "",
       "font_size": null,
       "text_color": null
      }
     },
     "085b0434cb2445719c13402f799d29a3": {
      "model_module": "@jupyter-widgets/controls",
      "model_module_version": "2.0.0",
      "model_name": "FloatProgressModel",
      "state": {
       "bar_style": "success",
       "layout": "IPY_MODEL_d3c420a94d1a44e38f6a72621d8205b2",
       "max": 350,
       "style": "IPY_MODEL_229b94d48b8941be9010508a32bb5ce7",
       "value": 350
      }
     },
     "0a4b3b3144e245d387bf550e49668a2e": {
      "model_module": "@jupyter-widgets/controls",
      "model_module_version": "2.0.0",
      "model_name": "HTMLModel",
      "state": {
       "layout": "IPY_MODEL_18dff32d87fc47ef85e61344f162d44f",
       "style": "IPY_MODEL_ece6a98bdf1c4ea2a7fab3f0d167c115",
       "value": "vocab.json: 100%"
      }
     },
     "0a56b75bf7cc40279fbe0f40ff7d8bf3": {
      "model_module": "@jupyter-widgets/controls",
      "model_module_version": "2.0.0",
      "model_name": "HTMLModel",
      "state": {
       "layout": "IPY_MODEL_a8257aa138b64cee8c7fbdaba0b6384f",
       "style": "IPY_MODEL_bfac959b0d344ff898347f5d766d2b17",
       "value": "1_Pooling/config.json: 100%"
      }
     },
     "0c636739e6c14b8c8dc23069ecdd2e7b": {
      "model_module": "@jupyter-widgets/controls",
      "model_module_version": "2.0.0",
      "model_name": "HTMLModel",
      "state": {
       "layout": "IPY_MODEL_df41b946f4914c61ae8b54fe6335da12",
       "style": "IPY_MODEL_083d485e389e40b69e7005b540a6800e",
       "value": "model.onnx: 100%"
      }
     },
     "0dddc893263047e6945507fd34fd8338": {
      "model_module": "@jupyter-widgets/controls",
      "model_module_version": "2.0.0",
      "model_name": "ProgressStyleModel",
      "state": {
       "description_width": ""
      }
     },
     "0dffad093b3b42e0846d03b2aaf9e9c4": {
      "model_module": "@jupyter-widgets/base",
      "model_module_version": "2.0.0",
      "model_name": "LayoutModel",
      "state": {}
     },
     "0e68e781b8834824b2fc8d9b4e0de30e": {
      "model_module": "@jupyter-widgets/controls",
      "model_module_version": "2.0.0",
      "model_name": "HTMLStyleModel",
      "state": {
       "description_width": "",
       "font_size": null,
       "text_color": null
      }
     },
     "0e977a2e9a8445d88b69a0242ab041e8": {
      "model_module": "@jupyter-widgets/base",
      "model_module_version": "2.0.0",
      "model_name": "LayoutModel",
      "state": {}
     },
     "0ea0fb5c133745f792ac4d99a58d2f1f": {
      "model_module": "@jupyter-widgets/base",
      "model_module_version": "2.0.0",
      "model_name": "LayoutModel",
      "state": {}
     },
     "0f1d9c04a95d460cb6004f4f92a24591": {
      "model_module": "@jupyter-widgets/base",
      "model_module_version": "2.0.0",
      "model_name": "LayoutModel",
      "state": {}
     },
     "0f669ec28a914e248362d5373c2a9cc9": {
      "model_module": "@jupyter-widgets/base",
      "model_module_version": "2.0.0",
      "model_name": "LayoutModel",
      "state": {}
     },
     "0fd7bed86a8f45cd9723b35c95967be1": {
      "model_module": "@jupyter-widgets/base",
      "model_module_version": "2.0.0",
      "model_name": "LayoutModel",
      "state": {}
     },
     "1051880a895e44198ea4bd53d37b30c1": {
      "model_module": "@jupyter-widgets/controls",
      "model_module_version": "2.0.0",
      "model_name": "HBoxModel",
      "state": {
       "children": [
        "IPY_MODEL_ab99af75027d442aa9b6672c9e14f4c4",
        "IPY_MODEL_1c35b0f7948e40cd8a53beea9f24639a",
        "IPY_MODEL_75fae7708e1448348396c61a57cc997e"
       ],
       "layout": "IPY_MODEL_a8c054a8850b48018bcc27250dc07323"
      }
     },
     "105661c656a442a8a9a80b3efddc6285": {
      "model_module": "@jupyter-widgets/controls",
      "model_module_version": "2.0.0",
      "model_name": "HTMLModel",
      "state": {
       "layout": "IPY_MODEL_55e47134c8944f24920b90d73e7ab489",
       "style": "IPY_MODEL_e0a816077f8747ba95bf83bf5902e7a7",
       "value": " 571/571 [00:00&lt;00:00, 20.5kB/s]"
      }
     },
     "123eefe9c94d48cbb9c0286156ab16f8": {
      "model_module": "@jupyter-widgets/controls",
      "model_module_version": "2.0.0",
      "model_name": "HTMLModel",
      "state": {
       "layout": "IPY_MODEL_0f669ec28a914e248362d5373c2a9cc9",
       "style": "IPY_MODEL_ea94684450f747b0ab7e1c89eb9d1a93",
       "value": "1_Pooling/config.json: 100%"
      }
     },
     "1268ff6b5d804203b18cc70dd59910a3": {
      "model_module": "@jupyter-widgets/controls",
      "model_module_version": "2.0.0",
      "model_name": "HBoxModel",
      "state": {
       "children": [
        "IPY_MODEL_422d1ad547204b248e9ab0c3d55f7493",
        "IPY_MODEL_f49a3219ebb54834880944013b8d9877",
        "IPY_MODEL_449e56f15dac48d18d2381d255e4581a"
       ],
       "layout": "IPY_MODEL_5a4170062c264344b764508292f9b4b3"
      }
     },
     "1272cab3194642a7b4be8c2488f1a584": {
      "model_module": "@jupyter-widgets/controls",
      "model_module_version": "2.0.0",
      "model_name": "HTMLModel",
      "state": {
       "layout": "IPY_MODEL_840c6c0fe1d242a2aa19b008f12adcdc",
       "style": "IPY_MODEL_c04f9fc5e8264220a613f9a42b6b799b",
       "value": " 350/350 [00:00&lt;00:00, 13.3kB/s]"
      }
     },
     "128b32ea16ae4511b7d2545149d82c5d": {
      "model_module": "@jupyter-widgets/base",
      "model_module_version": "2.0.0",
      "model_name": "LayoutModel",
      "state": {}
     },
     "12e00e030bd1460a9a2496d4f01b393a": {
      "model_module": "@jupyter-widgets/controls",
      "model_module_version": "2.0.0",
      "model_name": "HTMLModel",
      "state": {
       "layout": "IPY_MODEL_6b2595bf770e4ab0b80a44125efbcdeb",
       "style": "IPY_MODEL_68c8f851bdfe43f593618b8b9bdfad02",
       "value": " 13.1k/13.1k [00:00&lt;00:00, 501kB/s]"
      }
     },
     "14551ee6e682449685e294cad07461e9": {
      "model_module": "@jupyter-widgets/base",
      "model_module_version": "2.0.0",
      "model_name": "LayoutModel",
      "state": {}
     },
     "154c5bb4bf8e4664926d1be18a3b2c1d": {
      "model_module": "@jupyter-widgets/base",
      "model_module_version": "2.0.0",
      "model_name": "LayoutModel",
      "state": {}
     },
     "1582d20f8f8b495090ce8421ae2c4737": {
      "model_module": "@jupyter-widgets/base",
      "model_module_version": "2.0.0",
      "model_name": "LayoutModel",
      "state": {}
     },
     "1583c845d96a41d0b4967dc3e3f1804e": {
      "model_module": "@jupyter-widgets/base",
      "model_module_version": "2.0.0",
      "model_name": "LayoutModel",
      "state": {}
     },
     "15a64684d8374c788c91101679d0cb74": {
      "model_module": "@jupyter-widgets/base",
      "model_module_version": "2.0.0",
      "model_name": "LayoutModel",
      "state": {}
     },
     "15d2e4eca6a741beb5674bca1246fc8f": {
      "model_module": "@jupyter-widgets/controls",
      "model_module_version": "2.0.0",
      "model_name": "HTMLModel",
      "state": {
       "layout": "IPY_MODEL_9fdaea2415f24345a6eceedadbaccc99",
       "style": "IPY_MODEL_016af7ab182147fa978690a0ea575995",
       "value": " 90.4M/90.4M [00:00&lt;00:00, 112MB/s]"
      }
     },
     "15ea8bdbf2b3495591a1bea2476e045e": {
      "model_module": "@jupyter-widgets/base",
      "model_module_version": "2.0.0",
      "model_name": "LayoutModel",
      "state": {}
     },
     "1651ffca513e4308bf20250a57de518b": {
      "model_module": "@jupyter-widgets/base",
      "model_module_version": "2.0.0",
      "model_name": "LayoutModel",
      "state": {}
     },
     "16ffb72eb0b44de585d1538fda8e3fb0": {
      "model_module": "@jupyter-widgets/controls",
      "model_module_version": "2.0.0",
      "model_name": "HTMLModel",
      "state": {
       "layout": "IPY_MODEL_54c4a95fe4aa4d8e97a7bc1403bf860e",
       "style": "IPY_MODEL_e9ed4157195f400794970bee1cbe1cbd",
       "value": "generation_config.json: 100%"
      }
     },
     "1711fb11625f4adf8a31b63dc0aecd16": {
      "model_module": "@jupyter-widgets/controls",
      "model_module_version": "2.0.0",
      "model_name": "FloatProgressModel",
      "state": {
       "bar_style": "success",
       "layout": "IPY_MODEL_6d6f3572d7964c6e995be03638f8ff46",
       "max": 363,
       "style": "IPY_MODEL_f2a849c618b1465eb9f24ade6341e338",
       "value": 363
      }
     },
     "17cb66acbde94701b1f6ebe636165252": {
      "model_module": "@jupyter-widgets/controls",
      "model_module_version": "2.0.0",
      "model_name": "ProgressStyleModel",
      "state": {
       "description_width": ""
      }
     },
     "181e85606eb242f19198b34d4401c0e6": {
      "model_module": "@jupyter-widgets/base",
      "model_module_version": "2.0.0",
      "model_name": "LayoutModel",
      "state": {}
     },
     "183c80d2949a4c4b855282e4992b9b77": {
      "model_module": "@jupyter-widgets/controls",
      "model_module_version": "2.0.0",
      "model_name": "HTMLStyleModel",
      "state": {
       "description_width": "",
       "font_size": null,
       "text_color": null
      }
     },
     "1840623158c044329307f64a5f13c686": {
      "model_module": "@jupyter-widgets/controls",
      "model_module_version": "2.0.0",
      "model_name": "HTMLStyleModel",
      "state": {
       "description_width": "",
       "font_size": null,
       "text_color": null
      }
     },
     "186614a3af5c4e0f85d32c27a348dc6e": {
      "model_module": "@jupyter-widgets/controls",
      "model_module_version": "2.0.0",
      "model_name": "ProgressStyleModel",
      "state": {
       "description_width": ""
      }
     },
     "18785c11a8454cb0adb9588aae5a0cdd": {
      "model_module": "@jupyter-widgets/controls",
      "model_module_version": "2.0.0",
      "model_name": "ProgressStyleModel",
      "state": {
       "description_width": ""
      }
     },
     "188a067ce106416e9596a41972946b2e": {
      "model_module": "@jupyter-widgets/controls",
      "model_module_version": "2.0.0",
      "model_name": "HTMLModel",
      "state": {
       "layout": "IPY_MODEL_a2de731254bd4f8b85720943ff6beeea",
       "style": "IPY_MODEL_80ab7462462142759d013cff5877e636",
       "value": "config_sentence_transformers.json: 100%"
      }
     },
     "18dff32d87fc47ef85e61344f162d44f": {
      "model_module": "@jupyter-widgets/base",
      "model_module_version": "2.0.0",
      "model_name": "LayoutModel",
      "state": {}
     },
     "19b67d04ad9b47d0acb179bcd626b326": {
      "model_module": "@jupyter-widgets/controls",
      "model_module_version": "2.0.0",
      "model_name": "FloatProgressModel",
      "state": {
       "bar_style": "success",
       "layout": "IPY_MODEL_ba26b67a12f54ea5a0222aee39f88f27",
       "max": 13156,
       "style": "IPY_MODEL_e9381a26c153473b909ef34966e57d77",
       "value": 13156
      }
     },
     "19ceb9c369b242e08650f1f17906860c": {
      "model_module": "@jupyter-widgets/controls",
      "model_module_version": "2.0.0",
      "model_name": "HBoxModel",
      "state": {
       "children": [
        "IPY_MODEL_0a4b3b3144e245d387bf550e49668a2e",
        "IPY_MODEL_742031d1ce8a44b2be95b22e28c96c56",
        "IPY_MODEL_ea006c783cda44e0a004e76daf27e263"
       ],
       "layout": "IPY_MODEL_8961863ebb2b471e9aa61e38edda7006"
      }
     },
     "1af5adf41f5f4a708f59de4e6b029046": {
      "model_module": "@jupyter-widgets/controls",
      "model_module_version": "2.0.0",
      "model_name": "HBoxModel",
      "state": {
       "children": [
        "IPY_MODEL_a434f968f5964fd4b28162924a9ed050",
        "IPY_MODEL_4843737e025c48029cc4c7708e8db26a",
        "IPY_MODEL_5a1840be8c4547cd8c75ff074438f114"
       ],
       "layout": "IPY_MODEL_5697ee3a43984a468602f4f7983e3fc5"
      }
     },
     "1b180ef0de7e47b5a674f269d679f222": {
      "model_module": "@jupyter-widgets/base",
      "model_module_version": "2.0.0",
      "model_name": "LayoutModel",
      "state": {}
     },
     "1bcc2c36e536422abc36adb47321ee0f": {
      "model_module": "@jupyter-widgets/base",
      "model_module_version": "2.0.0",
      "model_name": "LayoutModel",
      "state": {}
     },
     "1c3252643c63419bb7a5887bc2fff38c": {
      "model_module": "@jupyter-widgets/controls",
      "model_module_version": "2.0.0",
      "model_name": "ProgressStyleModel",
      "state": {
       "description_width": ""
      }
     },
     "1c35b0f7948e40cd8a53beea9f24639a": {
      "model_module": "@jupyter-widgets/controls",
      "model_module_version": "2.0.0",
      "model_name": "FloatProgressModel",
      "state": {
       "bar_style": "success",
       "layout": "IPY_MODEL_1bcc2c36e536422abc36adb47321ee0f",
       "max": 39265,
       "style": "IPY_MODEL_f41ca2e06dad42bd91c7d76599e24a60",
       "value": 39265
      }
     },
     "1c4338f9ff7d4b908fc8138aadebb2d9": {
      "model_module": "@jupyter-widgets/base",
      "model_module_version": "2.0.0",
      "model_name": "LayoutModel",
      "state": {}
     },
     "1da7ada943e44df79c392aa2e6d46fc8": {
      "model_module": "@jupyter-widgets/controls",
      "model_module_version": "2.0.0",
      "model_name": "HTMLModel",
      "state": {
       "layout": "IPY_MODEL_2e2cb3e008ed4060a671d7a74dbb25f8",
       "style": "IPY_MODEL_fab5a6806c1d4b75abfb0408911b652f",
       "value": " 39.3k/39.3k [00:00&lt;00:00, 1.23MB/s]"
      }
     },
     "1db1d846f40842bfa9180ffd735cf820": {
      "model_module": "@jupyter-widgets/base",
      "model_module_version": "2.0.0",
      "model_name": "LayoutModel",
      "state": {}
     },
     "1dc2be92b0ee40388c79cdd068dff913": {
      "model_module": "@jupyter-widgets/controls",
      "model_module_version": "2.0.0",
      "model_name": "ProgressStyleModel",
      "state": {
       "description_width": ""
      }
     },
     "1dcc05954e404138bea597f149b111f1": {
      "model_module": "@jupyter-widgets/base",
      "model_module_version": "2.0.0",
      "model_name": "LayoutModel",
      "state": {}
     },
     "1de5110969bb40b1af81d27ddeb5511a": {
      "model_module": "@jupyter-widgets/controls",
      "model_module_version": "2.0.0",
      "model_name": "ProgressStyleModel",
      "state": {
       "description_width": ""
      }
     },
     "1e41dce0ec9b4aabbc1d1fcc5db20978": {
      "model_module": "@jupyter-widgets/base",
      "model_module_version": "2.0.0",
      "model_name": "LayoutModel",
      "state": {}
     },
     "1f3bb29a27dc449798776b1c1dd0ca93": {
      "model_module": "@jupyter-widgets/base",
      "model_module_version": "2.0.0",
      "model_name": "LayoutModel",
      "state": {}
     },
     "1fe1b5c268e44ff98518b2de76a05bd5": {
      "model_module": "@jupyter-widgets/controls",
      "model_module_version": "2.0.0",
      "model_name": "HTMLStyleModel",
      "state": {
       "description_width": "",
       "font_size": null,
       "text_color": null
      }
     },
     "20b08019370b4557b7c523dce7eaa5c5": {
      "model_module": "@jupyter-widgets/controls",
      "model_module_version": "2.0.0",
      "model_name": "HTMLModel",
      "state": {
       "layout": "IPY_MODEL_fcf4afddf19840c18c10a11e434279d9",
       "style": "IPY_MODEL_de91103c3527432f9596e47c259f79e9",
       "value": "model.safetensors: 100%"
      }
     },
     "2145e26ddb974eeb8ea9355edb907766": {
      "model_module": "@jupyter-widgets/controls",
      "model_module_version": "2.0.0",
      "model_name": "HTMLStyleModel",
      "state": {
       "description_width": "",
       "font_size": null,
       "text_color": null
      }
     },
     "218b38f5b13f4989ab7d40865611c808": {
      "model_module": "@jupyter-widgets/controls",
      "model_module_version": "2.0.0",
      "model_name": "HTMLStyleModel",
      "state": {
       "description_width": "",
       "font_size": null,
       "text_color": null
      }
     },
     "229b94d48b8941be9010508a32bb5ce7": {
      "model_module": "@jupyter-widgets/controls",
      "model_module_version": "2.0.0",
      "model_name": "ProgressStyleModel",
      "state": {
       "description_width": ""
      }
     },
     "22ed29389f7a40e397f3a5936779bb61": {
      "model_module": "@jupyter-widgets/controls",
      "model_module_version": "2.0.0",
      "model_name": "HTMLStyleModel",
      "state": {
       "description_width": "",
       "font_size": null,
       "text_color": null
      }
     },
     "2364c372358947a99e90c66e026ba115": {
      "model_module": "@jupyter-widgets/controls",
      "model_module_version": "2.0.0",
      "model_name": "HTMLModel",
      "state": {
       "layout": "IPY_MODEL_06ca0c4f9b8e4e51b8782ad99f9ce966",
       "style": "IPY_MODEL_8ad9744fe858412a8a77f494a51da373",
       "value": " 10.6k/10.6k [00:00&lt;00:00, 301kB/s]"
      }
     },
     "2412bb01c01d4be0807208e69e963c7c": {
      "model_module": "@jupyter-widgets/base",
      "model_module_version": "2.0.0",
      "model_name": "LayoutModel",
      "state": {}
     },
     "253e5a6bb0ad4d6ba5e3eda13fb6ee19": {
      "model_module": "@jupyter-widgets/base",
      "model_module_version": "2.0.0",
      "model_name": "LayoutModel",
      "state": {}
     },
     "2696b63ef74b4f1a8a1b415cdf4b9bbb": {
      "model_module": "@jupyter-widgets/controls",
      "model_module_version": "2.0.0",
      "model_name": "ProgressStyleModel",
      "state": {
       "description_width": ""
      }
     },
     "26f1f40fdd31498f9c77398e2e6150ee": {
      "model_module": "@jupyter-widgets/base",
      "model_module_version": "2.0.0",
      "model_name": "LayoutModel",
      "state": {}
     },
     "26f89ff8e4c4400fbc06083cb127ef85": {
      "model_module": "@jupyter-widgets/controls",
      "model_module_version": "2.0.0",
      "model_name": "FloatProgressModel",
      "state": {
       "bar_style": "success",
       "layout": "IPY_MODEL_6c8627687a254b51a42e7c082e466919",
       "max": 116,
       "style": "IPY_MODEL_727982ac4f944369ab90f5c2d9e580c6",
       "value": 116
      }
     },
     "27716c03f4fe49df8c982f5b4ada3d88": {
      "model_module": "@jupyter-widgets/base",
      "model_module_version": "2.0.0",
      "model_name": "LayoutModel",
      "state": {}
     },
     "29e94bfd753f4ebba5a1104687c76961": {
      "model_module": "@jupyter-widgets/base",
      "model_module_version": "2.0.0",
      "model_name": "LayoutModel",
      "state": {}
     },
     "2a36af6737ed4576addf78d771d70e79": {
      "model_module": "@jupyter-widgets/base",
      "model_module_version": "2.0.0",
      "model_name": "LayoutModel",
      "state": {}
     },
     "2aba5326e7a3432e91d4068c36054d5b": {
      "model_module": "@jupyter-widgets/controls",
      "model_module_version": "2.0.0",
      "model_name": "HTMLStyleModel",
      "state": {
       "description_width": "",
       "font_size": null,
       "text_color": null
      }
     },
     "2b06549d8f664463834bf486597915a2": {
      "model_module": "@jupyter-widgets/controls",
      "model_module_version": "2.0.0",
      "model_name": "ProgressStyleModel",
      "state": {
       "description_width": ""
      }
     },
     "2b2465f400db4ff8a842ea79c9ddd2a1": {
      "model_module": "@jupyter-widgets/base",
      "model_module_version": "2.0.0",
      "model_name": "LayoutModel",
      "state": {}
     },
     "2d58d238ed8047a9b4a0bf64908deac4": {
      "model_module": "@jupyter-widgets/controls",
      "model_module_version": "2.0.0",
      "model_name": "HTMLStyleModel",
      "state": {
       "description_width": "",
       "font_size": null,
       "text_color": null
      }
     },
     "2e2cb3e008ed4060a671d7a74dbb25f8": {
      "model_module": "@jupyter-widgets/base",
      "model_module_version": "2.0.0",
      "model_name": "LayoutModel",
      "state": {}
     },
     "2f0b8c0981894ec0946e775325917dbb": {
      "model_module": "@jupyter-widgets/base",
      "model_module_version": "2.0.0",
      "model_name": "LayoutModel",
      "state": {}
     },
     "3020ff2e16dd4e7894d7e215b650682a": {
      "model_module": "@jupyter-widgets/base",
      "model_module_version": "2.0.0",
      "model_name": "LayoutModel",
      "state": {}
     },
     "302245c03d0545b899dd98c64853911c": {
      "model_module": "@jupyter-widgets/controls",
      "model_module_version": "2.0.0",
      "model_name": "HTMLStyleModel",
      "state": {
       "description_width": "",
       "font_size": null,
       "text_color": null
      }
     },
     "311d8aba28cb4f6ab9a36d5eea11243c": {
      "model_module": "@jupyter-widgets/controls",
      "model_module_version": "2.0.0",
      "model_name": "HTMLModel",
      "state": {
       "layout": "IPY_MODEL_8e097edbe4404f3a853d2b468a3421be",
       "style": "IPY_MODEL_2aba5326e7a3432e91d4068c36054d5b",
       "value": " 349/349 [00:00&lt;00:00, 12.9kB/s]"
      }
     },
     "314ddf8bf715407b805da012777aaf16": {
      "model_module": "@jupyter-widgets/controls",
      "model_module_version": "2.0.0",
      "model_name": "FloatProgressModel",
      "state": {
       "bar_style": "success",
       "layout": "IPY_MODEL_728ce008b84f4188887975cd8b20c257",
       "max": 112,
       "style": "IPY_MODEL_46a89b6e0aca4a15a383f58ded71fdd4",
       "value": 112
      }
     },
     "3238084882464fd78ceac27fecbbe392": {
      "model_module": "@jupyter-widgets/base",
      "model_module_version": "2.0.0",
      "model_name": "LayoutModel",
      "state": {}
     },
     "3314cf5cb55e45308ef3bcfab881dc1a": {
      "model_module": "@jupyter-widgets/controls",
      "model_module_version": "2.0.0",
      "model_name": "HTMLModel",
      "state": {
       "layout": "IPY_MODEL_83534b9406f840309748c764205e995a",
       "style": "IPY_MODEL_9bd93e7b50b9475bb1db8004650c0cfc",
       "value": ".gitattributes: 100%"
      }
     },
     "334cd08adf954cb3a98050907d181861": {
      "model_module": "@jupyter-widgets/controls",
      "model_module_version": "2.0.0",
      "model_name": "HBoxModel",
      "state": {
       "children": [
        "IPY_MODEL_d7124d06a99d47009da3b9e91df6e7a9",
        "IPY_MODEL_dfb577ab912e4424a551dd2bfe2e5bb2",
        "IPY_MODEL_e4821c66de1744978881e4098e076517"
       ],
       "layout": "IPY_MODEL_1dcc05954e404138bea597f149b111f1"
      }
     },
     "344cc5d59a2741bd8f0bcc591f0a5bcf": {
      "model_module": "@jupyter-widgets/base",
      "model_module_version": "2.0.0",
      "model_name": "LayoutModel",
      "state": {}
     },
     "34e4f78ad2eb445c875417d97ad802ca": {
      "model_module": "@jupyter-widgets/controls",
      "model_module_version": "2.0.0",
      "model_name": "HTMLStyleModel",
      "state": {
       "description_width": "",
       "font_size": null,
       "text_color": null
      }
     },
     "34f38156cea14839949d554ead996ba0": {
      "model_module": "@jupyter-widgets/base",
      "model_module_version": "2.0.0",
      "model_name": "LayoutModel",
      "state": {}
     },
     "35a75d0f8f27482fa8299740111531cf": {
      "model_module": "@jupyter-widgets/controls",
      "model_module_version": "2.0.0",
      "model_name": "HTMLModel",
      "state": {
       "layout": "IPY_MODEL_de0f45845df1454da0c88e0dbf240547",
       "style": "IPY_MODEL_4f8aea1b8a744798a46a62c1d002602c",
       "value": "merges.txt: 100%"
      }
     },
     "3641cd3f59e34f228740da264e7d8a95": {
      "model_module": "@jupyter-widgets/base",
      "model_module_version": "2.0.0",
      "model_name": "LayoutModel",
      "state": {}
     },
     "36780318a4e648079075d010862ac03a": {
      "model_module": "@jupyter-widgets/controls",
      "model_module_version": "2.0.0",
      "model_name": "HTMLStyleModel",
      "state": {
       "description_width": "",
       "font_size": null,
       "text_color": null
      }
     },
     "377c3b0fdf3a4c49b500dd46eb19e861": {
      "model_module": "@jupyter-widgets/controls",
      "model_module_version": "2.0.0",
      "model_name": "HBoxModel",
      "state": {
       "children": [
        "IPY_MODEL_a8a289164bc54ac5be362d482657463f",
        "IPY_MODEL_d34d0b7aff744f078d8b6982e4e7625c",
        "IPY_MODEL_4b54757bbcc140bdaa1a96f000d69da8"
       ],
       "layout": "IPY_MODEL_14551ee6e682449685e294cad07461e9"
      }
     },
     "393a3637f1d1489187dabf1ab74845f7": {
      "model_module": "@jupyter-widgets/controls",
      "model_module_version": "2.0.0",
      "model_name": "HTMLStyleModel",
      "state": {
       "description_width": "",
       "font_size": null,
       "text_color": null
      }
     },
     "393e0e3ba09e406a9d720ee3a1aeb686": {
      "model_module": "@jupyter-widgets/controls",
      "model_module_version": "2.0.0",
      "model_name": "HTMLModel",
      "state": {
       "layout": "IPY_MODEL_3dd1b4f1f35e49b6a2f0f8ffb29a20fb",
       "style": "IPY_MODEL_fc72529cc112447885e30a30638e2442",
       "value": " 116/116 [00:00&lt;00:00, 4.36kB/s]"
      }
     },
     "397c1a12f92944158b45575a3380c192": {
      "model_module": "@jupyter-widgets/base",
      "model_module_version": "2.0.0",
      "model_name": "LayoutModel",
      "state": {}
     },
     "399fea03e3d84d4bb593f58e8f01f5ed": {
      "model_module": "@jupyter-widgets/controls",
      "model_module_version": "2.0.0",
      "model_name": "HTMLModel",
      "state": {
       "layout": "IPY_MODEL_48382eb258fd4c99919dbaf9dae16836",
       "style": "IPY_MODEL_a465353cdb8649bf9b86296bef6e9709",
       "value": "config.json: 100%"
      }
     },
     "3a72b9b2646744f1824f83b94b56efdf": {
      "model_module": "@jupyter-widgets/base",
      "model_module_version": "2.0.0",
      "model_name": "LayoutModel",
      "state": {}
     },
     "3b0a92fad3684527ae547285c50ac0ea": {
      "model_module": "@jupyter-widgets/controls",
      "model_module_version": "2.0.0",
      "model_name": "HTMLStyleModel",
      "state": {
       "description_width": "",
       "font_size": null,
       "text_color": null
      }
     },
     "3be0b20a75544f0aad3a715b8dea3e54": {
      "model_module": "@jupyter-widgets/base",
      "model_module_version": "2.0.0",
      "model_name": "LayoutModel",
      "state": {}
     },
     "3cc6146eb1794d17b32c6e8c4bd88b13": {
      "model_module": "@jupyter-widgets/controls",
      "model_module_version": "2.0.0",
      "model_name": "ProgressStyleModel",
      "state": {
       "description_width": ""
      }
     },
     "3d5639874adc4bed8b6e67a303e8a4b6": {
      "model_module": "@jupyter-widgets/controls",
      "model_module_version": "2.0.0",
      "model_name": "HTMLModel",
      "state": {
       "layout": "IPY_MODEL_f6dc1e24dcbc431a88f3d4fca18d3e67",
       "style": "IPY_MODEL_06c60290001f4dd5ac5ea41c317b0841",
       "value": "tokenizer_config.json: 100%"
      }
     },
     "3dd1b4f1f35e49b6a2f0f8ffb29a20fb": {
      "model_module": "@jupyter-widgets/base",
      "model_module_version": "2.0.0",
      "model_name": "LayoutModel",
      "state": {}
     },
     "3e36cc4c3c8140888b32e1e9d2b36ecd": {
      "model_module": "@jupyter-widgets/controls",
      "model_module_version": "2.0.0",
      "model_name": "HTMLModel",
      "state": {
       "layout": "IPY_MODEL_b9bc782b6feb495d9c41580072c7902e",
       "style": "IPY_MODEL_aea9d9156a2f4e04b34499f0d4c3aada",
       "value": " 659/659 [00:00&lt;00:00, 32.6kB/s]"
      }
     },
     "3e3c2ecf8bf74026b9a914b5f24d8edb": {
      "model_module": "@jupyter-widgets/controls",
      "model_module_version": "2.0.0",
      "model_name": "FloatProgressModel",
      "state": {
       "bar_style": "success",
       "layout": "IPY_MODEL_a0d65756c95243b78265fd5b71565ab8",
       "max": 349,
       "style": "IPY_MODEL_186614a3af5c4e0f85d32c27a348dc6e",
       "value": 349
      }
     },
     "3f6c1d7b52ec486b811b789a2f67257a": {
      "model_module": "@jupyter-widgets/controls",
      "model_module_version": "2.0.0",
      "model_name": "HBoxModel",
      "state": {
       "children": [
        "IPY_MODEL_5fe898eb87d444bba332e4fcc1f66db2",
        "IPY_MODEL_4acd424dde664b01af852cb320897058",
        "IPY_MODEL_d1c578d2b31e4145a51a1e42156d7972"
       ],
       "layout": "IPY_MODEL_27716c03f4fe49df8c982f5b4ada3d88"
      }
     },
     "4022b96417b144c88e2e5b83f40e5e00": {
      "model_module": "@jupyter-widgets/base",
      "model_module_version": "2.0.0",
      "model_name": "LayoutModel",
      "state": {}
     },
     "41477223587742c893c87681efbd41c7": {
      "model_module": "@jupyter-widgets/controls",
      "model_module_version": "2.0.0",
      "model_name": "HTMLModel",
      "state": {
       "layout": "IPY_MODEL_b70b3428f836468689deea75d28e977a",
       "style": "IPY_MODEL_e3b6353e4a8c48e182f47f57f2a908a7",
       "value": "config_sentence_transformers.json: 100%"
      }
     },
     "422d1ad547204b248e9ab0c3d55f7493": {
      "model_module": "@jupyter-widgets/controls",
      "model_module_version": "2.0.0",
      "model_name": "HTMLModel",
      "state": {
       "layout": "IPY_MODEL_6e716eb544964b9a9088f226ed71ecf0",
       "style": "IPY_MODEL_fc39a54a341942bcabc4f810249a88e2",
       "value": "tokenizer.json: 100%"
      }
     },
     "441388d4d3764dd8a5bd4a99d8b16996": {
      "model_module": "@jupyter-widgets/base",
      "model_module_version": "2.0.0",
      "model_name": "LayoutModel",
      "state": {}
     },
     "449e56f15dac48d18d2381d255e4581a": {
      "model_module": "@jupyter-widgets/controls",
      "model_module_version": "2.0.0",
      "model_name": "HTMLModel",
      "state": {
       "layout": "IPY_MODEL_29e94bfd753f4ebba5a1104687c76961",
       "style": "IPY_MODEL_76b4072eee1d4d6abffa2e83be06987d",
       "value": " 466k/466k [00:00&lt;00:00, 1.44MB/s]"
      }
     },
     "46a89b6e0aca4a15a383f58ded71fdd4": {
      "model_module": "@jupyter-widgets/controls",
      "model_module_version": "2.0.0",
      "model_name": "ProgressStyleModel",
      "state": {
       "description_width": ""
      }
     },
     "46ac749474f442539640172e35799116": {
      "model_module": "@jupyter-widgets/base",
      "model_module_version": "2.0.0",
      "model_name": "LayoutModel",
      "state": {}
     },
     "47ac106ee7e04388a650d4bce53a1fa0": {
      "model_module": "@jupyter-widgets/base",
      "model_module_version": "2.0.0",
      "model_name": "LayoutModel",
      "state": {}
     },
     "4802a9f31e0a4fc597df5f9601e31393": {
      "model_module": "@jupyter-widgets/base",
      "model_module_version": "2.0.0",
      "model_name": "LayoutModel",
      "state": {}
     },
     "4810f96c89654cd8a3afc3aebfe85173": {
      "model_module": "@jupyter-widgets/controls",
      "model_module_version": "2.0.0",
      "model_name": "HTMLStyleModel",
      "state": {
       "description_width": "",
       "font_size": null,
       "text_color": null
      }
     },
     "48382eb258fd4c99919dbaf9dae16836": {
      "model_module": "@jupyter-widgets/base",
      "model_module_version": "2.0.0",
      "model_name": "LayoutModel",
      "state": {}
     },
     "4843737e025c48029cc4c7708e8db26a": {
      "model_module": "@jupyter-widgets/controls",
      "model_module_version": "2.0.0",
      "model_name": "FloatProgressModel",
      "state": {
       "bar_style": "success",
       "layout": "IPY_MODEL_1b180ef0de7e47b5a674f269d679f222",
       "max": 438011953,
       "style": "IPY_MODEL_c9d983ffb56d436d9a330db059fb9a48",
       "value": 438011953
      }
     },
     "49c88adef3dd4ab7a1f2c0520148fd4c": {
      "model_module": "@jupyter-widgets/controls",
      "model_module_version": "2.0.0",
      "model_name": "HTMLStyleModel",
      "state": {
       "description_width": "",
       "font_size": null,
       "text_color": null
      }
     },
     "49e909c19782400f8e472acbfec2d19a": {
      "model_module": "@jupyter-widgets/controls",
      "model_module_version": "2.0.0",
      "model_name": "ProgressStyleModel",
      "state": {
       "description_width": ""
      }
     },
     "4a844d76eabe4ab8b38e94b5279bf64e": {
      "model_module": "@jupyter-widgets/controls",
      "model_module_version": "2.0.0",
      "model_name": "FloatProgressModel",
      "state": {
       "bar_style": "success",
       "layout": "IPY_MODEL_cac38717a0da4c378223b1bf1f128e31",
       "max": 90868376,
       "style": "IPY_MODEL_5ebaa7eb11b04ba39a533c7da7f101d1",
       "value": 90868376
      }
     },
     "4a90c49c6dff4177b81a5e9d46062f7a": {
      "model_module": "@jupyter-widgets/controls",
      "model_module_version": "2.0.0",
      "model_name": "ProgressStyleModel",
      "state": {
       "description_width": ""
      }
     },
     "4acd424dde664b01af852cb320897058": {
      "model_module": "@jupyter-widgets/controls",
      "model_module_version": "2.0.0",
      "model_name": "FloatProgressModel",
      "state": {
       "bar_style": "success",
       "layout": "IPY_MODEL_344cc5d59a2741bd8f0bcc591f0a5bcf",
       "max": 7305,
       "style": "IPY_MODEL_49e909c19782400f8e472acbfec2d19a",
       "value": 7305
      }
     },
     "4af23cf0ca734e7c885f872089b5f67e": {
      "model_module": "@jupyter-widgets/controls",
      "model_module_version": "2.0.0",
      "model_name": "HTMLModel",
      "state": {
       "layout": "IPY_MODEL_81ebebda59d247588f00aebdd459f3f7",
       "style": "IPY_MODEL_96fd52948a5c4f25b225010a8c68f3dc",
       "value": " 232k/232k [00:00&lt;00:00, 6.18MB/s]"
      }
     },
     "4b54757bbcc140bdaa1a96f000d69da8": {
      "model_module": "@jupyter-widgets/controls",
      "model_module_version": "2.0.0",
      "model_name": "HTMLModel",
      "state": {
       "layout": "IPY_MODEL_a0abd6b847be44ab95e2935bd61e97fe",
       "style": "IPY_MODEL_2145e26ddb974eeb8ea9355edb907766",
       "value": " 232k/232k [00:00&lt;00:00, 6.81MB/s]"
      }
     },
     "4bcc7febc8ce4001954cc63c811edd83": {
      "model_module": "@jupyter-widgets/controls",
      "model_module_version": "2.0.0",
      "model_name": "HTMLStyleModel",
      "state": {
       "description_width": "",
       "font_size": null,
       "text_color": null
      }
     },
     "4bec51df32a74bc0ba82ad6d7ebb2cea": {
      "model_module": "@jupyter-widgets/controls",
      "model_module_version": "2.0.0",
      "model_name": "HTMLModel",
      "state": {
       "layout": "IPY_MODEL_95f7e2e850a14cde91b0e1261d08c857",
       "style": "IPY_MODEL_6e5e270e3353412480af7c1c8068f92f",
       "value": " 239/239 [00:00&lt;00:00, 9.28kB/s]"
      }
     },
     "4d3071c3f407491d857f4a0d62c26e96": {
      "model_module": "@jupyter-widgets/base",
      "model_module_version": "2.0.0",
      "model_name": "LayoutModel",
      "state": {}
     },
     "4e0d9f3e290342cf8f877aa73fbc49bd": {
      "model_module": "@jupyter-widgets/base",
      "model_module_version": "2.0.0",
      "model_name": "LayoutModel",
      "state": {}
     },
     "4e7be498ec554d37bfd2fa6d4080ef35": {
      "model_module": "@jupyter-widgets/controls",
      "model_module_version": "2.0.0",
      "model_name": "HTMLStyleModel",
      "state": {
       "description_width": "",
       "font_size": null,
       "text_color": null
      }
     },
     "4eafa5549c1d424da7773ec0505b7cff": {
      "model_module": "@jupyter-widgets/base",
      "model_module_version": "2.0.0",
      "model_name": "LayoutModel",
      "state": {}
     },
     "4f1c9a687d974c50bc7af468cac723aa": {
      "model_module": "@jupyter-widgets/controls",
      "model_module_version": "2.0.0",
      "model_name": "HBoxModel",
      "state": {
       "children": [
        "IPY_MODEL_d5decf3217274aa8b5accc1d476dd1c9",
        "IPY_MODEL_a6ada2b055a147d4bda2bb61150ebb5b",
        "IPY_MODEL_1da7ada943e44df79c392aa2e6d46fc8"
       ],
       "layout": "IPY_MODEL_953a62956edd4d2bb9aa7ad973994d82"
      }
     },
     "4f4362210a794742bf349183b66d9b90": {
      "model_module": "@jupyter-widgets/controls",
      "model_module_version": "2.0.0",
      "model_name": "HTMLModel",
      "state": {
       "layout": "IPY_MODEL_ded83f97a0e14497b1fecd5b1834a888",
       "style": "IPY_MODEL_8704deebe9a2461eb21e0a25005960f6",
       "value": " 190/190 [00:00&lt;00:00, 7.15kB/s]"
      }
     },
     "4f8aea1b8a744798a46a62c1d002602c": {
      "model_module": "@jupyter-widgets/controls",
      "model_module_version": "2.0.0",
      "model_name": "HTMLStyleModel",
      "state": {
       "description_width": "",
       "font_size": null,
       "text_color": null
      }
     },
     "4fb7257c538f462ca293a56b3caf6b9c": {
      "model_module": "@jupyter-widgets/controls",
      "model_module_version": "2.0.0",
      "model_name": "FloatProgressModel",
      "state": {
       "bar_style": "success",
       "layout": "IPY_MODEL_071d334c0124494b981c14dff5487c97",
       "max": 116,
       "style": "IPY_MODEL_9ed3953e10ea4163853f3b3f9d2115ab",
       "value": 116
      }
     },
     "50597cdea905437cb9053e17d3cda3df": {
      "model_module": "@jupyter-widgets/controls",
      "model_module_version": "2.0.0",
      "model_name": "HTMLStyleModel",
      "state": {
       "description_width": "",
       "font_size": null,
       "text_color": null
      }
     },
     "51bc356bb57f41db983bc455c1022453": {
      "model_module": "@jupyter-widgets/controls",
      "model_module_version": "2.0.0",
      "model_name": "HBoxModel",
      "state": {
       "children": [
        "IPY_MODEL_35a75d0f8f27482fa8299740111531cf",
        "IPY_MODEL_d4940b6484334a33b573dc658998d8cd",
        "IPY_MODEL_b4b4f75de16d4a46b18854bceb7fe3bd"
       ],
       "layout": "IPY_MODEL_f1b3e0a0623245938e1b96c03d5ab82b"
      }
     },
     "53348053f2c349b383db6b374e37a011": {
      "model_module": "@jupyter-widgets/controls",
      "model_module_version": "2.0.0",
      "model_name": "ProgressStyleModel",
      "state": {
       "description_width": ""
      }
     },
     "54ba48f2f9c04241b6e2528ecba00752": {
      "model_module": "@jupyter-widgets/controls",
      "model_module_version": "2.0.0",
      "model_name": "HTMLStyleModel",
      "state": {
       "description_width": "",
       "font_size": null,
       "text_color": null
      }
     },
     "54c4a95fe4aa4d8e97a7bc1403bf860e": {
      "model_module": "@jupyter-widgets/base",
      "model_module_version": "2.0.0",
      "model_name": "LayoutModel",
      "state": {}
     },
     "553890eadbc2437abb22a1be9714a8b6": {
      "model_module": "@jupyter-widgets/base",
      "model_module_version": "2.0.0",
      "model_name": "LayoutModel",
      "state": {}
     },
     "55e47134c8944f24920b90d73e7ab489": {
      "model_module": "@jupyter-widgets/base",
      "model_module_version": "2.0.0",
      "model_name": "LayoutModel",
      "state": {}
     },
     "5697ee3a43984a468602f4f7983e3fc5": {
      "model_module": "@jupyter-widgets/base",
      "model_module_version": "2.0.0",
      "model_name": "LayoutModel",
      "state": {}
     },
     "56d3490fe05c416e879ca5f3187ec8ff": {
      "model_module": "@jupyter-widgets/base",
      "model_module_version": "2.0.0",
      "model_name": "LayoutModel",
      "state": {}
     },
     "56de4923d8db4ca9a721a8a1df2baa9a": {
      "model_module": "@jupyter-widgets/controls",
      "model_module_version": "2.0.0",
      "model_name": "HBoxModel",
      "state": {
       "children": [
        "IPY_MODEL_90a215bc5b564716988ad46cad95a3ab",
        "IPY_MODEL_89c0e7918ea14580a3f20c446e4edc36",
        "IPY_MODEL_4bec51df32a74bc0ba82ad6d7ebb2cea"
       ],
       "layout": "IPY_MODEL_969a04f9741344e5a086d6efc8d1425d"
      }
     },
     "56e136197b2040baa9ef2824df379ea7": {
      "model_module": "@jupyter-widgets/controls",
      "model_module_version": "2.0.0",
      "model_name": "FloatProgressModel",
      "state": {
       "bar_style": "success",
       "layout": "IPY_MODEL_de6a7f35df834cfb87692fe185c363c0",
       "max": 90430986,
       "style": "IPY_MODEL_80619d09d5af4cef98a9857d13b3cb14",
       "value": 90430986
      }
     },
     "5764c43c95ff4038a98440c5012bdfd7": {
      "model_module": "@jupyter-widgets/controls",
      "model_module_version": "2.0.0",
      "model_name": "HTMLModel",
      "state": {
       "layout": "IPY_MODEL_fca299d2f9e746d0968f4a09b366f2cb",
       "style": "IPY_MODEL_1fe1b5c268e44ff98518b2de76a05bd5",
       "value": " 90.9M/90.9M [00:00&lt;00:00, 109MB/s]"
      }
     },
     "585c5a0ec56b4542a3c67730080dca06": {
      "model_module": "@jupyter-widgets/controls",
      "model_module_version": "2.0.0",
      "model_name": "HBoxModel",
      "state": {
       "children": [
        "IPY_MODEL_a597938d97214d759344f2a2b64c0c51",
        "IPY_MODEL_8a962515bbf244698eb9d6b71bfb9010",
        "IPY_MODEL_5de32932bd6b45aeaf5240529f668309"
       ],
       "layout": "IPY_MODEL_dc5cb3cf6b9c4628b42aed624edd97cc"
      }
     },
     "59bd5eb4f67a40b1bd913b91378ccc50": {
      "model_module": "@jupyter-widgets/controls",
      "model_module_version": "2.0.0",
      "model_name": "HBoxModel",
      "state": {
       "children": [
        "IPY_MODEL_e7c2150f3e704013b6ca9a52d301fc7a",
        "IPY_MODEL_ea994966ce1541128bf7c11bfd2a5a65",
        "IPY_MODEL_9dba1d131f9f490195a3168c8672392c"
       ],
       "layout": "IPY_MODEL_0e977a2e9a8445d88b69a0242ab041e8"
      }
     },
     "5a12b50f48f94abb8d072087dfb5eec2": {
      "model_module": "@jupyter-widgets/controls",
      "model_module_version": "2.0.0",
      "model_name": "HTMLStyleModel",
      "state": {
       "description_width": "",
       "font_size": null,
       "text_color": null
      }
     },
     "5a1840be8c4547cd8c75ff074438f114": {
      "model_module": "@jupyter-widgets/controls",
      "model_module_version": "2.0.0",
      "model_name": "HTMLModel",
      "state": {
       "layout": "IPY_MODEL_0ea0fb5c133745f792ac4d99a58d2f1f",
       "style": "IPY_MODEL_2d58d238ed8047a9b4a0bf64908deac4",
       "value": " 438M/438M [00:03&lt;00:00, 124MB/s]"
      }
     },
     "5a4170062c264344b764508292f9b4b3": {
      "model_module": "@jupyter-widgets/base",
      "model_module_version": "2.0.0",
      "model_name": "LayoutModel",
      "state": {}
     },
     "5a824b1a01dd4e4ca1420cade8d94870": {
      "model_module": "@jupyter-widgets/controls",
      "model_module_version": "2.0.0",
      "model_name": "ProgressStyleModel",
      "state": {
       "description_width": ""
      }
     },
     "5b58b3827c9941d7887d49de65ce4882": {
      "model_module": "@jupyter-widgets/controls",
      "model_module_version": "2.0.0",
      "model_name": "HTMLStyleModel",
      "state": {
       "description_width": "",
       "font_size": null,
       "text_color": null
      }
     },
     "5d2a55e5969a49959d4f64fd2bf2830b": {
      "model_module": "@jupyter-widgets/controls",
      "model_module_version": "2.0.0",
      "model_name": "HBoxModel",
      "state": {
       "children": [
        "IPY_MODEL_3314cf5cb55e45308ef3bcfab881dc1a",
        "IPY_MODEL_d3ad42949e3749c7b8f7f0e50f59e42e",
        "IPY_MODEL_c9b1021b36b344f49c9a5641c0702a83"
       ],
       "layout": "IPY_MODEL_70faa13831ce4a849ddee49271e70f17"
      }
     },
     "5de32932bd6b45aeaf5240529f668309": {
      "model_module": "@jupyter-widgets/controls",
      "model_module_version": "2.0.0",
      "model_name": "HTMLModel",
      "state": {
       "layout": "IPY_MODEL_9187d8c941054cea8004997000e24e05",
       "style": "IPY_MODEL_d560329ab0ff436984b1e3b84a340706",
       "value": " 7.03M/7.03M [00:00&lt;00:00, 14.1MB/s]"
      }
     },
     "5e5136b060d4417ea3f521c365ecb648": {
      "model_module": "@jupyter-widgets/controls",
      "model_module_version": "2.0.0",
      "model_name": "HTMLModel",
      "state": {
       "layout": "IPY_MODEL_15ea8bdbf2b3495591a1bea2476e045e",
       "style": "IPY_MODEL_0e68e781b8834824b2fc8d9b4e0de30e",
       "value": " 242/242 [00:00&lt;00:00, 20.7kB/s]"
      }
     },
     "5e756278ce6644bda9b3234cd2a9e094": {
      "model_module": "@jupyter-widgets/controls",
      "model_module_version": "2.0.0",
      "model_name": "FloatProgressModel",
      "state": {
       "bar_style": "success",
       "layout": "IPY_MODEL_94c01e1f2bca4109af1fb01bcad9e68a",
       "max": 90888945,
       "style": "IPY_MODEL_d4cd9b247c9648c6b9a3bf4eeb973a35",
       "value": 90888945
      }
     },
     "5e7f76968e914049a49515e10103c809": {
      "model_module": "@jupyter-widgets/controls",
      "model_module_version": "2.0.0",
      "model_name": "HTMLStyleModel",
      "state": {
       "description_width": "",
       "font_size": null,
       "text_color": null
      }
     },
     "5ebaa7eb11b04ba39a533c7da7f101d1": {
      "model_module": "@jupyter-widgets/controls",
      "model_module_version": "2.0.0",
      "model_name": "ProgressStyleModel",
      "state": {
       "description_width": ""
      }
     },
     "5fe898eb87d444bba332e4fcc1f66db2": {
      "model_module": "@jupyter-widgets/controls",
      "model_module_version": "2.0.0",
      "model_name": "HTMLModel",
      "state": {
       "layout": "IPY_MODEL_553890eadbc2437abb22a1be9714a8b6",
       "style": "IPY_MODEL_b6e2db66976742fcb6cb9f579713bd0f",
       "value": "tokenizer_config.json: 100%"
      }
     },
     "62bedff36c0c461199f3cac64fee5382": {
      "model_module": "@jupyter-widgets/controls",
      "model_module_version": "2.0.0",
      "model_name": "FloatProgressModel",
      "state": {
       "bar_style": "success",
       "layout": "IPY_MODEL_770d6e68584d462b8bd7b1368284756e",
       "max": 10621,
       "style": "IPY_MODEL_7aee0e1aae5f48afb75c222620d44574",
       "value": 10621
      }
     },
     "63119d66ac6d48a69f9e27c3e34cca72": {
      "model_module": "@jupyter-widgets/controls",
      "model_module_version": "2.0.0",
      "model_name": "HTMLStyleModel",
      "state": {
       "description_width": "",
       "font_size": null,
       "text_color": null
      }
     },
     "644864c0f68b4f599225be8df4735f2e": {
      "model_module": "@jupyter-widgets/controls",
      "model_module_version": "2.0.0",
      "model_name": "ProgressStyleModel",
      "state": {
       "description_width": ""
      }
     },
     "6529b3d448164bf6be1e80f86815209a": {
      "model_module": "@jupyter-widgets/controls",
      "model_module_version": "2.0.0",
      "model_name": "HTMLModel",
      "state": {
       "layout": "IPY_MODEL_6cb4b0866e884e7db67d0a2a8065207c",
       "style": "IPY_MODEL_36780318a4e648079075d010862ac03a",
       "value": "sentence_bert_config.json: 100%"
      }
     },
     "668c350a68e345d3a797352986d28bde": {
      "model_module": "@jupyter-widgets/controls",
      "model_module_version": "2.0.0",
      "model_name": "ProgressStyleModel",
      "state": {
       "description_width": ""
      }
     },
     "6716bbd72f08479086c3d4b4c80daa43": {
      "model_module": "@jupyter-widgets/base",
      "model_module_version": "2.0.0",
      "model_name": "LayoutModel",
      "state": {}
     },
     "68046f3886fd4705bbb464aca2a06061": {
      "model_module": "@jupyter-widgets/controls",
      "model_module_version": "2.0.0",
      "model_name": "FloatProgressModel",
      "state": {
       "bar_style": "success",
       "layout": "IPY_MODEL_92439d2241de415eb6cc0ea5947ae557",
       "max": 349,
       "style": "IPY_MODEL_1de5110969bb40b1af81d27ddeb5511a",
       "value": 349
      }
     },
     "684f21799d834df7a2778ff9c34ee4cc": {
      "model_module": "@jupyter-widgets/controls",
      "model_module_version": "2.0.0",
      "model_name": "FloatProgressModel",
      "state": {
       "bar_style": "success",
       "layout": "IPY_MODEL_2f0b8c0981894ec0946e775325917dbb",
       "max": 242,
       "style": "IPY_MODEL_668c350a68e345d3a797352986d28bde",
       "value": 242
      }
     },
     "68c8f851bdfe43f593618b8b9bdfad02": {
      "model_module": "@jupyter-widgets/controls",
      "model_module_version": "2.0.0",
      "model_name": "HTMLStyleModel",
      "state": {
       "description_width": "",
       "font_size": null,
       "text_color": null
      }
     },
     "69d0b86e29294e7881c5b9c4f288edc1": {
      "model_module": "@jupyter-widgets/controls",
      "model_module_version": "2.0.0",
      "model_name": "ProgressStyleModel",
      "state": {
       "description_width": ""
      }
     },
     "6a19c983e46b4945aa9c495b66299815": {
      "model_module": "@jupyter-widgets/controls",
      "model_module_version": "2.0.0",
      "model_name": "HTMLStyleModel",
      "state": {
       "description_width": "",
       "font_size": null,
       "text_color": null
      }
     },
     "6ab79c83758b4ef2a8259fb74d34604e": {
      "model_module": "@jupyter-widgets/base",
      "model_module_version": "2.0.0",
      "model_name": "LayoutModel",
      "state": {}
     },
     "6b2595bf770e4ab0b80a44125efbcdeb": {
      "model_module": "@jupyter-widgets/base",
      "model_module_version": "2.0.0",
      "model_name": "LayoutModel",
      "state": {}
     },
     "6c759eeccdbd4a35912d63d1f1ca14db": {
      "model_module": "@jupyter-widgets/controls",
      "model_module_version": "2.0.0",
      "model_name": "HBoxModel",
      "state": {
       "children": [
        "IPY_MODEL_7b0066d3a2274d89bbe7da3ce893bd77",
        "IPY_MODEL_085b0434cb2445719c13402f799d29a3",
        "IPY_MODEL_1272cab3194642a7b4be8c2488f1a584"
       ],
       "layout": "IPY_MODEL_ff634010dfa44df1bdc77bc4b2219074"
      }
     },
     "6c8627687a254b51a42e7c082e466919": {
      "model_module": "@jupyter-widgets/base",
      "model_module_version": "2.0.0",
      "model_name": "LayoutModel",
      "state": {}
     },
     "6c9d6713235f489b9ebc426fdd324eea": {
      "model_module": "@jupyter-widgets/base",
      "model_module_version": "2.0.0",
      "model_name": "LayoutModel",
      "state": {}
     },
     "6cb4b0866e884e7db67d0a2a8065207c": {
      "model_module": "@jupyter-widgets/base",
      "model_module_version": "2.0.0",
      "model_name": "LayoutModel",
      "state": {}
     },
     "6d0646dd6f7a49719da42d24d0d05ce1": {
      "model_module": "@jupyter-widgets/base",
      "model_module_version": "2.0.0",
      "model_name": "LayoutModel",
      "state": {}
     },
     "6d6f3572d7964c6e995be03638f8ff46": {
      "model_module": "@jupyter-widgets/base",
      "model_module_version": "2.0.0",
      "model_name": "LayoutModel",
      "state": {}
     },
     "6dcb729ee5294b1180e98cb769d01592": {
      "model_module": "@jupyter-widgets/controls",
      "model_module_version": "2.0.0",
      "model_name": "HTMLModel",
      "state": {
       "layout": "IPY_MODEL_bbfa9577083e4a72a46cbacfafdcb173",
       "style": "IPY_MODEL_393a3637f1d1489187dabf1ab74845f7",
       "value": " 438M/438M [00:04&lt;00:00, 120MB/s]"
      }
     },
     "6e5e270e3353412480af7c1c8068f92f": {
      "model_module": "@jupyter-widgets/controls",
      "model_module_version": "2.0.0",
      "model_name": "HTMLStyleModel",
      "state": {
       "description_width": "",
       "font_size": null,
       "text_color": null
      }
     },
     "6e677436eb23419784f9ecf35e50f4ff": {
      "model_module": "@jupyter-widgets/base",
      "model_module_version": "2.0.0",
      "model_name": "LayoutModel",
      "state": {}
     },
     "6e716eb544964b9a9088f226ed71ecf0": {
      "model_module": "@jupyter-widgets/base",
      "model_module_version": "2.0.0",
      "model_name": "LayoutModel",
      "state": {}
     },
     "6f446da4f91e475198deb1ecd5a70f71": {
      "model_module": "@jupyter-widgets/controls",
      "model_module_version": "2.0.0",
      "model_name": "HTMLStyleModel",
      "state": {
       "description_width": "",
       "font_size": null,
       "text_color": null
      }
     },
     "70927974f0a947719ef0fc23401d42ae": {
      "model_module": "@jupyter-widgets/controls",
      "model_module_version": "2.0.0",
      "model_name": "HTMLStyleModel",
      "state": {
       "description_width": "",
       "font_size": null,
       "text_color": null
      }
     },
     "70faa13831ce4a849ddee49271e70f17": {
      "model_module": "@jupyter-widgets/base",
      "model_module_version": "2.0.0",
      "model_name": "LayoutModel",
      "state": {}
     },
     "727982ac4f944369ab90f5c2d9e580c6": {
      "model_module": "@jupyter-widgets/controls",
      "model_module_version": "2.0.0",
      "model_name": "ProgressStyleModel",
      "state": {
       "description_width": ""
      }
     },
     "727bebdaffd04529bd3881a93b527f58": {
      "model_module": "@jupyter-widgets/controls",
      "model_module_version": "2.0.0",
      "model_name": "ProgressStyleModel",
      "state": {
       "description_width": ""
      }
     },
     "728ce008b84f4188887975cd8b20c257": {
      "model_module": "@jupyter-widgets/base",
      "model_module_version": "2.0.0",
      "model_name": "LayoutModel",
      "state": {}
     },
     "73a6d90c51784869a4496769282ca5e4": {
      "model_module": "@jupyter-widgets/base",
      "model_module_version": "2.0.0",
      "model_name": "LayoutModel",
      "state": {}
     },
     "73dcf8f92fb84cac9ede47a200cb4243": {
      "model_module": "@jupyter-widgets/base",
      "model_module_version": "2.0.0",
      "model_name": "LayoutModel",
      "state": {}
     },
     "742031d1ce8a44b2be95b22e28c96c56": {
      "model_module": "@jupyter-widgets/controls",
      "model_module_version": "2.0.0",
      "model_name": "FloatProgressModel",
      "state": {
       "bar_style": "success",
       "layout": "IPY_MODEL_6c9d6713235f489b9ebc426fdd324eea",
       "max": 2776833,
       "style": "IPY_MODEL_53348053f2c349b383db6b374e37a011",
       "value": 2776833
      }
     },
     "7453d5c4e6e94f4eadbca89fa127e674": {
      "model_module": "@jupyter-widgets/controls",
      "model_module_version": "2.0.0",
      "model_name": "ProgressStyleModel",
      "state": {
       "description_width": ""
      }
     },
     "75fae7708e1448348396c61a57cc997e": {
      "model_module": "@jupyter-widgets/controls",
      "model_module_version": "2.0.0",
      "model_name": "HTMLModel",
      "state": {
       "layout": "IPY_MODEL_8e4bbdc3456a4701aac59583f62431fa",
       "style": "IPY_MODEL_54ba48f2f9c04241b6e2528ecba00752",
       "value": " 39.3k/39.3k [00:00&lt;00:00, 1.62MB/s]"
      }
     },
     "76b4072eee1d4d6abffa2e83be06987d": {
      "model_module": "@jupyter-widgets/controls",
      "model_module_version": "2.0.0",
      "model_name": "HTMLStyleModel",
      "state": {
       "description_width": "",
       "font_size": null,
       "text_color": null
      }
     },
     "76edf17152704b5d8f15519de6d57503": {
      "model_module": "@jupyter-widgets/controls",
      "model_module_version": "2.0.0",
      "model_name": "ProgressStyleModel",
      "state": {
       "description_width": ""
      }
     },
     "770d6e68584d462b8bd7b1368284756e": {
      "model_module": "@jupyter-widgets/base",
      "model_module_version": "2.0.0",
      "model_name": "LayoutModel",
      "state": {}
     },
     "77e751c5cb424620a72ce60395e40c41": {
      "model_module": "@jupyter-widgets/controls",
      "model_module_version": "2.0.0",
      "model_name": "HTMLStyleModel",
      "state": {
       "description_width": "",
       "font_size": null,
       "text_color": null
      }
     },
     "7841b660978c47df94dc866feb20e7f8": {
      "model_module": "@jupyter-widgets/controls",
      "model_module_version": "2.0.0",
      "model_name": "FloatProgressModel",
      "state": {
       "bar_style": "success",
       "layout": "IPY_MODEL_3641cd3f59e34f228740da264e7d8a95",
       "max": 10659,
       "style": "IPY_MODEL_2696b63ef74b4f1a8a1b415cdf4b9bbb",
       "value": 10659
      }
     },
     "78fc3f7b0d0845b1aa2d6bab0d920f39": {
      "model_module": "@jupyter-widgets/controls",
      "model_module_version": "2.0.0",
      "model_name": "HTMLModel",
      "state": {
       "layout": "IPY_MODEL_441388d4d3764dd8a5bd4a99d8b16996",
       "style": "IPY_MODEL_49c88adef3dd4ab7a1f2c0520148fd4c",
       "value": " 90.9M/90.9M [00:01&lt;00:00, 74.3MB/s]"
      }
     },
     "791a264a13d644c68c73f54139766554": {
      "model_module": "@jupyter-widgets/controls",
      "model_module_version": "2.0.0",
      "model_name": "ProgressStyleModel",
      "state": {
       "description_width": ""
      }
     },
     "79978b437fe84e008995469ed70d412e": {
      "model_module": "@jupyter-widgets/controls",
      "model_module_version": "2.0.0",
      "model_name": "HBoxModel",
      "state": {
       "children": [
        "IPY_MODEL_b287dc1a795f4dd7a39e7a1f49f62bc4",
        "IPY_MODEL_00c0b726101445f8a34d1d78df343449",
        "IPY_MODEL_4af23cf0ca734e7c885f872089b5f67e"
       ],
       "layout": "IPY_MODEL_4e0d9f3e290342cf8f877aa73fbc49bd"
      }
     },
     "7aa55293871f444eb2a003c987eeef8b": {
      "model_module": "@jupyter-widgets/base",
      "model_module_version": "2.0.0",
      "model_name": "LayoutModel",
      "state": {}
     },
     "7aee0e1aae5f48afb75c222620d44574": {
      "model_module": "@jupyter-widgets/controls",
      "model_module_version": "2.0.0",
      "model_name": "ProgressStyleModel",
      "state": {
       "description_width": ""
      }
     },
     "7b0066d3a2274d89bbe7da3ce893bd77": {
      "model_module": "@jupyter-widgets/controls",
      "model_module_version": "2.0.0",
      "model_name": "HTMLModel",
      "state": {
       "layout": "IPY_MODEL_e7777a09cda143e48e56c32e7e33ed41",
       "style": "IPY_MODEL_70927974f0a947719ef0fc23401d42ae",
       "value": "tokenizer_config.json: 100%"
      }
     },
     "7b275d4ee5854c48873741894ecdb2af": {
      "model_module": "@jupyter-widgets/controls",
      "model_module_version": "2.0.0",
      "model_name": "FloatProgressModel",
      "state": {
       "bar_style": "success",
       "layout": "IPY_MODEL_6716bbd72f08479086c3d4b4c80daa43",
       "max": 13123,
       "style": "IPY_MODEL_4a90c49c6dff4177b81a5e9d46062f7a",
       "value": 13123
      }
     },
     "7e5bf3153b774f558105c13da3047d64": {
      "model_module": "@jupyter-widgets/base",
      "model_module_version": "2.0.0",
      "model_name": "LayoutModel",
      "state": {}
     },
     "7e81b50f87cd438b9536ec7e27ecced6": {
      "model_module": "@jupyter-widgets/base",
      "model_module_version": "2.0.0",
      "model_name": "LayoutModel",
      "state": {}
     },
     "7f006ce84ffc4bf0b99f351f7b6e8076": {
      "model_module": "@jupyter-widgets/base",
      "model_module_version": "2.0.0",
      "model_name": "LayoutModel",
      "state": {}
     },
     "7f518194cd9c409aadf07ba92ddc34bc": {
      "model_module": "@jupyter-widgets/base",
      "model_module_version": "2.0.0",
      "model_name": "LayoutModel",
      "state": {}
     },
     "801a0c545dbf4326876451f720d5715a": {
      "model_module": "@jupyter-widgets/controls",
      "model_module_version": "2.0.0",
      "model_name": "HBoxModel",
      "state": {
       "children": [
        "IPY_MODEL_6529b3d448164bf6be1e80f86815209a",
        "IPY_MODEL_a4c7d809838140aeacd9f70a3a6cd7db",
        "IPY_MODEL_835b78c29d6a42d981024b77a96b3b03"
       ],
       "layout": "IPY_MODEL_b4cdbabdb50045399e32077be736a885"
      }
     },
     "802d4e00356149c5b3f4712302aab313": {
      "model_module": "@jupyter-widgets/controls",
      "model_module_version": "2.0.0",
      "model_name": "HTMLStyleModel",
      "state": {
       "description_width": "",
       "font_size": null,
       "text_color": null
      }
     },
     "80619d09d5af4cef98a9857d13b3cb14": {
      "model_module": "@jupyter-widgets/controls",
      "model_module_version": "2.0.0",
      "model_name": "ProgressStyleModel",
      "state": {
       "description_width": ""
      }
     },
     "80ab7462462142759d013cff5877e636": {
      "model_module": "@jupyter-widgets/controls",
      "model_module_version": "2.0.0",
      "model_name": "HTMLStyleModel",
      "state": {
       "description_width": "",
       "font_size": null,
       "text_color": null
      }
     },
     "813a97015c25497bb8b4ba539b12c076": {
      "model_module": "@jupyter-widgets/controls",
      "model_module_version": "2.0.0",
      "model_name": "HTMLModel",
      "state": {
       "layout": "IPY_MODEL_7aa55293871f444eb2a003c987eeef8b",
       "style": "IPY_MODEL_50597cdea905437cb9053e17d3cda3df",
       "value": "pytorch_model.bin: 100%"
      }
     },
     "81ebebda59d247588f00aebdd459f3f7": {
      "model_module": "@jupyter-widgets/base",
      "model_module_version": "2.0.0",
      "model_name": "LayoutModel",
      "state": {}
     },
     "820a644f3ff14896b7d19bdcf192563c": {
      "model_module": "@jupyter-widgets/base",
      "model_module_version": "2.0.0",
      "model_name": "LayoutModel",
      "state": {}
     },
     "83534b9406f840309748c764205e995a": {
      "model_module": "@jupyter-widgets/base",
      "model_module_version": "2.0.0",
      "model_name": "LayoutModel",
      "state": {}
     },
     "835b78c29d6a42d981024b77a96b3b03": {
      "model_module": "@jupyter-widgets/controls",
      "model_module_version": "2.0.0",
      "model_name": "HTMLModel",
      "state": {
       "layout": "IPY_MODEL_cdb14339f32d417189d65def85deee38",
       "style": "IPY_MODEL_dcf72e88ab0c4b17886ab5df27842ade",
       "value": " 53.0/53.0 [00:00&lt;00:00, 1.89kB/s]"
      }
     },
     "840c6c0fe1d242a2aa19b008f12adcdc": {
      "model_module": "@jupyter-widgets/base",
      "model_module_version": "2.0.0",
      "model_name": "LayoutModel",
      "state": {}
     },
     "84e6ffbd52264927be9019c5944fdf04": {
      "model_module": "@jupyter-widgets/base",
      "model_module_version": "2.0.0",
      "model_name": "LayoutModel",
      "state": {}
     },
     "861d17a6f540404ca78b3a32bec358dd": {
      "model_module": "@jupyter-widgets/controls",
      "model_module_version": "2.0.0",
      "model_name": "HBoxModel",
      "state": {
       "children": [
        "IPY_MODEL_c192cd3ad03545f0a18b180ed84862ca",
        "IPY_MODEL_eada2f8e74d8458981880253295ababa",
        "IPY_MODEL_3e36cc4c3c8140888b32e1e9d2b36ecd"
       ],
       "layout": "IPY_MODEL_3be0b20a75544f0aad3a715b8dea3e54"
      }
     },
     "865f188fab324fbc94e7db75ff5f8fe8": {
      "model_module": "@jupyter-widgets/controls",
      "model_module_version": "2.0.0",
      "model_name": "HTMLStyleModel",
      "state": {
       "description_width": "",
       "font_size": null,
       "text_color": null
      }
     },
     "8704deebe9a2461eb21e0a25005960f6": {
      "model_module": "@jupyter-widgets/controls",
      "model_module_version": "2.0.0",
      "model_name": "HTMLStyleModel",
      "state": {
       "description_width": "",
       "font_size": null,
       "text_color": null
      }
     },
     "8862213aece1430c917487312f60357b": {
      "model_module": "@jupyter-widgets/controls",
      "model_module_version": "2.0.0",
      "model_name": "HBoxModel",
      "state": {
       "children": [
        "IPY_MODEL_8b6f63b230da4463878cb104384e97ef",
        "IPY_MODEL_de0ff89a219d4e0a98bbd904982cbf2d",
        "IPY_MODEL_c939b9616e4b4d9b94706a7e0563d74c"
       ],
       "layout": "IPY_MODEL_1583c845d96a41d0b4967dc3e3f1804e"
      }
     },
     "89286799f2544d0aac99ff08b030c463": {
      "model_module": "@jupyter-widgets/controls",
      "model_module_version": "2.0.0",
      "model_name": "HTMLStyleModel",
      "state": {
       "description_width": "",
       "font_size": null,
       "text_color": null
      }
     },
     "8961863ebb2b471e9aa61e38edda7006": {
      "model_module": "@jupyter-widgets/base",
      "model_module_version": "2.0.0",
      "model_name": "LayoutModel",
      "state": {}
     },
     "89c0e7918ea14580a3f20c446e4edc36": {
      "model_module": "@jupyter-widgets/controls",
      "model_module_version": "2.0.0",
      "model_name": "FloatProgressModel",
      "state": {
       "bar_style": "success",
       "layout": "IPY_MODEL_8a37f31122d24642a94c810cf13ded05",
       "max": 239,
       "style": "IPY_MODEL_f4ea92ee11394bc9bad3e4441bd5a91d",
       "value": 239
      }
     },
     "8a37f31122d24642a94c810cf13ded05": {
      "model_module": "@jupyter-widgets/base",
      "model_module_version": "2.0.0",
      "model_name": "LayoutModel",
      "state": {}
     },
     "8a962515bbf244698eb9d6b71bfb9010": {
      "model_module": "@jupyter-widgets/controls",
      "model_module_version": "2.0.0",
      "model_name": "FloatProgressModel",
      "state": {
       "bar_style": "success",
       "layout": "IPY_MODEL_de693f7f5ca14fe18a66036e18b89db1",
       "max": 7031645,
       "style": "IPY_MODEL_18785c11a8454cb0adb9588aae5a0cdd",
       "value": 7031645
      }
     },
     "8ad9744fe858412a8a77f494a51da373": {
      "model_module": "@jupyter-widgets/controls",
      "model_module_version": "2.0.0",
      "model_name": "HTMLStyleModel",
      "state": {
       "description_width": "",
       "font_size": null,
       "text_color": null
      }
     },
     "8afae158dcff478a994f4636d873151f": {
      "model_module": "@jupyter-widgets/controls",
      "model_module_version": "2.0.0",
      "model_name": "HTMLModel",
      "state": {
       "layout": "IPY_MODEL_cb874b4c655f453e9d9c8c7ffdc806b9",
       "style": "IPY_MODEL_1840623158c044329307f64a5f13c686",
       "value": " 13.2k/13.2k [00:00&lt;00:00, 507kB/s]"
      }
     },
     "8b5532d7d9184da4a41ac682fec822bc": {
      "model_module": "@jupyter-widgets/base",
      "model_module_version": "2.0.0",
      "model_name": "LayoutModel",
      "state": {}
     },
     "8b6f63b230da4463878cb104384e97ef": {
      "model_module": "@jupyter-widgets/controls",
      "model_module_version": "2.0.0",
      "model_name": "HTMLModel",
      "state": {
       "layout": "IPY_MODEL_aebea32eb3f74c6e9f5b8f336c54c5d2",
       "style": "IPY_MODEL_865f188fab324fbc94e7db75ff5f8fe8",
       "value": "model.safetensors: 100%"
      }
     },
     "8d4e9db4eb2a44b6ba8a455c766bd310": {
      "model_module": "@jupyter-widgets/controls",
      "model_module_version": "2.0.0",
      "model_name": "HTMLModel",
      "state": {
       "layout": "IPY_MODEL_397c1a12f92944158b45575a3380c192",
       "style": "IPY_MODEL_63119d66ac6d48a69f9e27c3e34cca72",
       "value": "README.md: 100%"
      }
     },
     "8e097edbe4404f3a853d2b468a3421be": {
      "model_module": "@jupyter-widgets/base",
      "model_module_version": "2.0.0",
      "model_name": "LayoutModel",
      "state": {}
     },
     "8e4bbdc3456a4701aac59583f62431fa": {
      "model_module": "@jupyter-widgets/base",
      "model_module_version": "2.0.0",
      "model_name": "LayoutModel",
      "state": {}
     },
     "8f016c7e762c4264b43d12e300c6389f": {
      "model_module": "@jupyter-widgets/controls",
      "model_module_version": "2.0.0",
      "model_name": "HBoxModel",
      "state": {
       "children": [
        "IPY_MODEL_e96e31c6169c4dc39f0a6cfbacd856e0",
        "IPY_MODEL_4a844d76eabe4ab8b38e94b5279bf64e",
        "IPY_MODEL_78fc3f7b0d0845b1aa2d6bab0d920f39"
       ],
       "layout": "IPY_MODEL_4022b96417b144c88e2e5b83f40e5e00"
      }
     },
     "8f5fee309ee348148c5d28f88ce32ccc": {
      "model_module": "@jupyter-widgets/controls",
      "model_module_version": "2.0.0",
      "model_name": "FloatProgressModel",
      "state": {
       "bar_style": "success",
       "layout": "IPY_MODEL_7f518194cd9c409aadf07ba92ddc34bc",
       "max": 437971872,
       "style": "IPY_MODEL_d4c8dc3c7ce14ffa9eba7859a119cd4b",
       "value": 437971872
      }
     },
     "909212cbde0c4e02958ec0fad7fae606": {
      "model_module": "@jupyter-widgets/controls",
      "model_module_version": "2.0.0",
      "model_name": "HTMLModel",
      "state": {
       "layout": "IPY_MODEL_128b32ea16ae4511b7d2545149d82c5d",
       "style": "IPY_MODEL_a6541c525be74cc2babd5c0603a662e3",
       "value": " 363/363 [00:00&lt;00:00, 12.5kB/s]"
      }
     },
     "90a215bc5b564716988ad46cad95a3ab": {
      "model_module": "@jupyter-widgets/controls",
      "model_module_version": "2.0.0",
      "model_name": "HTMLModel",
      "state": {
       "layout": "IPY_MODEL_2412bb01c01d4be0807208e69e963c7c",
       "style": "IPY_MODEL_302245c03d0545b899dd98c64853911c",
       "value": "special_tokens_map.json: 100%"
      }
     },
     "912a03cba40943c28a85780db9837143": {
      "model_module": "@jupyter-widgets/base",
      "model_module_version": "2.0.0",
      "model_name": "LayoutModel",
      "state": {}
     },
     "9152d783258243c7b513b58da6536be1": {
      "model_module": "@jupyter-widgets/base",
      "model_module_version": "2.0.0",
      "model_name": "LayoutModel",
      "state": {}
     },
     "9187d8c941054cea8004997000e24e05": {
      "model_module": "@jupyter-widgets/base",
      "model_module_version": "2.0.0",
      "model_name": "LayoutModel",
      "state": {}
     },
     "92439d2241de415eb6cc0ea5947ae557": {
      "model_module": "@jupyter-widgets/base",
      "model_module_version": "2.0.0",
      "model_name": "LayoutModel",
      "state": {}
     },
     "92c1248a235f4259be82ec2409c7c551": {
      "model_module": "@jupyter-widgets/base",
      "model_module_version": "2.0.0",
      "model_name": "LayoutModel",
      "state": {}
     },
     "94c01e1f2bca4109af1fb01bcad9e68a": {
      "model_module": "@jupyter-widgets/base",
      "model_module_version": "2.0.0",
      "model_name": "LayoutModel",
      "state": {}
     },
     "953a62956edd4d2bb9aa7ad973994d82": {
      "model_module": "@jupyter-widgets/base",
      "model_module_version": "2.0.0",
      "model_name": "LayoutModel",
      "state": {}
     },
     "95f7e2e850a14cde91b0e1261d08c857": {
      "model_module": "@jupyter-widgets/base",
      "model_module_version": "2.0.0",
      "model_name": "LayoutModel",
      "state": {}
     },
     "969a04f9741344e5a086d6efc8d1425d": {
      "model_module": "@jupyter-widgets/base",
      "model_module_version": "2.0.0",
      "model_name": "LayoutModel",
      "state": {}
     },
     "96fd52948a5c4f25b225010a8c68f3dc": {
      "model_module": "@jupyter-widgets/controls",
      "model_module_version": "2.0.0",
      "model_name": "HTMLStyleModel",
      "state": {
       "description_width": "",
       "font_size": null,
       "text_color": null
      }
     },
     "9807d8afcc1e49ba8113ec45906262ea": {
      "model_module": "@jupyter-widgets/base",
      "model_module_version": "2.0.0",
      "model_name": "LayoutModel",
      "state": {}
     },
     "9bd93e7b50b9475bb1db8004650c0cfc": {
      "model_module": "@jupyter-widgets/controls",
      "model_module_version": "2.0.0",
      "model_name": "HTMLStyleModel",
      "state": {
       "description_width": "",
       "font_size": null,
       "text_color": null
      }
     },
     "9c5af41c5aa24a1a9041d5c7ab6963b0": {
      "model_module": "@jupyter-widgets/controls",
      "model_module_version": "2.0.0",
      "model_name": "FloatProgressModel",
      "state": {
       "bar_style": "success",
       "layout": "IPY_MODEL_ba814cc1abd34e0ea3ec7b9902330f24",
       "max": 571,
       "style": "IPY_MODEL_644864c0f68b4f599225be8df4735f2e",
       "value": 571
      }
     },
     "9dba1d131f9f490195a3168c8672392c": {
      "model_module": "@jupyter-widgets/controls",
      "model_module_version": "2.0.0",
      "model_name": "HTMLModel",
      "state": {
       "layout": "IPY_MODEL_e6e71a170acd46a9b9e63a3435bee1bd",
       "style": "IPY_MODEL_a299c70b19c84aa3b084915c38f56959",
       "value": " 612/612 [00:00&lt;00:00, 22.8kB/s]"
      }
     },
     "9ecb2bb8f86744d3b2d62f2443902342": {
      "model_module": "@jupyter-widgets/controls",
      "model_module_version": "2.0.0",
      "model_name": "HBoxModel",
      "state": {
       "children": [
        "IPY_MODEL_188a067ce106416e9596a41972946b2e",
        "IPY_MODEL_4fb7257c538f462ca293a56b3caf6b9c",
        "IPY_MODEL_393e0e3ba09e406a9d720ee3a1aeb686"
       ],
       "layout": "IPY_MODEL_d4d06c74ee66442596cd6b314501ba85"
      }
     },
     "9ed3953e10ea4163853f3b3f9d2115ab": {
      "model_module": "@jupyter-widgets/controls",
      "model_module_version": "2.0.0",
      "model_name": "ProgressStyleModel",
      "state": {
       "description_width": ""
      }
     },
     "9f10356ea77942aa8cb05f18cac08e26": {
      "model_module": "@jupyter-widgets/base",
      "model_module_version": "2.0.0",
      "model_name": "LayoutModel",
      "state": {}
     },
     "9fdaea2415f24345a6eceedadbaccc99": {
      "model_module": "@jupyter-widgets/base",
      "model_module_version": "2.0.0",
      "model_name": "LayoutModel",
      "state": {}
     },
     "a0abd6b847be44ab95e2935bd61e97fe": {
      "model_module": "@jupyter-widgets/base",
      "model_module_version": "2.0.0",
      "model_name": "LayoutModel",
      "state": {}
     },
     "a0d65756c95243b78265fd5b71565ab8": {
      "model_module": "@jupyter-widgets/base",
      "model_module_version": "2.0.0",
      "model_name": "LayoutModel",
      "state": {}
     },
     "a19eae39ede649df8e90386842f84239": {
      "model_module": "@jupyter-widgets/controls",
      "model_module_version": "2.0.0",
      "model_name": "HTMLModel",
      "state": {
       "layout": "IPY_MODEL_cf21a6484ed0466aa73ffb6749545f09",
       "style": "IPY_MODEL_77e751c5cb424620a72ce60395e40c41",
       "value": " 116/116 [00:00&lt;00:00, 4.41kB/s]"
      }
     },
     "a1da910beefc4c14b3007a96c752fec1": {
      "model_module": "@jupyter-widgets/controls",
      "model_module_version": "2.0.0",
      "model_name": "HTMLStyleModel",
      "state": {
       "description_width": "",
       "font_size": null,
       "text_color": null
      }
     },
     "a1f4b6b0fd60463493570363d4935586": {
      "model_module": "@jupyter-widgets/controls",
      "model_module_version": "2.0.0",
      "model_name": "HTMLStyleModel",
      "state": {
       "description_width": "",
       "font_size": null,
       "text_color": null
      }
     },
     "a299c70b19c84aa3b084915c38f56959": {
      "model_module": "@jupyter-widgets/controls",
      "model_module_version": "2.0.0",
      "model_name": "HTMLStyleModel",
      "state": {
       "description_width": "",
       "font_size": null,
       "text_color": null
      }
     },
     "a2de731254bd4f8b85720943ff6beeea": {
      "model_module": "@jupyter-widgets/base",
      "model_module_version": "2.0.0",
      "model_name": "LayoutModel",
      "state": {}
     },
     "a429368a5e304101a0bee23f6be12a19": {
      "model_module": "@jupyter-widgets/base",
      "model_module_version": "2.0.0",
      "model_name": "LayoutModel",
      "state": {}
     },
     "a434f968f5964fd4b28162924a9ed050": {
      "model_module": "@jupyter-widgets/controls",
      "model_module_version": "2.0.0",
      "model_name": "HTMLModel",
      "state": {
       "layout": "IPY_MODEL_8b5532d7d9184da4a41ac682fec822bc",
       "style": "IPY_MODEL_bbcf4ad19cb6472297713209a4438ff7",
       "value": "pytorch_model.bin: 100%"
      }
     },
     "a465353cdb8649bf9b86296bef6e9709": {
      "model_module": "@jupyter-widgets/controls",
      "model_module_version": "2.0.0",
      "model_name": "HTMLStyleModel",
      "state": {
       "description_width": "",
       "font_size": null,
       "text_color": null
      }
     },
     "a46d049ebda44c85aef024bcdb34c4ce": {
      "model_module": "@jupyter-widgets/controls",
      "model_module_version": "2.0.0",
      "model_name": "FloatProgressModel",
      "state": {
       "bar_style": "success",
       "layout": "IPY_MODEL_6e677436eb23419784f9ecf35e50f4ff",
       "max": 190,
       "style": "IPY_MODEL_01ca3c47da5d45718d82b8f7cf8f208e",
       "value": 190
      }
     },
     "a4c7d809838140aeacd9f70a3a6cd7db": {
      "model_module": "@jupyter-widgets/controls",
      "model_module_version": "2.0.0",
      "model_name": "FloatProgressModel",
      "state": {
       "bar_style": "success",
       "layout": "IPY_MODEL_3a72b9b2646744f1824f83b94b56efdf",
       "max": 53,
       "style": "IPY_MODEL_17cb66acbde94701b1f6ebe636165252",
       "value": 53
      }
     },
     "a597938d97214d759344f2a2b64c0c51": {
      "model_module": "@jupyter-widgets/controls",
      "model_module_version": "2.0.0",
      "model_name": "HTMLModel",
      "state": {
       "layout": "IPY_MODEL_9f10356ea77942aa8cb05f18cac08e26",
       "style": "IPY_MODEL_f02359846bfa4803855290690db03fb6",
       "value": "tokenizer.json: 100%"
      }
     },
     "a5ae7ef869e54009ab330cc14a4a5b95": {
      "model_module": "@jupyter-widgets/controls",
      "model_module_version": "2.0.0",
      "model_name": "HBoxModel",
      "state": {
       "children": [
        "IPY_MODEL_dc24774d8c494bdda333d172b4c6bb00",
        "IPY_MODEL_3e3c2ecf8bf74026b9a914b5f24d8edb",
        "IPY_MODEL_311d8aba28cb4f6ab9a36d5eea11243c"
       ],
       "layout": "IPY_MODEL_3238084882464fd78ceac27fecbbe392"
      }
     },
     "a6541c525be74cc2babd5c0603a662e3": {
      "model_module": "@jupyter-widgets/controls",
      "model_module_version": "2.0.0",
      "model_name": "HTMLStyleModel",
      "state": {
       "description_width": "",
       "font_size": null,
       "text_color": null
      }
     },
     "a689b725412c4962bc682e2cdbbde3d5": {
      "model_module": "@jupyter-widgets/controls",
      "model_module_version": "2.0.0",
      "model_name": "HTMLModel",
      "state": {
       "layout": "IPY_MODEL_1db1d846f40842bfa9180ffd735cf820",
       "style": "IPY_MODEL_a1da910beefc4c14b3007a96c752fec1",
       "value": "README.md: 100%"
      }
     },
     "a6ada2b055a147d4bda2bb61150ebb5b": {
      "model_module": "@jupyter-widgets/controls",
      "model_module_version": "2.0.0",
      "model_name": "FloatProgressModel",
      "state": {
       "bar_style": "success",
       "layout": "IPY_MODEL_181e85606eb242f19198b34d4401c0e6",
       "max": 39265,
       "style": "IPY_MODEL_f0a746631fcb4e0a9aad0d787771e748",
       "value": 39265
      }
     },
     "a722e4384bd047c98030d4310e329f87": {
      "model_module": "@jupyter-widgets/base",
      "model_module_version": "2.0.0",
      "model_name": "LayoutModel",
      "state": {}
     },
     "a8257aa138b64cee8c7fbdaba0b6384f": {
      "model_module": "@jupyter-widgets/base",
      "model_module_version": "2.0.0",
      "model_name": "LayoutModel",
      "state": {}
     },
     "a8a289164bc54ac5be362d482657463f": {
      "model_module": "@jupyter-widgets/controls",
      "model_module_version": "2.0.0",
      "model_name": "HTMLModel",
      "state": {
       "layout": "IPY_MODEL_c754a28a62d14044867bae069fc9bf11",
       "style": "IPY_MODEL_b758321603ee4c55a4c28a0b6b7b5cc9",
       "value": "vocab.txt: 100%"
      }
     },
     "a8c054a8850b48018bcc27250dc07323": {
      "model_module": "@jupyter-widgets/base",
      "model_module_version": "2.0.0",
      "model_name": "LayoutModel",
      "state": {}
     },
     "aa4fceb80aa64c45b2029e0dad81948b": {
      "model_module": "@jupyter-widgets/controls",
      "model_module_version": "2.0.0",
      "model_name": "ProgressStyleModel",
      "state": {
       "description_width": ""
      }
     },
     "aaa7c553c68a4407a03c97f78b5a4149": {
      "model_module": "@jupyter-widgets/base",
      "model_module_version": "2.0.0",
      "model_name": "LayoutModel",
      "state": {}
     },
     "aabc3786d3644c909653e7de71cd6115": {
      "model_module": "@jupyter-widgets/base",
      "model_module_version": "2.0.0",
      "model_name": "LayoutModel",
      "state": {}
     },
     "ab7053ba332e41b4af413b9c44c24908": {
      "model_module": "@jupyter-widgets/controls",
      "model_module_version": "2.0.0",
      "model_name": "HTMLModel",
      "state": {
       "layout": "IPY_MODEL_46ac749474f442539640172e35799116",
       "style": "IPY_MODEL_6f446da4f91e475198deb1ecd5a70f71",
       "value": " 349/349 [00:00&lt;00:00, 13.5kB/s]"
      }
     },
     "ab7affc54d894a5fa5e61315330a7d6d": {
      "model_module": "@jupyter-widgets/controls",
      "model_module_version": "2.0.0",
      "model_name": "FloatProgressModel",
      "state": {
       "bar_style": "success",
       "layout": "IPY_MODEL_1f3bb29a27dc449798776b1c1dd0ca93",
       "max": 466021,
       "style": "IPY_MODEL_2b06549d8f664463834bf486597915a2",
       "value": 466021
      }
     },
     "ab99af75027d442aa9b6672c9e14f4c4": {
      "model_module": "@jupyter-widgets/controls",
      "model_module_version": "2.0.0",
      "model_name": "HTMLModel",
      "state": {
       "layout": "IPY_MODEL_aaa7c553c68a4407a03c97f78b5a4149",
       "style": "IPY_MODEL_3b0a92fad3684527ae547285c50ac0ea",
       "value": "data_config.json: 100%"
      }
     },
     "ac19d2a553a54a32ac05bfe95f19912b": {
      "model_module": "@jupyter-widgets/controls",
      "model_module_version": "2.0.0",
      "model_name": "HBoxModel",
      "state": {
       "children": [
        "IPY_MODEL_ed96d08629764cd08a722c2ec33f442a",
        "IPY_MODEL_ab7affc54d894a5fa5e61315330a7d6d",
        "IPY_MODEL_e5a7835fe7de437ab56418049da30c2b"
       ],
       "layout": "IPY_MODEL_c9819c275b4f4cf9a095ee938217fc1d"
      }
     },
     "aca31a8349a34870a07528d56e18bdd2": {
      "model_module": "@jupyter-widgets/controls",
      "model_module_version": "2.0.0",
      "model_name": "HBoxModel",
      "state": {
       "children": [
        "IPY_MODEL_8d4e9db4eb2a44b6ba8a455c766bd310",
        "IPY_MODEL_7841b660978c47df94dc866feb20e7f8",
        "IPY_MODEL_e34d5c86277446fc9ce447b368f47a2b"
       ],
       "layout": "IPY_MODEL_07cd27cbf10045c3a71723f000e2c17a"
      }
     },
     "ae010e7c275f496b9d0608e542857cfa": {
      "model_module": "@jupyter-widgets/controls",
      "model_module_version": "2.0.0",
      "model_name": "HBoxModel",
      "state": {
       "children": [
        "IPY_MODEL_123eefe9c94d48cbb9c0286156ab16f8",
        "IPY_MODEL_d62281ba7b5242939ba0318d8706b073",
        "IPY_MODEL_c6f2ae332d4147e4bb9eba4d1e1447a6"
       ],
       "layout": "IPY_MODEL_7f006ce84ffc4bf0b99f351f7b6e8076"
      }
     },
     "aea9d9156a2f4e04b34499f0d4c3aada": {
      "model_module": "@jupyter-widgets/controls",
      "model_module_version": "2.0.0",
      "model_name": "HTMLStyleModel",
      "state": {
       "description_width": "",
       "font_size": null,
       "text_color": null
      }
     },
     "aebea32eb3f74c6e9f5b8f336c54c5d2": {
      "model_module": "@jupyter-widgets/base",
      "model_module_version": "2.0.0",
      "model_name": "LayoutModel",
      "state": {}
     },
     "aec8bf7f49da4ebea206ea95ba47594c": {
      "model_module": "@jupyter-widgets/base",
      "model_module_version": "2.0.0",
      "model_name": "LayoutModel",
      "state": {}
     },
     "b03e3155fdf84373bd909fd083f66a85": {
      "model_module": "@jupyter-widgets/controls",
      "model_module_version": "2.0.0",
      "model_name": "HBoxModel",
      "state": {
       "children": [
        "IPY_MODEL_e151571b111f422a81aa83b4af12fed6",
        "IPY_MODEL_19b67d04ad9b47d0acb179bcd626b326",
        "IPY_MODEL_8afae158dcff478a994f4636d873151f"
       ],
       "layout": "IPY_MODEL_1e41dce0ec9b4aabbc1d1fcc5db20978"
      }
     },
     "b287dc1a795f4dd7a39e7a1f49f62bc4": {
      "model_module": "@jupyter-widgets/controls",
      "model_module_version": "2.0.0",
      "model_name": "HTMLModel",
      "state": {
       "layout": "IPY_MODEL_0fd7bed86a8f45cd9723b35c95967be1",
       "style": "IPY_MODEL_5a12b50f48f94abb8d072087dfb5eec2",
       "value": "vocab.txt: 100%"
      }
     },
     "b29a624eec604e9d8a0c5ec342fb4907": {
      "model_module": "@jupyter-widgets/controls",
      "model_module_version": "2.0.0",
      "model_name": "HTMLStyleModel",
      "state": {
       "description_width": "",
       "font_size": null,
       "text_color": null
      }
     },
     "b4b4f75de16d4a46b18854bceb7fe3bd": {
      "model_module": "@jupyter-widgets/controls",
      "model_module_version": "2.0.0",
      "model_name": "HTMLModel",
      "state": {
       "layout": "IPY_MODEL_7e81b50f87cd438b9536ec7e27ecced6",
       "style": "IPY_MODEL_22ed29389f7a40e397f3a5936779bb61",
       "value": " 1.67M/1.67M [00:00&lt;00:00, 34.0MB/s]"
      }
     },
     "b4cdbabdb50045399e32077be736a885": {
      "model_module": "@jupyter-widgets/base",
      "model_module_version": "2.0.0",
      "model_name": "LayoutModel",
      "state": {}
     },
     "b63f86ffb6d84136bd2b0ee7a9000116": {
      "model_module": "@jupyter-widgets/controls",
      "model_module_version": "2.0.0",
      "model_name": "HBoxModel",
      "state": {
       "children": [
        "IPY_MODEL_41477223587742c893c87681efbd41c7",
        "IPY_MODEL_26f89ff8e4c4400fbc06083cb127ef85",
        "IPY_MODEL_a19eae39ede649df8e90386842f84239"
       ],
       "layout": "IPY_MODEL_f2419382eff9490780b98cc276891534"
      }
     },
     "b6e2db66976742fcb6cb9f579713bd0f": {
      "model_module": "@jupyter-widgets/controls",
      "model_module_version": "2.0.0",
      "model_name": "HTMLStyleModel",
      "state": {
       "description_width": "",
       "font_size": null,
       "text_color": null
      }
     },
     "b70b3428f836468689deea75d28e977a": {
      "model_module": "@jupyter-widgets/base",
      "model_module_version": "2.0.0",
      "model_name": "LayoutModel",
      "state": {}
     },
     "b72648a1b6904b6ab2c40465a1a2fbd5": {
      "model_module": "@jupyter-widgets/controls",
      "model_module_version": "2.0.0",
      "model_name": "HTMLStyleModel",
      "state": {
       "description_width": "",
       "font_size": null,
       "text_color": null
      }
     },
     "b742a905b100461d9331ef1fedb778a2": {
      "model_module": "@jupyter-widgets/base",
      "model_module_version": "2.0.0",
      "model_name": "LayoutModel",
      "state": {}
     },
     "b758321603ee4c55a4c28a0b6b7b5cc9": {
      "model_module": "@jupyter-widgets/controls",
      "model_module_version": "2.0.0",
      "model_name": "HTMLStyleModel",
      "state": {
       "description_width": "",
       "font_size": null,
       "text_color": null
      }
     },
     "b7b649f452364323a8dba2bb2e89a3fd": {
      "model_module": "@jupyter-widgets/controls",
      "model_module_version": "2.0.0",
      "model_name": "HBoxModel",
      "state": {
       "children": [
        "IPY_MODEL_3d5639874adc4bed8b6e67a303e8a4b6",
        "IPY_MODEL_1711fb11625f4adf8a31b63dc0aecd16",
        "IPY_MODEL_909212cbde0c4e02958ec0fad7fae606"
       ],
       "layout": "IPY_MODEL_56d3490fe05c416e879ca5f3187ec8ff"
      }
     },
     "b9bc782b6feb495d9c41580072c7902e": {
      "model_module": "@jupyter-widgets/base",
      "model_module_version": "2.0.0",
      "model_name": "LayoutModel",
      "state": {}
     },
     "ba26b67a12f54ea5a0222aee39f88f27": {
      "model_module": "@jupyter-widgets/base",
      "model_module_version": "2.0.0",
      "model_name": "LayoutModel",
      "state": {}
     },
     "ba814cc1abd34e0ea3ec7b9902330f24": {
      "model_module": "@jupyter-widgets/base",
      "model_module_version": "2.0.0",
      "model_name": "LayoutModel",
      "state": {}
     },
     "bafca663a7e843ddb2f5bf2c33fd70ab": {
      "model_module": "@jupyter-widgets/controls",
      "model_module_version": "2.0.0",
      "model_name": "HTMLModel",
      "state": {
       "layout": "IPY_MODEL_9152d783258243c7b513b58da6536be1",
       "style": "IPY_MODEL_4bcc7febc8ce4001954cc63c811edd83",
       "value": "special_tokens_map.json: 100%"
      }
     },
     "bb1f2a9f66f84bd69207a1ab3f658817": {
      "model_module": "@jupyter-widgets/base",
      "model_module_version": "2.0.0",
      "model_name": "LayoutModel",
      "state": {}
     },
     "bbcf4ad19cb6472297713209a4438ff7": {
      "model_module": "@jupyter-widgets/controls",
      "model_module_version": "2.0.0",
      "model_name": "HTMLStyleModel",
      "state": {
       "description_width": "",
       "font_size": null,
       "text_color": null
      }
     },
     "bbfa9577083e4a72a46cbacfafdcb173": {
      "model_module": "@jupyter-widgets/base",
      "model_module_version": "2.0.0",
      "model_name": "LayoutModel",
      "state": {}
     },
     "bcba20b6fb174de9abff3e5e5d27c9d1": {
      "model_module": "@jupyter-widgets/controls",
      "model_module_version": "2.0.0",
      "model_name": "HTMLStyleModel",
      "state": {
       "description_width": "",
       "font_size": null,
       "text_color": null
      }
     },
     "be35165c31e74aae8f93bdf04fd3dc5b": {
      "model_module": "@jupyter-widgets/base",
      "model_module_version": "2.0.0",
      "model_name": "LayoutModel",
      "state": {}
     },
     "bfac959b0d344ff898347f5d766d2b17": {
      "model_module": "@jupyter-widgets/controls",
      "model_module_version": "2.0.0",
      "model_name": "HTMLStyleModel",
      "state": {
       "description_width": "",
       "font_size": null,
       "text_color": null
      }
     },
     "c04f9fc5e8264220a613f9a42b6b799b": {
      "model_module": "@jupyter-widgets/controls",
      "model_module_version": "2.0.0",
      "model_name": "HTMLStyleModel",
      "state": {
       "description_width": "",
       "font_size": null,
       "text_color": null
      }
     },
     "c0ecf07a31f643de82621d7feb653a5d": {
      "model_module": "@jupyter-widgets/controls",
      "model_module_version": "2.0.0",
      "model_name": "HBoxModel",
      "state": {
       "children": [
        "IPY_MODEL_e86d80700fc14192b1624b3498028162",
        "IPY_MODEL_d6ce5f7117b54310872973d6b193a10c",
        "IPY_MODEL_caaa1a9145654284aaac1c4251dfae4a"
       ],
       "layout": "IPY_MODEL_1c4338f9ff7d4b908fc8138aadebb2d9"
      }
     },
     "c192cd3ad03545f0a18b180ed84862ca": {
      "model_module": "@jupyter-widgets/controls",
      "model_module_version": "2.0.0",
      "model_name": "HTMLModel",
      "state": {
       "layout": "IPY_MODEL_c53909fe6f614285927e0eeb0d5178b4",
       "style": "IPY_MODEL_df55e7cece7a409f824f5cd38b18aa7c",
       "value": "config.json: 100%"
      }
     },
     "c25d3618d7ed474da018e92040bfecc6": {
      "model_module": "@jupyter-widgets/base",
      "model_module_version": "2.0.0",
      "model_name": "LayoutModel",
      "state": {}
     },
     "c53909fe6f614285927e0eeb0d5178b4": {
      "model_module": "@jupyter-widgets/base",
      "model_module_version": "2.0.0",
      "model_name": "LayoutModel",
      "state": {}
     },
     "c5497198bb47410982ab1243c03a8395": {
      "model_module": "@jupyter-widgets/controls",
      "model_module_version": "2.0.0",
      "model_name": "HTMLStyleModel",
      "state": {
       "description_width": "",
       "font_size": null,
       "text_color": null
      }
     },
     "c6f2ae332d4147e4bb9eba4d1e1447a6": {
      "model_module": "@jupyter-widgets/controls",
      "model_module_version": "2.0.0",
      "model_name": "HTMLModel",
      "state": {
       "layout": "IPY_MODEL_15a64684d8374c788c91101679d0cb74",
       "style": "IPY_MODEL_e769c3179dce4f398f39df20557e895b",
       "value": " 190/190 [00:00&lt;00:00, 7.01kB/s]"
      }
     },
     "c754a28a62d14044867bae069fc9bf11": {
      "model_module": "@jupyter-widgets/base",
      "model_module_version": "2.0.0",
      "model_name": "LayoutModel",
      "state": {}
     },
     "c939b9616e4b4d9b94706a7e0563d74c": {
      "model_module": "@jupyter-widgets/controls",
      "model_module_version": "2.0.0",
      "model_name": "HTMLModel",
      "state": {
       "layout": "IPY_MODEL_92c1248a235f4259be82ec2409c7c551",
       "style": "IPY_MODEL_c5497198bb47410982ab1243c03a8395",
       "value": " 988M/988M [00:09&lt;00:00, 119MB/s]"
      }
     },
     "c9819c275b4f4cf9a095ee938217fc1d": {
      "model_module": "@jupyter-widgets/base",
      "model_module_version": "2.0.0",
      "model_name": "LayoutModel",
      "state": {}
     },
     "c9b1021b36b344f49c9a5641c0702a83": {
      "model_module": "@jupyter-widgets/controls",
      "model_module_version": "2.0.0",
      "model_name": "HTMLModel",
      "state": {
       "layout": "IPY_MODEL_820a644f3ff14896b7d19bdcf192563c",
       "style": "IPY_MODEL_4810f96c89654cd8a3afc3aebfe85173",
       "value": " 1.23k/1.23k [00:00&lt;00:00, 44.7kB/s]"
      }
     },
     "c9d983ffb56d436d9a330db059fb9a48": {
      "model_module": "@jupyter-widgets/controls",
      "model_module_version": "2.0.0",
      "model_name": "ProgressStyleModel",
      "state": {
       "description_width": ""
      }
     },
     "caaa1a9145654284aaac1c4251dfae4a": {
      "model_module": "@jupyter-widgets/controls",
      "model_module_version": "2.0.0",
      "model_name": "HTMLModel",
      "state": {
       "layout": "IPY_MODEL_73dcf8f92fb84cac9ede47a200cb4243",
       "style": "IPY_MODEL_ed3dfed00ffe4ef490bae39c3cd4d6fc",
       "value": " 53.0/53.0 [00:00&lt;00:00, 1.90kB/s]"
      }
     },
     "cac38717a0da4c378223b1bf1f128e31": {
      "model_module": "@jupyter-widgets/base",
      "model_module_version": "2.0.0",
      "model_name": "LayoutModel",
      "state": {}
     },
     "cb874b4c655f453e9d9c8c7ffdc806b9": {
      "model_module": "@jupyter-widgets/base",
      "model_module_version": "2.0.0",
      "model_name": "LayoutModel",
      "state": {}
     },
     "cd2ed79640d24ad5803590430c732ea7": {
      "model_module": "@jupyter-widgets/controls",
      "model_module_version": "2.0.0",
      "model_name": "HBoxModel",
      "state": {
       "children": [
        "IPY_MODEL_d90a5dbab676432a916d314bc5ac8302",
        "IPY_MODEL_7b275d4ee5854c48873741894ecdb2af",
        "IPY_MODEL_12e00e030bd1460a9a2496d4f01b393a"
       ],
       "layout": "IPY_MODEL_26f1f40fdd31498f9c77398e2e6150ee"
      }
     },
     "cdb14339f32d417189d65def85deee38": {
      "model_module": "@jupyter-widgets/base",
      "model_module_version": "2.0.0",
      "model_name": "LayoutModel",
      "state": {}
     },
     "ce56fc90d0b845f49e7b65f725395c97": {
      "model_module": "@jupyter-widgets/controls",
      "model_module_version": "2.0.0",
      "model_name": "HBoxModel",
      "state": {
       "children": [
        "IPY_MODEL_0c636739e6c14b8c8dc23069ecdd2e7b",
        "IPY_MODEL_56e136197b2040baa9ef2824df379ea7",
        "IPY_MODEL_15d2e4eca6a741beb5674bca1246fc8f"
       ],
       "layout": "IPY_MODEL_fed3eae554d84b1087df4b8de2a3fe30"
      }
     },
     "cf21a6484ed0466aa73ffb6749545f09": {
      "model_module": "@jupyter-widgets/base",
      "model_module_version": "2.0.0",
      "model_name": "LayoutModel",
      "state": {}
     },
     "cf57f127c8344a95b23ec7a8393d0112": {
      "model_module": "@jupyter-widgets/controls",
      "model_module_version": "2.0.0",
      "model_name": "HBoxModel",
      "state": {
       "children": [
        "IPY_MODEL_16ffb72eb0b44de585d1538fda8e3fb0",
        "IPY_MODEL_684f21799d834df7a2778ff9c34ee4cc",
        "IPY_MODEL_5e5136b060d4417ea3f521c365ecb648"
       ],
       "layout": "IPY_MODEL_be35165c31e74aae8f93bdf04fd3dc5b"
      }
     },
     "d0b435d5f7d644faa123d9b338bb66c4": {
      "model_module": "@jupyter-widgets/controls",
      "model_module_version": "2.0.0",
      "model_name": "HBoxModel",
      "state": {
       "children": [
        "IPY_MODEL_0a56b75bf7cc40279fbe0f40ff7d8bf3",
        "IPY_MODEL_a46d049ebda44c85aef024bcdb34c4ce",
        "IPY_MODEL_4f4362210a794742bf349183b66d9b90"
       ],
       "layout": "IPY_MODEL_1651ffca513e4308bf20250a57de518b"
      }
     },
     "d1c578d2b31e4145a51a1e42156d7972": {
      "model_module": "@jupyter-widgets/controls",
      "model_module_version": "2.0.0",
      "model_name": "HTMLModel",
      "state": {
       "layout": "IPY_MODEL_aec8bf7f49da4ebea206ea95ba47594c",
       "style": "IPY_MODEL_f19b77d048254ea1a5eaaabe4d20f516",
       "value": " 7.30k/7.30k [00:00&lt;00:00, 279kB/s]"
      }
     },
     "d34d0b7aff744f078d8b6982e4e7625c": {
      "model_module": "@jupyter-widgets/controls",
      "model_module_version": "2.0.0",
      "model_name": "FloatProgressModel",
      "state": {
       "bar_style": "success",
       "layout": "IPY_MODEL_a429368a5e304101a0bee23f6be12a19",
       "max": 231508,
       "style": "IPY_MODEL_5a824b1a01dd4e4ca1420cade8d94870",
       "value": 231508
      }
     },
     "d3ad42949e3749c7b8f7f0e50f59e42e": {
      "model_module": "@jupyter-widgets/controls",
      "model_module_version": "2.0.0",
      "model_name": "FloatProgressModel",
      "state": {
       "bar_style": "success",
       "layout": "IPY_MODEL_84e6ffbd52264927be9019c5944fdf04",
       "max": 1229,
       "style": "IPY_MODEL_791a264a13d644c68c73f54139766554",
       "value": 1229
      }
     },
     "d3c420a94d1a44e38f6a72621d8205b2": {
      "model_module": "@jupyter-widgets/base",
      "model_module_version": "2.0.0",
      "model_name": "LayoutModel",
      "state": {}
     },
     "d4940b6484334a33b573dc658998d8cd": {
      "model_module": "@jupyter-widgets/controls",
      "model_module_version": "2.0.0",
      "model_name": "FloatProgressModel",
      "state": {
       "bar_style": "success",
       "layout": "IPY_MODEL_c25d3618d7ed474da018e92040bfecc6",
       "max": 1671839,
       "style": "IPY_MODEL_1dc2be92b0ee40388c79cdd068dff913",
       "value": 1671839
      }
     },
     "d4c8dc3c7ce14ffa9eba7859a119cd4b": {
      "model_module": "@jupyter-widgets/controls",
      "model_module_version": "2.0.0",
      "model_name": "ProgressStyleModel",
      "state": {
       "description_width": ""
      }
     },
     "d4cd9b247c9648c6b9a3bf4eeb973a35": {
      "model_module": "@jupyter-widgets/controls",
      "model_module_version": "2.0.0",
      "model_name": "ProgressStyleModel",
      "state": {
       "description_width": ""
      }
     },
     "d4d06c74ee66442596cd6b314501ba85": {
      "model_module": "@jupyter-widgets/base",
      "model_module_version": "2.0.0",
      "model_name": "LayoutModel",
      "state": {}
     },
     "d560329ab0ff436984b1e3b84a340706": {
      "model_module": "@jupyter-widgets/controls",
      "model_module_version": "2.0.0",
      "model_name": "HTMLStyleModel",
      "state": {
       "description_width": "",
       "font_size": null,
       "text_color": null
      }
     },
     "d575fec54b4646e495f7f28195274869": {
      "model_module": "@jupyter-widgets/base",
      "model_module_version": "2.0.0",
      "model_name": "LayoutModel",
      "state": {}
     },
     "d5decf3217274aa8b5accc1d476dd1c9": {
      "model_module": "@jupyter-widgets/controls",
      "model_module_version": "2.0.0",
      "model_name": "HTMLModel",
      "state": {
       "layout": "IPY_MODEL_9807d8afcc1e49ba8113ec45906262ea",
       "style": "IPY_MODEL_b72648a1b6904b6ab2c40465a1a2fbd5",
       "value": "data_config.json: 100%"
      }
     },
     "d62281ba7b5242939ba0318d8706b073": {
      "model_module": "@jupyter-widgets/controls",
      "model_module_version": "2.0.0",
      "model_name": "FloatProgressModel",
      "state": {
       "bar_style": "success",
       "layout": "IPY_MODEL_154c5bb4bf8e4664926d1be18a3b2c1d",
       "max": 190,
       "style": "IPY_MODEL_3cc6146eb1794d17b32c6e8c4bd88b13",
       "value": 190
      }
     },
     "d6ce5f7117b54310872973d6b193a10c": {
      "model_module": "@jupyter-widgets/controls",
      "model_module_version": "2.0.0",
      "model_name": "FloatProgressModel",
      "state": {
       "bar_style": "success",
       "layout": "IPY_MODEL_3020ff2e16dd4e7894d7e215b650682a",
       "max": 53,
       "style": "IPY_MODEL_aa4fceb80aa64c45b2029e0dad81948b",
       "value": 53
      }
     },
     "d6fab8e1c3024fbab970bfcda87c385e": {
      "model_module": "@jupyter-widgets/base",
      "model_module_version": "2.0.0",
      "model_name": "LayoutModel",
      "state": {}
     },
     "d7124d06a99d47009da3b9e91df6e7a9": {
      "model_module": "@jupyter-widgets/controls",
      "model_module_version": "2.0.0",
      "model_name": "HTMLModel",
      "state": {
       "layout": "IPY_MODEL_d575fec54b4646e495f7f28195274869",
       "style": "IPY_MODEL_a1f4b6b0fd60463493570363d4935586",
       "value": ".gitattributes: 100%"
      }
     },
     "d89f6376225f498bb16ba433d62b1e72": {
      "model_module": "@jupyter-widgets/controls",
      "model_module_version": "2.0.0",
      "model_name": "HTMLStyleModel",
      "state": {
       "description_width": "",
       "font_size": null,
       "text_color": null
      }
     },
     "d90a5dbab676432a916d314bc5ac8302": {
      "model_module": "@jupyter-widgets/controls",
      "model_module_version": "2.0.0",
      "model_name": "HTMLModel",
      "state": {
       "layout": "IPY_MODEL_02235d6e14284759a29f11028bc49fc5",
       "style": "IPY_MODEL_89286799f2544d0aac99ff08b030c463",
       "value": "train_script.py: 100%"
      }
     },
     "dc24774d8c494bdda333d172b4c6bb00": {
      "model_module": "@jupyter-widgets/controls",
      "model_module_version": "2.0.0",
      "model_name": "HTMLModel",
      "state": {
       "layout": "IPY_MODEL_4eafa5549c1d424da7773ec0505b7cff",
       "style": "IPY_MODEL_5e7f76968e914049a49515e10103c809",
       "value": "modules.json: 100%"
      }
     },
     "dc5cb3cf6b9c4628b42aed624edd97cc": {
      "model_module": "@jupyter-widgets/base",
      "model_module_version": "2.0.0",
      "model_name": "LayoutModel",
      "state": {}
     },
     "dcf72e88ab0c4b17886ab5df27842ade": {
      "model_module": "@jupyter-widgets/controls",
      "model_module_version": "2.0.0",
      "model_name": "HTMLStyleModel",
      "state": {
       "description_width": "",
       "font_size": null,
       "text_color": null
      }
     },
     "de0f45845df1454da0c88e0dbf240547": {
      "model_module": "@jupyter-widgets/base",
      "model_module_version": "2.0.0",
      "model_name": "LayoutModel",
      "state": {}
     },
     "de0ff89a219d4e0a98bbd904982cbf2d": {
      "model_module": "@jupyter-widgets/controls",
      "model_module_version": "2.0.0",
      "model_name": "FloatProgressModel",
      "state": {
       "bar_style": "success",
       "layout": "IPY_MODEL_4802a9f31e0a4fc597df5f9601e31393",
       "max": 988097824,
       "style": "IPY_MODEL_727bebdaffd04529bd3881a93b527f58",
       "value": 988097824
      }
     },
     "de693f7f5ca14fe18a66036e18b89db1": {
      "model_module": "@jupyter-widgets/base",
      "model_module_version": "2.0.0",
      "model_name": "LayoutModel",
      "state": {}
     },
     "de6a7f35df834cfb87692fe185c363c0": {
      "model_module": "@jupyter-widgets/base",
      "model_module_version": "2.0.0",
      "model_name": "LayoutModel",
      "state": {}
     },
     "de91103c3527432f9596e47c259f79e9": {
      "model_module": "@jupyter-widgets/controls",
      "model_module_version": "2.0.0",
      "model_name": "HTMLStyleModel",
      "state": {
       "description_width": "",
       "font_size": null,
       "text_color": null
      }
     },
     "ded83f97a0e14497b1fecd5b1834a888": {
      "model_module": "@jupyter-widgets/base",
      "model_module_version": "2.0.0",
      "model_name": "LayoutModel",
      "state": {}
     },
     "df41b946f4914c61ae8b54fe6335da12": {
      "model_module": "@jupyter-widgets/base",
      "model_module_version": "2.0.0",
      "model_name": "LayoutModel",
      "state": {}
     },
     "df55e7cece7a409f824f5cd38b18aa7c": {
      "model_module": "@jupyter-widgets/controls",
      "model_module_version": "2.0.0",
      "model_name": "HTMLStyleModel",
      "state": {
       "description_width": "",
       "font_size": null,
       "text_color": null
      }
     },
     "dfb577ab912e4424a551dd2bfe2e5bb2": {
      "model_module": "@jupyter-widgets/controls",
      "model_module_version": "2.0.0",
      "model_name": "FloatProgressModel",
      "state": {
       "bar_style": "success",
       "layout": "IPY_MODEL_aabc3786d3644c909653e7de71cd6115",
       "max": 1229,
       "style": "IPY_MODEL_76edf17152704b5d8f15519de6d57503",
       "value": 1229
      }
     },
     "e0a816077f8747ba95bf83bf5902e7a7": {
      "model_module": "@jupyter-widgets/controls",
      "model_module_version": "2.0.0",
      "model_name": "HTMLStyleModel",
      "state": {
       "description_width": "",
       "font_size": null,
       "text_color": null
      }
     },
     "e151571b111f422a81aa83b4af12fed6": {
      "model_module": "@jupyter-widgets/controls",
      "model_module_version": "2.0.0",
      "model_name": "HTMLModel",
      "state": {
       "layout": "IPY_MODEL_912a03cba40943c28a85780db9837143",
       "style": "IPY_MODEL_5b58b3827c9941d7887d49de65ce4882",
       "value": "train_script.py: 100%"
      }
     },
     "e1aee7f7c3d94b54b28a8b4a98e03072": {
      "model_module": "@jupyter-widgets/base",
      "model_module_version": "2.0.0",
      "model_name": "LayoutModel",
      "state": {}
     },
     "e1da2b564f6742a4a19c09aba1f8040f": {
      "model_module": "@jupyter-widgets/controls",
      "model_module_version": "2.0.0",
      "model_name": "HBoxModel",
      "state": {
       "children": [
        "IPY_MODEL_a689b725412c4962bc682e2cdbbde3d5",
        "IPY_MODEL_62bedff36c0c461199f3cac64fee5382",
        "IPY_MODEL_2364c372358947a99e90c66e026ba115"
       ],
       "layout": "IPY_MODEL_4d3071c3f407491d857f4a0d62c26e96"
      }
     },
     "e34baf1db7624e639c3044ebc74f5d30": {
      "model_module": "@jupyter-widgets/controls",
      "model_module_version": "2.0.0",
      "model_name": "HBoxModel",
      "state": {
       "children": [
        "IPY_MODEL_813a97015c25497bb8b4ba539b12c076",
        "IPY_MODEL_5e756278ce6644bda9b3234cd2a9e094",
        "IPY_MODEL_5764c43c95ff4038a98440c5012bdfd7"
       ],
       "layout": "IPY_MODEL_2b2465f400db4ff8a842ea79c9ddd2a1"
      }
     },
     "e34d5c86277446fc9ce447b368f47a2b": {
      "model_module": "@jupyter-widgets/controls",
      "model_module_version": "2.0.0",
      "model_name": "HTMLModel",
      "state": {
       "layout": "IPY_MODEL_e6963daebe494d549f057a25982a4c24",
       "style": "IPY_MODEL_34e4f78ad2eb445c875417d97ad802ca",
       "value": " 10.7k/10.7k [00:00&lt;00:00, 401kB/s]"
      }
     },
     "e3b6353e4a8c48e182f47f57f2a908a7": {
      "model_module": "@jupyter-widgets/controls",
      "model_module_version": "2.0.0",
      "model_name": "HTMLStyleModel",
      "state": {
       "description_width": "",
       "font_size": null,
       "text_color": null
      }
     },
     "e4821c66de1744978881e4098e076517": {
      "model_module": "@jupyter-widgets/controls",
      "model_module_version": "2.0.0",
      "model_name": "HTMLModel",
      "state": {
       "layout": "IPY_MODEL_a722e4384bd047c98030d4310e329f87",
       "style": "IPY_MODEL_ee446053c7c54109a8069f8c3dfebd87",
       "value": " 1.23k/1.23k [00:00&lt;00:00, 38.9kB/s]"
      }
     },
     "e544d531feff4eb98f5a0c527fe1974d": {
      "model_module": "@jupyter-widgets/controls",
      "model_module_version": "2.0.0",
      "model_name": "HBoxModel",
      "state": {
       "children": [
        "IPY_MODEL_e8336a7ae7c84afbb6888276422a7a0d",
        "IPY_MODEL_68046f3886fd4705bbb464aca2a06061",
        "IPY_MODEL_ab7053ba332e41b4af413b9c44c24908"
       ],
       "layout": "IPY_MODEL_bb1f2a9f66f84bd69207a1ab3f658817"
      }
     },
     "e54c835e35f54f15a365569403f486a7": {
      "model_module": "@jupyter-widgets/controls",
      "model_module_version": "2.0.0",
      "model_name": "HBoxModel",
      "state": {
       "children": [
        "IPY_MODEL_bafca663a7e843ddb2f5bf2c33fd70ab",
        "IPY_MODEL_314ddf8bf715407b805da012777aaf16",
        "IPY_MODEL_024be64ba4b54209b8a37e0b1c7bcbb4"
       ],
       "layout": "IPY_MODEL_253e5a6bb0ad4d6ba5e3eda13fb6ee19"
      }
     },
     "e5a7835fe7de437ab56418049da30c2b": {
      "model_module": "@jupyter-widgets/controls",
      "model_module_version": "2.0.0",
      "model_name": "HTMLModel",
      "state": {
       "layout": "IPY_MODEL_1582d20f8f8b495090ce8421ae2c4737",
       "style": "IPY_MODEL_218b38f5b13f4989ab7d40865611c808",
       "value": " 466k/466k [00:00&lt;00:00, 1.27MB/s]"
      }
     },
     "e6963daebe494d549f057a25982a4c24": {
      "model_module": "@jupyter-widgets/base",
      "model_module_version": "2.0.0",
      "model_name": "LayoutModel",
      "state": {}
     },
     "e6e71a170acd46a9b9e63a3435bee1bd": {
      "model_module": "@jupyter-widgets/base",
      "model_module_version": "2.0.0",
      "model_name": "LayoutModel",
      "state": {}
     },
     "e769c3179dce4f398f39df20557e895b": {
      "model_module": "@jupyter-widgets/controls",
      "model_module_version": "2.0.0",
      "model_name": "HTMLStyleModel",
      "state": {
       "description_width": "",
       "font_size": null,
       "text_color": null
      }
     },
     "e7777a09cda143e48e56c32e7e33ed41": {
      "model_module": "@jupyter-widgets/base",
      "model_module_version": "2.0.0",
      "model_name": "LayoutModel",
      "state": {}
     },
     "e7c2150f3e704013b6ca9a52d301fc7a": {
      "model_module": "@jupyter-widgets/controls",
      "model_module_version": "2.0.0",
      "model_name": "HTMLModel",
      "state": {
       "layout": "IPY_MODEL_e1aee7f7c3d94b54b28a8b4a98e03072",
       "style": "IPY_MODEL_802d4e00356149c5b3f4712302aab313",
       "value": "config.json: 100%"
      }
     },
     "e8336a7ae7c84afbb6888276422a7a0d": {
      "model_module": "@jupyter-widgets/controls",
      "model_module_version": "2.0.0",
      "model_name": "HTMLModel",
      "state": {
       "layout": "IPY_MODEL_47ac106ee7e04388a650d4bce53a1fa0",
       "style": "IPY_MODEL_bcba20b6fb174de9abff3e5e5d27c9d1",
       "value": "modules.json: 100%"
      }
     },
     "e86d80700fc14192b1624b3498028162": {
      "model_module": "@jupyter-widgets/controls",
      "model_module_version": "2.0.0",
      "model_name": "HTMLModel",
      "state": {
       "layout": "IPY_MODEL_0f1d9c04a95d460cb6004f4f92a24591",
       "style": "IPY_MODEL_183c80d2949a4c4b855282e4992b9b77",
       "value": "sentence_bert_config.json: 100%"
      }
     },
     "e9381a26c153473b909ef34966e57d77": {
      "model_module": "@jupyter-widgets/controls",
      "model_module_version": "2.0.0",
      "model_name": "ProgressStyleModel",
      "state": {
       "description_width": ""
      }
     },
     "e96e31c6169c4dc39f0a6cfbacd856e0": {
      "model_module": "@jupyter-widgets/controls",
      "model_module_version": "2.0.0",
      "model_name": "HTMLModel",
      "state": {
       "layout": "IPY_MODEL_34f38156cea14839949d554ead996ba0",
       "style": "IPY_MODEL_b29a624eec604e9d8a0c5ec342fb4907",
       "value": "model.safetensors: 100%"
      }
     },
     "e9ed4157195f400794970bee1cbe1cbd": {
      "model_module": "@jupyter-widgets/controls",
      "model_module_version": "2.0.0",
      "model_name": "HTMLStyleModel",
      "state": {
       "description_width": "",
       "font_size": null,
       "text_color": null
      }
     },
     "ea006c783cda44e0a004e76daf27e263": {
      "model_module": "@jupyter-widgets/controls",
      "model_module_version": "2.0.0",
      "model_name": "HTMLModel",
      "state": {
       "layout": "IPY_MODEL_d6fab8e1c3024fbab970bfcda87c385e",
       "style": "IPY_MODEL_d89f6376225f498bb16ba433d62b1e72",
       "value": " 2.78M/2.78M [00:00&lt;00:00, 4.11MB/s]"
      }
     },
     "ea94684450f747b0ab7e1c89eb9d1a93": {
      "model_module": "@jupyter-widgets/controls",
      "model_module_version": "2.0.0",
      "model_name": "HTMLStyleModel",
      "state": {
       "description_width": "",
       "font_size": null,
       "text_color": null
      }
     },
     "ea994966ce1541128bf7c11bfd2a5a65": {
      "model_module": "@jupyter-widgets/controls",
      "model_module_version": "2.0.0",
      "model_name": "FloatProgressModel",
      "state": {
       "bar_style": "success",
       "layout": "IPY_MODEL_6ab79c83758b4ef2a8259fb74d34604e",
       "max": 612,
       "style": "IPY_MODEL_69d0b86e29294e7881c5b9c4f288edc1",
       "value": 612
      }
     },
     "eada2f8e74d8458981880253295ababa": {
      "model_module": "@jupyter-widgets/controls",
      "model_module_version": "2.0.0",
      "model_name": "FloatProgressModel",
      "state": {
       "bar_style": "success",
       "layout": "IPY_MODEL_b742a905b100461d9331ef1fedb778a2",
       "max": 659,
       "style": "IPY_MODEL_7453d5c4e6e94f4eadbca89fa127e674",
       "value": 659
      }
     },
     "ece6a98bdf1c4ea2a7fab3f0d167c115": {
      "model_module": "@jupyter-widgets/controls",
      "model_module_version": "2.0.0",
      "model_name": "HTMLStyleModel",
      "state": {
       "description_width": "",
       "font_size": null,
       "text_color": null
      }
     },
     "ed3dfed00ffe4ef490bae39c3cd4d6fc": {
      "model_module": "@jupyter-widgets/controls",
      "model_module_version": "2.0.0",
      "model_name": "HTMLStyleModel",
      "state": {
       "description_width": "",
       "font_size": null,
       "text_color": null
      }
     },
     "ed96d08629764cd08a722c2ec33f442a": {
      "model_module": "@jupyter-widgets/controls",
      "model_module_version": "2.0.0",
      "model_name": "HTMLModel",
      "state": {
       "layout": "IPY_MODEL_7e5bf3153b774f558105c13da3047d64",
       "style": "IPY_MODEL_4e7be498ec554d37bfd2fa6d4080ef35",
       "value": "tokenizer.json: 100%"
      }
     },
     "ee446053c7c54109a8069f8c3dfebd87": {
      "model_module": "@jupyter-widgets/controls",
      "model_module_version": "2.0.0",
      "model_name": "HTMLStyleModel",
      "state": {
       "description_width": "",
       "font_size": null,
       "text_color": null
      }
     },
     "f0041764d2404d529213b1330e7f2342": {
      "model_module": "@jupyter-widgets/base",
      "model_module_version": "2.0.0",
      "model_name": "LayoutModel",
      "state": {}
     },
     "f02359846bfa4803855290690db03fb6": {
      "model_module": "@jupyter-widgets/controls",
      "model_module_version": "2.0.0",
      "model_name": "HTMLStyleModel",
      "state": {
       "description_width": "",
       "font_size": null,
       "text_color": null
      }
     },
     "f0a746631fcb4e0a9aad0d787771e748": {
      "model_module": "@jupyter-widgets/controls",
      "model_module_version": "2.0.0",
      "model_name": "ProgressStyleModel",
      "state": {
       "description_width": ""
      }
     },
     "f16e0a9753a04cba8ad189c90e8c3ac9": {
      "model_module": "@jupyter-widgets/controls",
      "model_module_version": "2.0.0",
      "model_name": "HBoxModel",
      "state": {
       "children": [
        "IPY_MODEL_399fea03e3d84d4bb593f58e8f01f5ed",
        "IPY_MODEL_9c5af41c5aa24a1a9041d5c7ab6963b0",
        "IPY_MODEL_105661c656a442a8a9a80b3efddc6285"
       ],
       "layout": "IPY_MODEL_0dffad093b3b42e0846d03b2aaf9e9c4"
      }
     },
     "f19b77d048254ea1a5eaaabe4d20f516": {
      "model_module": "@jupyter-widgets/controls",
      "model_module_version": "2.0.0",
      "model_name": "HTMLStyleModel",
      "state": {
       "description_width": "",
       "font_size": null,
       "text_color": null
      }
     },
     "f1b3e0a0623245938e1b96c03d5ab82b": {
      "model_module": "@jupyter-widgets/base",
      "model_module_version": "2.0.0",
      "model_name": "LayoutModel",
      "state": {}
     },
     "f2419382eff9490780b98cc276891534": {
      "model_module": "@jupyter-widgets/base",
      "model_module_version": "2.0.0",
      "model_name": "LayoutModel",
      "state": {}
     },
     "f2a849c618b1465eb9f24ade6341e338": {
      "model_module": "@jupyter-widgets/controls",
      "model_module_version": "2.0.0",
      "model_name": "ProgressStyleModel",
      "state": {
       "description_width": ""
      }
     },
     "f3cf854e70d444ae806e29682cb8d3a3": {
      "model_module": "@jupyter-widgets/controls",
      "model_module_version": "2.0.0",
      "model_name": "HBoxModel",
      "state": {
       "children": [
        "IPY_MODEL_20b08019370b4557b7c523dce7eaa5c5",
        "IPY_MODEL_8f5fee309ee348148c5d28f88ce32ccc",
        "IPY_MODEL_6dcb729ee5294b1180e98cb769d01592"
       ],
       "layout": "IPY_MODEL_f0041764d2404d529213b1330e7f2342"
      }
     },
     "f41ca2e06dad42bd91c7d76599e24a60": {
      "model_module": "@jupyter-widgets/controls",
      "model_module_version": "2.0.0",
      "model_name": "ProgressStyleModel",
      "state": {
       "description_width": ""
      }
     },
     "f49a3219ebb54834880944013b8d9877": {
      "model_module": "@jupyter-widgets/controls",
      "model_module_version": "2.0.0",
      "model_name": "FloatProgressModel",
      "state": {
       "bar_style": "success",
       "layout": "IPY_MODEL_73a6d90c51784869a4496769282ca5e4",
       "max": 466247,
       "style": "IPY_MODEL_1c3252643c63419bb7a5887bc2fff38c",
       "value": 466247
      }
     },
     "f4ea92ee11394bc9bad3e4441bd5a91d": {
      "model_module": "@jupyter-widgets/controls",
      "model_module_version": "2.0.0",
      "model_name": "ProgressStyleModel",
      "state": {
       "description_width": ""
      }
     },
     "f6dc1e24dcbc431a88f3d4fca18d3e67": {
      "model_module": "@jupyter-widgets/base",
      "model_module_version": "2.0.0",
      "model_name": "LayoutModel",
      "state": {}
     },
     "fab5a6806c1d4b75abfb0408911b652f": {
      "model_module": "@jupyter-widgets/controls",
      "model_module_version": "2.0.0",
      "model_name": "HTMLStyleModel",
      "state": {
       "description_width": "",
       "font_size": null,
       "text_color": null
      }
     },
     "fc39a54a341942bcabc4f810249a88e2": {
      "model_module": "@jupyter-widgets/controls",
      "model_module_version": "2.0.0",
      "model_name": "HTMLStyleModel",
      "state": {
       "description_width": "",
       "font_size": null,
       "text_color": null
      }
     },
     "fc72529cc112447885e30a30638e2442": {
      "model_module": "@jupyter-widgets/controls",
      "model_module_version": "2.0.0",
      "model_name": "HTMLStyleModel",
      "state": {
       "description_width": "",
       "font_size": null,
       "text_color": null
      }
     },
     "fca299d2f9e746d0968f4a09b366f2cb": {
      "model_module": "@jupyter-widgets/base",
      "model_module_version": "2.0.0",
      "model_name": "LayoutModel",
      "state": {}
     },
     "fcf4afddf19840c18c10a11e434279d9": {
      "model_module": "@jupyter-widgets/base",
      "model_module_version": "2.0.0",
      "model_name": "LayoutModel",
      "state": {}
     },
     "fed3eae554d84b1087df4b8de2a3fe30": {
      "model_module": "@jupyter-widgets/base",
      "model_module_version": "2.0.0",
      "model_name": "LayoutModel",
      "state": {}
     },
     "ff634010dfa44df1bdc77bc4b2219074": {
      "model_module": "@jupyter-widgets/base",
      "model_module_version": "2.0.0",
      "model_name": "LayoutModel",
      "state": {}
     }
    },
    "version_major": 2,
    "version_minor": 0
   }
  }
 },
 "nbformat": 4,
 "nbformat_minor": 4
}
